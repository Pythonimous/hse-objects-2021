{
 "cells": [
  {
   "cell_type": "code",
   "execution_count": 1,
   "id": "metric-chosen",
   "metadata": {},
   "outputs": [],
   "source": [
    "import pandas as pd\n",
    "import numpy as np"
   ]
  },
  {
   "cell_type": "code",
   "execution_count": 2,
   "id": "statewide-reporter",
   "metadata": {},
   "outputs": [],
   "source": [
    "import os\n",
    "from tqdm.notebook import tqdm"
   ]
  },
  {
   "cell_type": "code",
   "execution_count": 3,
   "id": "entitled-retreat",
   "metadata": {},
   "outputs": [],
   "source": [
    "os.chdir('yelp_academic')"
   ]
  },
  {
   "cell_type": "code",
   "execution_count": 4,
   "id": "naked-mumbai",
   "metadata": {},
   "outputs": [],
   "source": [
    "br_train = pd.read_csv('data/business_restaurant/train.csv')\n",
    "br_dev = pd.read_csv('data/business_restaurant/dev.csv')\n",
    "br_test = pd.read_csv('data/business_restaurant/test.csv')"
   ]
  },
  {
   "cell_type": "code",
   "execution_count": 5,
   "id": "buried-ceiling",
   "metadata": {},
   "outputs": [],
   "source": [
    "X_train_files, y_train = list(br_train.photo_id) + list(br_dev.photo_id), list(br_train.restaurant) + list(br_dev.restaurant)\n",
    "X_test_files, y_test = list(br_test.photo_id), list(br_test.restaurant)"
   ]
  },
  {
   "cell_type": "code",
   "execution_count": 6,
   "id": "sorted-emission",
   "metadata": {},
   "outputs": [],
   "source": [
    "features = np.load('data/transfer_features/resnet_features.npz', allow_pickle = True)['arr_0'][()]"
   ]
  },
  {
   "cell_type": "code",
   "execution_count": 7,
   "id": "settled-notification",
   "metadata": {},
   "outputs": [],
   "source": [
    "X_train, X_test = [], []"
   ]
  },
  {
   "cell_type": "code",
   "execution_count": 8,
   "id": "digital-firmware",
   "metadata": {},
   "outputs": [
    {
     "data": {
      "application/vnd.jupyter.widget-view+json": {
       "model_id": "91f90c2f2ddb436fa378c33540aa75bb",
       "version_major": 2,
       "version_minor": 0
      },
      "text/plain": [
       "  0%|          | 0/180000 [00:00<?, ?it/s]"
      ]
     },
     "metadata": {},
     "output_type": "display_data"
    }
   ],
   "source": [
    "for filename in tqdm(X_train_files):\n",
    "    X_train.append(features[filename])"
   ]
  },
  {
   "cell_type": "code",
   "execution_count": 9,
   "id": "fitted-crazy",
   "metadata": {},
   "outputs": [
    {
     "data": {
      "application/vnd.jupyter.widget-view+json": {
       "model_id": "f9691074bca6418996d9afd1a9ad731e",
       "version_major": 2,
       "version_minor": 0
      },
      "text/plain": [
       "  0%|          | 0/20000 [00:00<?, ?it/s]"
      ]
     },
     "metadata": {},
     "output_type": "display_data"
    }
   ],
   "source": [
    "for filename in tqdm(X_test_files):\n",
    "    X_test.append(features[filename])"
   ]
  },
  {
   "cell_type": "code",
   "execution_count": 10,
   "id": "combined-background",
   "metadata": {},
   "outputs": [],
   "source": [
    "X_train = np.array(X_train)\n",
    "X_test = np.array(X_test)"
   ]
  },
  {
   "cell_type": "code",
   "execution_count": 11,
   "id": "binding-tragedy",
   "metadata": {},
   "outputs": [
    {
     "data": {
      "text/plain": [
       "(20000, 512)"
      ]
     },
     "execution_count": 11,
     "metadata": {},
     "output_type": "execute_result"
    }
   ],
   "source": [
    "X_test.shape"
   ]
  },
  {
   "cell_type": "code",
   "execution_count": 12,
   "id": "opposite-brush",
   "metadata": {},
   "outputs": [],
   "source": [
    "from sklearn.pipeline import make_pipeline\n",
    "from sklearn.preprocessing import StandardScaler\n",
    "from sklearn.svm import SVC\n",
    "from sklearn.metrics import confusion_matrix, roc_auc_score"
   ]
  },
  {
   "cell_type": "code",
   "execution_count": 13,
   "id": "cooperative-isolation",
   "metadata": {},
   "outputs": [],
   "source": [
    "clf = make_pipeline(StandardScaler(), SVC(gamma='auto'))"
   ]
  },
  {
   "cell_type": "code",
   "execution_count": null,
   "id": "blank-struggle",
   "metadata": {},
   "outputs": [],
   "source": [
    "clf.fit(X_train, y_train)"
   ]
  },
  {
   "cell_type": "code",
   "execution_count": null,
   "id": "adapted-helena",
   "metadata": {},
   "outputs": [],
   "source": [
    "clf.score(X_test, y_test)"
   ]
  },
  {
   "cell_type": "code",
   "execution_count": null,
   "id": "ready-brighton",
   "metadata": {},
   "outputs": [],
   "source": [
    "confusion_matrix(y_test, clf.predict(X_test))"
   ]
  },
  {
   "cell_type": "code",
   "execution_count": null,
   "id": "alternative-engineer",
   "metadata": {},
   "outputs": [],
   "source": [
    "tn, fp, fn, tp = confusion_matrix(y_test, clf.predict(X_test)).ravel()\n",
    "print(f\"tn: {tn}, fp: {fp}, fn: {fn}, tp: {tp}\")"
   ]
  },
  {
   "cell_type": "code",
   "execution_count": null,
   "id": "enhanced-territory",
   "metadata": {},
   "outputs": [],
   "source": [
    "roc_auc_score(y_test, clf.predict(X_test))"
   ]
  },
  {
   "cell_type": "code",
   "execution_count": null,
   "id": "ranking-laptop",
   "metadata": {},
   "outputs": [],
   "source": []
  }
 ],
 "metadata": {
  "kernelspec": {
   "display_name": "Python 3",
   "language": "python",
   "name": "python3"
  },
  "language_info": {
   "codemirror_mode": {
    "name": "ipython",
    "version": 3
   },
   "file_extension": ".py",
   "mimetype": "text/x-python",
   "name": "python",
   "nbconvert_exporter": "python",
   "pygments_lexer": "ipython3",
   "version": "3.6.9"
  }
 },
 "nbformat": 4,
 "nbformat_minor": 5
}
