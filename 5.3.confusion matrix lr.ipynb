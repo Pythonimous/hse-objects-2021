{
 "cells": [
  {
   "cell_type": "code",
   "execution_count": 1,
   "id": "wicked-knife",
   "metadata": {},
   "outputs": [],
   "source": [
    "import pandas as pd\n",
    "import numpy as np"
   ]
  },
  {
   "cell_type": "code",
   "execution_count": 2,
   "id": "attended-orleans",
   "metadata": {},
   "outputs": [],
   "source": [
    "import os\n",
    "from tqdm.notebook import tqdm"
   ]
  },
  {
   "cell_type": "code",
   "execution_count": 3,
   "id": "prescribed-equivalent",
   "metadata": {},
   "outputs": [],
   "source": [
    "from metrics import multiclass_stats"
   ]
  },
  {
   "cell_type": "code",
   "execution_count": 4,
   "id": "competent-turkey",
   "metadata": {},
   "outputs": [],
   "source": [
    "os.chdir('yelp_academic')"
   ]
  },
  {
   "cell_type": "code",
   "execution_count": 5,
   "id": "drawn-employment",
   "metadata": {},
   "outputs": [],
   "source": [
    "br = pd.read_csv('data/business_ambience.csv')"
   ]
  },
  {
   "cell_type": "code",
   "execution_count": 6,
   "id": "disciplinary-capacity",
   "metadata": {},
   "outputs": [
    {
     "data": {
      "text/html": [
       "<div>\n",
       "<style scoped>\n",
       "    .dataframe tbody tr th:only-of-type {\n",
       "        vertical-align: middle;\n",
       "    }\n",
       "\n",
       "    .dataframe tbody tr th {\n",
       "        vertical-align: top;\n",
       "    }\n",
       "\n",
       "    .dataframe thead th {\n",
       "        text-align: right;\n",
       "    }\n",
       "</style>\n",
       "<table border=\"1\" class=\"dataframe\">\n",
       "  <thead>\n",
       "    <tr style=\"text-align: right;\">\n",
       "      <th></th>\n",
       "      <th>photo_id</th>\n",
       "      <th>touristy</th>\n",
       "      <th>hipster</th>\n",
       "      <th>romantic</th>\n",
       "      <th>divey</th>\n",
       "      <th>intimate</th>\n",
       "      <th>upscale</th>\n",
       "    </tr>\n",
       "  </thead>\n",
       "  <tbody>\n",
       "    <tr>\n",
       "      <th>0</th>\n",
       "      <td>ZlTwL6uWx6rW_L9Df5RT8A</td>\n",
       "      <td>False</td>\n",
       "      <td>False</td>\n",
       "      <td>True</td>\n",
       "      <td>False</td>\n",
       "      <td>True</td>\n",
       "      <td>False</td>\n",
       "    </tr>\n",
       "    <tr>\n",
       "      <th>1</th>\n",
       "      <td>fHbSMxueQfXFRb9e-6bJuw</td>\n",
       "      <td>False</td>\n",
       "      <td>False</td>\n",
       "      <td>False</td>\n",
       "      <td>True</td>\n",
       "      <td>False</td>\n",
       "      <td>False</td>\n",
       "    </tr>\n",
       "    <tr>\n",
       "      <th>2</th>\n",
       "      <td>74oWvVVIjms9LjfHQOgxMQ</td>\n",
       "      <td>False</td>\n",
       "      <td>False</td>\n",
       "      <td>False</td>\n",
       "      <td>False</td>\n",
       "      <td>False</td>\n",
       "      <td>True</td>\n",
       "    </tr>\n",
       "    <tr>\n",
       "      <th>3</th>\n",
       "      <td>QY6c1OKsIpujF4MDHQdbag</td>\n",
       "      <td>False</td>\n",
       "      <td>True</td>\n",
       "      <td>False</td>\n",
       "      <td>False</td>\n",
       "      <td>False</td>\n",
       "      <td>False</td>\n",
       "    </tr>\n",
       "    <tr>\n",
       "      <th>4</th>\n",
       "      <td>0AYEzNJYFF2PeXo71cpKuw</td>\n",
       "      <td>False</td>\n",
       "      <td>True</td>\n",
       "      <td>False</td>\n",
       "      <td>False</td>\n",
       "      <td>False</td>\n",
       "      <td>False</td>\n",
       "    </tr>\n",
       "  </tbody>\n",
       "</table>\n",
       "</div>"
      ],
      "text/plain": [
       "                 photo_id  touristy  hipster  romantic  divey  intimate  \\\n",
       "0  ZlTwL6uWx6rW_L9Df5RT8A     False    False      True  False      True   \n",
       "1  fHbSMxueQfXFRb9e-6bJuw     False    False     False   True     False   \n",
       "2  74oWvVVIjms9LjfHQOgxMQ     False    False     False  False     False   \n",
       "3  QY6c1OKsIpujF4MDHQdbag     False     True     False  False     False   \n",
       "4  0AYEzNJYFF2PeXo71cpKuw     False     True     False  False     False   \n",
       "\n",
       "   upscale  \n",
       "0    False  \n",
       "1    False  \n",
       "2     True  \n",
       "3    False  \n",
       "4    False  "
      ]
     },
     "execution_count": 6,
     "metadata": {},
     "output_type": "execute_result"
    }
   ],
   "source": [
    "br.head()"
   ]
  },
  {
   "cell_type": "code",
   "execution_count": 7,
   "id": "developing-christian",
   "metadata": {},
   "outputs": [],
   "source": [
    "feature_cols = ['touristy', 'hipster', 'romantic', 'divey', 'intimate', 'upscale']"
   ]
  },
  {
   "cell_type": "code",
   "execution_count": 8,
   "id": "unknown-defense",
   "metadata": {},
   "outputs": [],
   "source": [
    "from sklearn.model_selection import train_test_split"
   ]
  },
  {
   "cell_type": "code",
   "execution_count": 9,
   "id": "brief-destiny",
   "metadata": {},
   "outputs": [],
   "source": [
    "X_train_files, X_test_files, y_train, y_test = train_test_split(br.photo_id, br[feature_cols], train_size = 0.9, random_state=420, stratify=br[feature_cols])"
   ]
  },
  {
   "cell_type": "code",
   "execution_count": 10,
   "id": "alike-airfare",
   "metadata": {},
   "outputs": [],
   "source": [
    "features = np.load('data/transfer_features/densenet_features.npz', allow_pickle = True)['arr_0'][()]"
   ]
  },
  {
   "cell_type": "code",
   "execution_count": 11,
   "id": "adjacent-transmission",
   "metadata": {},
   "outputs": [],
   "source": [
    "X_train, X_test = [], []"
   ]
  },
  {
   "cell_type": "code",
   "execution_count": 12,
   "id": "detected-plaza",
   "metadata": {},
   "outputs": [
    {
     "data": {
      "application/vnd.jupyter.widget-view+json": {
       "model_id": "45b27ad70b7d4d7db346389744abe6e1",
       "version_major": 2,
       "version_minor": 0
      },
      "text/plain": [
       "  0%|          | 0/29635 [00:00<?, ?it/s]"
      ]
     },
     "metadata": {},
     "output_type": "display_data"
    }
   ],
   "source": [
    "for filename in tqdm(X_train_files):\n",
    "    X_train.append(features[filename])"
   ]
  },
  {
   "cell_type": "code",
   "execution_count": 13,
   "id": "eleven-reducing",
   "metadata": {},
   "outputs": [
    {
     "data": {
      "application/vnd.jupyter.widget-view+json": {
       "model_id": "97a486e8c3284089abce72c7a3e10feb",
       "version_major": 2,
       "version_minor": 0
      },
      "text/plain": [
       "  0%|          | 0/3293 [00:00<?, ?it/s]"
      ]
     },
     "metadata": {},
     "output_type": "display_data"
    }
   ],
   "source": [
    "for filename in tqdm(X_test_files):\n",
    "    X_test.append(features[filename])"
   ]
  },
  {
   "cell_type": "code",
   "execution_count": 14,
   "id": "protecting-appreciation",
   "metadata": {},
   "outputs": [],
   "source": [
    "X_train = np.array(X_train)\n",
    "X_test = np.array(X_test)"
   ]
  },
  {
   "cell_type": "code",
   "execution_count": 15,
   "id": "stone-vampire",
   "metadata": {},
   "outputs": [
    {
     "data": {
      "text/plain": [
       "(3293, 1024)"
      ]
     },
     "execution_count": 15,
     "metadata": {},
     "output_type": "execute_result"
    }
   ],
   "source": [
    "X_test.shape"
   ]
  },
  {
   "cell_type": "code",
   "execution_count": 16,
   "id": "minute-concord",
   "metadata": {},
   "outputs": [],
   "source": [
    "y_train = y_train.to_numpy(dtype='int')\n",
    "y_test = y_test.to_numpy(dtype='int')"
   ]
  },
  {
   "cell_type": "code",
   "execution_count": 26,
   "id": "harmful-figure",
   "metadata": {},
   "outputs": [],
   "source": [
    "from sklearn.pipeline import make_pipeline\n",
    "from sklearn.preprocessing import StandardScaler\n",
    "from sklearn.multioutput import MultiOutputClassifier\n",
    "from sklearn.linear_model import LogisticRegression\n",
    "from sklearn.naive_bayes import BernoulliNB\n",
    "from sklearn.svm import SVC\n",
    "from sklearn.metrics import multilabel_confusion_matrix, classification_report, hamming_loss, f1_score, roc_auc_score"
   ]
  },
  {
   "cell_type": "code",
   "execution_count": 23,
   "id": "above-pierce",
   "metadata": {},
   "outputs": [],
   "source": [
    "lr_clf = make_pipeline(StandardScaler(),\n",
    "                       MultiOutputClassifier(\n",
    "                           LogisticRegression(max_iter=10000,\n",
    "                                              random_state=42,\n",
    "                                              class_weight='balanced'))\n",
    "                      ).fit(X_train, y_train)"
   ]
  },
  {
   "cell_type": "code",
   "execution_count": 27,
   "id": "quality-transportation",
   "metadata": {},
   "outputs": [],
   "source": [
    "y_pred = lr_clf.predict(X_test)"
   ]
  },
  {
   "cell_type": "code",
   "execution_count": 28,
   "id": "cloudy-wealth",
   "metadata": {},
   "outputs": [
    {
     "name": "stdout",
     "output_type": "stream",
     "text": [
      "              precision    recall  f1-score   support\n",
      "\n",
      "           0       0.39      0.64      0.49       730\n",
      "           1       0.54      0.64      0.59      1253\n",
      "           2       0.22      0.59      0.33       464\n",
      "           3       0.22      0.68      0.33       304\n",
      "           4       0.21      0.62      0.31       440\n",
      "           5       0.35      0.70      0.47       585\n",
      "\n",
      "   micro avg       0.33      0.64      0.44      3776\n",
      "   macro avg       0.32      0.64      0.42      3776\n",
      "weighted avg       0.38      0.64      0.46      3776\n",
      " samples avg       0.36      0.65      0.44      3776\n",
      "\n"
     ]
    }
   ],
   "source": [
    "print(report)"
   ]
  },
  {
   "cell_type": "code",
   "execution_count": 29,
   "id": "first-dietary",
   "metadata": {},
   "outputs": [
    {
     "data": {
      "text/plain": [
       "array([[[1841,  722],\n",
       "        [ 263,  467]],\n",
       "\n",
       "       [[1365,  675],\n",
       "        [ 452,  801]],\n",
       "\n",
       "       [[1876,  953],\n",
       "        [ 189,  275]],\n",
       "\n",
       "       [[2263,  726],\n",
       "        [  98,  206]],\n",
       "\n",
       "       [[1839, 1014],\n",
       "        [ 169,  271]],\n",
       "\n",
       "       [[1948,  760],\n",
       "        [ 177,  408]]])"
      ]
     },
     "execution_count": 29,
     "metadata": {},
     "output_type": "execute_result"
    }
   ],
   "source": [
    "multilabel_confusion_matrix(y_test, y_pred)"
   ]
  },
  {
   "cell_type": "code",
   "execution_count": null,
   "id": "patent-limitation",
   "metadata": {},
   "outputs": [],
   "source": []
  }
 ],
 "metadata": {
  "kernelspec": {
   "display_name": "Python 3",
   "language": "python",
   "name": "python3"
  },
  "language_info": {
   "codemirror_mode": {
    "name": "ipython",
    "version": 3
   },
   "file_extension": ".py",
   "mimetype": "text/x-python",
   "name": "python",
   "nbconvert_exporter": "python",
   "pygments_lexer": "ipython3",
   "version": "3.6.9"
  }
 },
 "nbformat": 4,
 "nbformat_minor": 5
}
