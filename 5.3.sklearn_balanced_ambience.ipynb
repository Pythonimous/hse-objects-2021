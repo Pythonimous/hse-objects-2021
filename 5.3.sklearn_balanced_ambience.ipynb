{
 "cells": [
  {
   "cell_type": "code",
   "execution_count": 1,
   "id": "strategic-jordan",
   "metadata": {},
   "outputs": [],
   "source": [
    "import pandas as pd\n",
    "import numpy as np"
   ]
  },
  {
   "cell_type": "code",
   "execution_count": 2,
   "id": "weird-degree",
   "metadata": {},
   "outputs": [],
   "source": [
    "import os\n",
    "from tqdm.notebook import tqdm"
   ]
  },
  {
   "cell_type": "code",
   "execution_count": 3,
   "id": "dominican-closing",
   "metadata": {},
   "outputs": [],
   "source": [
    "from metrics import multiclass_stats"
   ]
  },
  {
   "cell_type": "code",
   "execution_count": 4,
   "id": "laden-stake",
   "metadata": {},
   "outputs": [],
   "source": [
    "os.chdir('yelp_academic')"
   ]
  },
  {
   "cell_type": "code",
   "execution_count": 5,
   "id": "wrapped-attendance",
   "metadata": {},
   "outputs": [],
   "source": [
    "br = pd.read_csv('data/business_ambience.csv')"
   ]
  },
  {
   "cell_type": "code",
   "execution_count": 6,
   "id": "norwegian-invitation",
   "metadata": {},
   "outputs": [
    {
     "data": {
      "text/html": [
       "<div>\n",
       "<style scoped>\n",
       "    .dataframe tbody tr th:only-of-type {\n",
       "        vertical-align: middle;\n",
       "    }\n",
       "\n",
       "    .dataframe tbody tr th {\n",
       "        vertical-align: top;\n",
       "    }\n",
       "\n",
       "    .dataframe thead th {\n",
       "        text-align: right;\n",
       "    }\n",
       "</style>\n",
       "<table border=\"1\" class=\"dataframe\">\n",
       "  <thead>\n",
       "    <tr style=\"text-align: right;\">\n",
       "      <th></th>\n",
       "      <th>photo_id</th>\n",
       "      <th>touristy</th>\n",
       "      <th>hipster</th>\n",
       "      <th>romantic</th>\n",
       "      <th>divey</th>\n",
       "      <th>intimate</th>\n",
       "      <th>upscale</th>\n",
       "    </tr>\n",
       "  </thead>\n",
       "  <tbody>\n",
       "    <tr>\n",
       "      <th>0</th>\n",
       "      <td>ZlTwL6uWx6rW_L9Df5RT8A</td>\n",
       "      <td>False</td>\n",
       "      <td>False</td>\n",
       "      <td>True</td>\n",
       "      <td>False</td>\n",
       "      <td>True</td>\n",
       "      <td>False</td>\n",
       "    </tr>\n",
       "    <tr>\n",
       "      <th>1</th>\n",
       "      <td>fHbSMxueQfXFRb9e-6bJuw</td>\n",
       "      <td>False</td>\n",
       "      <td>False</td>\n",
       "      <td>False</td>\n",
       "      <td>True</td>\n",
       "      <td>False</td>\n",
       "      <td>False</td>\n",
       "    </tr>\n",
       "    <tr>\n",
       "      <th>2</th>\n",
       "      <td>74oWvVVIjms9LjfHQOgxMQ</td>\n",
       "      <td>False</td>\n",
       "      <td>False</td>\n",
       "      <td>False</td>\n",
       "      <td>False</td>\n",
       "      <td>False</td>\n",
       "      <td>True</td>\n",
       "    </tr>\n",
       "    <tr>\n",
       "      <th>3</th>\n",
       "      <td>QY6c1OKsIpujF4MDHQdbag</td>\n",
       "      <td>False</td>\n",
       "      <td>True</td>\n",
       "      <td>False</td>\n",
       "      <td>False</td>\n",
       "      <td>False</td>\n",
       "      <td>False</td>\n",
       "    </tr>\n",
       "    <tr>\n",
       "      <th>4</th>\n",
       "      <td>0AYEzNJYFF2PeXo71cpKuw</td>\n",
       "      <td>False</td>\n",
       "      <td>True</td>\n",
       "      <td>False</td>\n",
       "      <td>False</td>\n",
       "      <td>False</td>\n",
       "      <td>False</td>\n",
       "    </tr>\n",
       "  </tbody>\n",
       "</table>\n",
       "</div>"
      ],
      "text/plain": [
       "                 photo_id  touristy  hipster  romantic  divey  intimate  \\\n",
       "0  ZlTwL6uWx6rW_L9Df5RT8A     False    False      True  False      True   \n",
       "1  fHbSMxueQfXFRb9e-6bJuw     False    False     False   True     False   \n",
       "2  74oWvVVIjms9LjfHQOgxMQ     False    False     False  False     False   \n",
       "3  QY6c1OKsIpujF4MDHQdbag     False     True     False  False     False   \n",
       "4  0AYEzNJYFF2PeXo71cpKuw     False     True     False  False     False   \n",
       "\n",
       "   upscale  \n",
       "0    False  \n",
       "1    False  \n",
       "2     True  \n",
       "3    False  \n",
       "4    False  "
      ]
     },
     "execution_count": 6,
     "metadata": {},
     "output_type": "execute_result"
    }
   ],
   "source": [
    "br.head()"
   ]
  },
  {
   "cell_type": "code",
   "execution_count": 7,
   "id": "northern-yorkshire",
   "metadata": {},
   "outputs": [],
   "source": [
    "feature_cols = ['touristy', 'hipster', 'romantic', 'divey', 'intimate', 'upscale']"
   ]
  },
  {
   "cell_type": "code",
   "execution_count": 8,
   "id": "hidden-punishment",
   "metadata": {},
   "outputs": [],
   "source": [
    "from sklearn.model_selection import train_test_split"
   ]
  },
  {
   "cell_type": "code",
   "execution_count": 9,
   "id": "exempt-conspiracy",
   "metadata": {},
   "outputs": [],
   "source": [
    "X_train_files, X_test_files, y_train, y_test = train_test_split(br.photo_id, br[feature_cols], train_size = 0.9, random_state=420, stratify=br[feature_cols])"
   ]
  },
  {
   "cell_type": "code",
   "execution_count": 10,
   "id": "interstate-tulsa",
   "metadata": {},
   "outputs": [],
   "source": [
    "features = np.load('data/transfer_features/densenet_features.npz', allow_pickle = True)['arr_0'][()]"
   ]
  },
  {
   "cell_type": "code",
   "execution_count": 11,
   "id": "fancy-adventure",
   "metadata": {},
   "outputs": [],
   "source": [
    "X_train, X_test = [], []"
   ]
  },
  {
   "cell_type": "code",
   "execution_count": 12,
   "id": "fluid-delicious",
   "metadata": {},
   "outputs": [
    {
     "data": {
      "application/vnd.jupyter.widget-view+json": {
       "model_id": "12d3161e11c74474b6a91d2156c4fcef",
       "version_major": 2,
       "version_minor": 0
      },
      "text/plain": [
       "  0%|          | 0/29635 [00:00<?, ?it/s]"
      ]
     },
     "metadata": {},
     "output_type": "display_data"
    }
   ],
   "source": [
    "for filename in tqdm(X_train_files):\n",
    "    X_train.append(features[filename])"
   ]
  },
  {
   "cell_type": "code",
   "execution_count": 13,
   "id": "honest-salem",
   "metadata": {},
   "outputs": [
    {
     "data": {
      "application/vnd.jupyter.widget-view+json": {
       "model_id": "57dc8c47f1f847c6909c7a9730850443",
       "version_major": 2,
       "version_minor": 0
      },
      "text/plain": [
       "  0%|          | 0/3293 [00:00<?, ?it/s]"
      ]
     },
     "metadata": {},
     "output_type": "display_data"
    }
   ],
   "source": [
    "for filename in tqdm(X_test_files):\n",
    "    X_test.append(features[filename])"
   ]
  },
  {
   "cell_type": "code",
   "execution_count": 14,
   "id": "popular-partnership",
   "metadata": {},
   "outputs": [],
   "source": [
    "X_train = np.array(X_train)\n",
    "X_test = np.array(X_test)"
   ]
  },
  {
   "cell_type": "code",
   "execution_count": 15,
   "id": "hollywood-tradition",
   "metadata": {},
   "outputs": [
    {
     "data": {
      "text/plain": [
       "(3293, 1024)"
      ]
     },
     "execution_count": 15,
     "metadata": {},
     "output_type": "execute_result"
    }
   ],
   "source": [
    "X_test.shape"
   ]
  },
  {
   "cell_type": "code",
   "execution_count": 16,
   "id": "linear-greeting",
   "metadata": {},
   "outputs": [],
   "source": [
    "y_train = y_train.to_numpy(dtype='int')\n",
    "y_test = y_test.to_numpy(dtype='int')"
   ]
  },
  {
   "cell_type": "code",
   "execution_count": 17,
   "id": "smooth-spine",
   "metadata": {},
   "outputs": [],
   "source": [
    "from sklearn.pipeline import make_pipeline\n",
    "from sklearn.preprocessing import StandardScaler\n",
    "from sklearn.multioutput import MultiOutputClassifier\n",
    "from sklearn.linear_model import LogisticRegression\n",
    "from sklearn.naive_bayes import BernoulliNB\n",
    "from sklearn.svm import SVC\n",
    "from sklearn.metrics import classification_report, hamming_loss, f1_score, roc_auc_score"
   ]
  },
  {
   "cell_type": "code",
   "execution_count": 18,
   "id": "impressed-necklace",
   "metadata": {},
   "outputs": [],
   "source": [
    "lr_clf = make_pipeline(StandardScaler(),\n",
    "                       MultiOutputClassifier(\n",
    "                           LogisticRegression(max_iter=10000,\n",
    "                                              random_state=42,\n",
    "                                              class_weight='balanced'))\n",
    "                      ).fit(X_train, y_train)"
   ]
  },
  {
   "cell_type": "code",
   "execution_count": 19,
   "id": "consecutive-accommodation",
   "metadata": {},
   "outputs": [],
   "source": [
    "y_pred = lr_clf.predict(X_test)"
   ]
  },
  {
   "cell_type": "code",
   "execution_count": 20,
   "id": "capable-elevation",
   "metadata": {},
   "outputs": [],
   "source": [
    "test_filenames = list(X_test_files)"
   ]
  },
  {
   "cell_type": "code",
   "execution_count": 21,
   "id": "restricted-criminal",
   "metadata": {},
   "outputs": [],
   "source": [
    "mispredicted_list = []"
   ]
  },
  {
   "cell_type": "code",
   "execution_count": 22,
   "id": "intended-audit",
   "metadata": {},
   "outputs": [],
   "source": [
    "for i in range(len(test_filenames)):\n",
    "    mispredicted = {}\n",
    "    if not np.array_equal(y_pred[i], y_test[i]):\n",
    "        mispredicted['filename'] = test_filenames[i]\n",
    "        mispredicted['actual'] = y_test[i]\n",
    "        mispredicted['prediction'] = y_pred[i]\n",
    "        mispredicted_list.append(mispredicted)"
   ]
  },
  {
   "cell_type": "code",
   "execution_count": 23,
   "id": "palestinian-singer",
   "metadata": {},
   "outputs": [],
   "source": [
    "import pickle\n",
    "with open('comparison/ambience_lr_densenet_transfer_mispredicted.pickle', 'wb') as a:\n",
    "    pickle.dump(mispredicted_list, a)"
   ]
  },
  {
   "cell_type": "code",
   "execution_count": 39,
   "id": "small-crowd",
   "metadata": {},
   "outputs": [
    {
     "name": "stderr",
     "output_type": "stream",
     "text": [
      "/home/ophelion/venv/yelp/lib/python3.6/site-packages/sklearn/metrics/_classification.py:1248: UndefinedMetricWarning: Precision and F-score are ill-defined and being set to 0.0 in samples with no predicted labels. Use `zero_division` parameter to control this behavior.\n",
      "  _warn_prf(average, modifier, msg_start, len(result))\n"
     ]
    },
    {
     "data": {
      "text/plain": [
       "{'hamming_score': 0.35008097985626074,\n",
       " 'hamming_loss': 0.3136957181901002,\n",
       " 'f1_score': 0.4186371855651641,\n",
       " 'roc_auc_score': 0.6695194381389631}"
      ]
     },
     "execution_count": 39,
     "metadata": {},
     "output_type": "execute_result"
    }
   ],
   "source": [
    "report, stats = multiclass_stats(y_test, y_pred)\n",
    "stats"
   ]
  },
  {
   "cell_type": "code",
   "execution_count": 40,
   "id": "incoming-robert",
   "metadata": {},
   "outputs": [
    {
     "name": "stdout",
     "output_type": "stream",
     "text": [
      "              precision    recall  f1-score   support\n",
      "\n",
      "           0       0.39      0.64      0.49       730\n",
      "           1       0.54      0.64      0.59      1253\n",
      "           2       0.22      0.59      0.33       464\n",
      "           3       0.22      0.68      0.33       304\n",
      "           4       0.21      0.62      0.31       440\n",
      "           5       0.35      0.70      0.47       585\n",
      "\n",
      "   micro avg       0.33      0.64      0.44      3776\n",
      "   macro avg       0.32      0.64      0.42      3776\n",
      "weighted avg       0.38      0.64      0.46      3776\n",
      " samples avg       0.36      0.65      0.44      3776\n",
      "\n"
     ]
    }
   ],
   "source": [
    "print(report)"
   ]
  },
  {
   "cell_type": "code",
   "execution_count": 41,
   "id": "adopted-yorkshire",
   "metadata": {},
   "outputs": [],
   "source": [
    "nb_clf = make_pipeline(StandardScaler(),\n",
    "                       MultiOutputClassifier(\n",
    "                           BernoulliNB())\n",
    "                       ).fit(X_train, y_train)"
   ]
  },
  {
   "cell_type": "code",
   "execution_count": 42,
   "id": "internal-channels",
   "metadata": {},
   "outputs": [],
   "source": [
    "y_pred = nb_clf.predict(X_test)"
   ]
  },
  {
   "cell_type": "code",
   "execution_count": 43,
   "id": "sound-celebrity",
   "metadata": {},
   "outputs": [
    {
     "name": "stdout",
     "output_type": "stream",
     "text": [
      "              precision    recall  f1-score   support\n",
      "\n",
      "           0       0.29      0.56      0.39       730\n",
      "           1       0.49      0.60      0.54      1253\n",
      "           2       0.18      0.56      0.27       464\n",
      "           3       0.15      0.72      0.25       304\n",
      "           4       0.17      0.60      0.27       440\n",
      "           5       0.25      0.59      0.35       585\n",
      "\n",
      "   micro avg       0.26      0.60      0.36      3776\n",
      "   macro avg       0.26      0.61      0.34      3776\n",
      "weighted avg       0.31      0.60      0.39      3776\n",
      " samples avg       0.27      0.60      0.35      3776\n",
      "\n"
     ]
    },
    {
     "name": "stderr",
     "output_type": "stream",
     "text": [
      "/home/ophelion/venv/yelp/lib/python3.6/site-packages/sklearn/metrics/_classification.py:1248: UndefinedMetricWarning: Precision and F-score are ill-defined and being set to 0.0 in samples with no predicted labels. Use `zero_division` parameter to control this behavior.\n",
      "  _warn_prf(average, modifier, msg_start, len(result))\n"
     ]
    }
   ],
   "source": [
    "print(classification_report(y_test, y_pred))"
   ]
  },
  {
   "cell_type": "code",
   "execution_count": 44,
   "id": "concerned-complement",
   "metadata": {},
   "outputs": [
    {
     "name": "stderr",
     "output_type": "stream",
     "text": [
      "/home/ophelion/venv/yelp/lib/python3.6/site-packages/sklearn/metrics/_classification.py:1248: UndefinedMetricWarning: Precision and F-score are ill-defined and being set to 0.0 in samples with no predicted labels. Use `zero_division` parameter to control this behavior.\n",
      "  _warn_prf(average, modifier, msg_start, len(result))\n"
     ]
    },
    {
     "data": {
      "text/plain": [
       "{'hamming_score': 0.2584826399433141,\n",
       " 'hamming_loss': 0.4052029557647535,\n",
       " 'f1_score': 0.34447734004171543,\n",
       " 'roc_auc_score': 0.6006224498444909}"
      ]
     },
     "execution_count": 44,
     "metadata": {},
     "output_type": "execute_result"
    }
   ],
   "source": [
    "report, stats = multiclass_stats(y_test, y_pred)\n",
    "stats"
   ]
  },
  {
   "cell_type": "code",
   "execution_count": 45,
   "id": "guided-bernard",
   "metadata": {},
   "outputs": [
    {
     "name": "stdout",
     "output_type": "stream",
     "text": [
      "              precision    recall  f1-score   support\n",
      "\n",
      "           0       0.29      0.56      0.39       730\n",
      "           1       0.49      0.60      0.54      1253\n",
      "           2       0.18      0.56      0.27       464\n",
      "           3       0.15      0.72      0.25       304\n",
      "           4       0.17      0.60      0.27       440\n",
      "           5       0.25      0.59      0.35       585\n",
      "\n",
      "   micro avg       0.26      0.60      0.36      3776\n",
      "   macro avg       0.26      0.61      0.34      3776\n",
      "weighted avg       0.31      0.60      0.39      3776\n",
      " samples avg       0.27      0.60      0.35      3776\n",
      "\n"
     ]
    }
   ],
   "source": [
    "print(report)"
   ]
  },
  {
   "cell_type": "code",
   "execution_count": 46,
   "id": "neither-analysis",
   "metadata": {},
   "outputs": [],
   "source": [
    "svc_clf = make_pipeline(StandardScaler(),\n",
    "                        MultiOutputClassifier(\n",
    "                            SVC(gamma='auto'))\n",
    "                       ).fit(X_train, y_train)"
   ]
  },
  {
   "cell_type": "code",
   "execution_count": 47,
   "id": "ranging-interference",
   "metadata": {},
   "outputs": [],
   "source": [
    "y_pred = svc_clf.predict(X_test)"
   ]
  },
  {
   "cell_type": "code",
   "execution_count": 48,
   "id": "turned-piano",
   "metadata": {},
   "outputs": [
    {
     "name": "stderr",
     "output_type": "stream",
     "text": [
      "/home/ophelion/venv/yelp/lib/python3.6/site-packages/sklearn/metrics/_classification.py:1248: UndefinedMetricWarning: Precision and F-score are ill-defined and being set to 0.0 in samples with no predicted labels. Use `zero_division` parameter to control this behavior.\n",
      "  _warn_prf(average, modifier, msg_start, len(result))\n"
     ]
    },
    {
     "data": {
      "text/plain": [
       "{'hamming_score': 0.24625468164794007,\n",
       " 'hamming_loss': 0.16580625569389615,\n",
       " 'f1_score': 0.20593172005479876,\n",
       " 'roc_auc_score': 0.5597658722837919}"
      ]
     },
     "execution_count": 48,
     "metadata": {},
     "output_type": "execute_result"
    }
   ],
   "source": [
    "report, stats = multiclass_stats(y_test, y_pred)\n",
    "stats"
   ]
  },
  {
   "cell_type": "code",
   "execution_count": 49,
   "id": "involved-petroleum",
   "metadata": {},
   "outputs": [
    {
     "name": "stdout",
     "output_type": "stream",
     "text": [
      "              precision    recall  f1-score   support\n",
      "\n",
      "           0       0.85      0.25      0.39       730\n",
      "           1       0.67      0.46      0.54      1253\n",
      "           2       0.93      0.03      0.05       464\n",
      "           3       0.75      0.01      0.02       304\n",
      "           4       1.00      0.01      0.02       440\n",
      "           5       0.69      0.12      0.21       585\n",
      "\n",
      "   micro avg       0.71      0.23      0.34      3776\n",
      "   macro avg       0.82      0.15      0.21      3776\n",
      "weighted avg       0.78      0.23      0.30      3776\n",
      " samples avg       0.26      0.25      0.25      3776\n",
      "\n"
     ]
    }
   ],
   "source": [
    "print(report)"
   ]
  },
  {
   "cell_type": "code",
   "execution_count": null,
   "id": "extreme-disposition",
   "metadata": {},
   "outputs": [],
   "source": []
  }
 ],
 "metadata": {
  "kernelspec": {
   "display_name": "Python 3",
   "language": "python",
   "name": "python3"
  },
  "language_info": {
   "codemirror_mode": {
    "name": "ipython",
    "version": 3
   },
   "file_extension": ".py",
   "mimetype": "text/x-python",
   "name": "python",
   "nbconvert_exporter": "python",
   "pygments_lexer": "ipython3",
   "version": "3.6.9"
  }
 },
 "nbformat": 4,
 "nbformat_minor": 5
}
