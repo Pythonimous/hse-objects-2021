{
 "cells": [
  {
   "cell_type": "code",
   "execution_count": 1,
   "id": "alone-number",
   "metadata": {},
   "outputs": [],
   "source": [
    "from __future__ import print_function, division\n",
    "import os\n",
    "import tarfile\n",
    "import torch\n",
    "import pandas as pd\n",
    "from skimage import io, transform\n",
    "import numpy as np\n",
    "import matplotlib.pyplot as plt\n",
    "from torch.utils.data import Dataset, DataLoader\n",
    "from PIL import Image"
   ]
  },
  {
   "cell_type": "code",
   "execution_count": 2,
   "id": "popular-smith",
   "metadata": {},
   "outputs": [],
   "source": [
    "# Ignore warnings\n",
    "import warnings\n",
    "warnings.filterwarnings(\"ignore\")"
   ]
  },
  {
   "cell_type": "code",
   "execution_count": 7,
   "id": "natural-renewal",
   "metadata": {},
   "outputs": [],
   "source": [
    "class IsRestaurantDataset(Dataset):\n",
    "    \"\"\"Is It A Restaurant Dataset.\"\"\"\n",
    "\n",
    "    def __init__(self, csv_file, root_dir, transform=None):\n",
    "        \"\"\"\n",
    "        Args:\n",
    "            csv_file (string): Path to the csv file with annotations.\n",
    "            root_dir (string): Directory with all the images.\n",
    "            transform (callable, optional): Optional transform to be applied\n",
    "                on a sample.\n",
    "        \"\"\"\n",
    "        self.business_frame = csv_file\n",
    "        self.root_dir = root_dir\n",
    "        self.transform = transform\n",
    "\n",
    "    def __len__(self):\n",
    "        return len(self.business_frame)\n",
    "\n",
    "    def __getitem__(self, idx):\n",
    "        if torch.is_tensor(idx):\n",
    "            idx = idx.tolist()\n",
    "\n",
    "        img_name = os.path.join(self.root_dir,\n",
    "                                self.business_frame.iloc[idx, 0] + '.jpg')\n",
    "        image = Image.open(img_name)\n",
    "        is_restaurant = self.business_frame.iloc[idx, 1:]\n",
    "        is_restaurant = torch.from_numpy(is_restaurant.to_numpy(dtype='int'))\n",
    "        \n",
    "       # is_restaurant = int(is_restaurant)\n",
    "\n",
    "        if self.transform:\n",
    "            image = self.transform(image)\n",
    "\n",
    "        return image, is_restaurant"
   ]
  },
  {
   "cell_type": "code",
   "execution_count": 9,
   "id": "extraordinary-magnet",
   "metadata": {},
   "outputs": [],
   "source": [
    "f_csv = pd.read_csv('yelp_academic/data/business_restaurant.csv')"
   ]
  },
  {
   "cell_type": "code",
   "execution_count": 15,
   "id": "clinical-cooper",
   "metadata": {},
   "outputs": [],
   "source": [
    "ds = IsRestaurantDataset(f_csv, 'yelp_academic/photos')"
   ]
  },
  {
   "cell_type": "code",
   "execution_count": 18,
   "id": "stuck-abuse",
   "metadata": {},
   "outputs": [],
   "source": [
    "image, labels = ds[0]"
   ]
  },
  {
   "cell_type": "code",
   "execution_count": 19,
   "id": "empty-secretariat",
   "metadata": {},
   "outputs": [
    {
     "data": {
      "text/plain": [
       "is_business    True\n",
       "Name: 0, dtype: object"
      ]
     },
     "execution_count": 19,
     "metadata": {},
     "output_type": "execute_result"
    }
   ],
   "source": [
    "labels"
   ]
  },
  {
   "cell_type": "code",
   "execution_count": null,
   "id": "congressional-croatia",
   "metadata": {},
   "outputs": [],
   "source": []
  }
 ],
 "metadata": {
  "kernelspec": {
   "display_name": "Python 3",
   "language": "python",
   "name": "python3"
  },
  "language_info": {
   "codemirror_mode": {
    "name": "ipython",
    "version": 3
   },
   "file_extension": ".py",
   "mimetype": "text/x-python",
   "name": "python",
   "nbconvert_exporter": "python",
   "pygments_lexer": "ipython3",
   "version": "3.6.9"
  }
 },
 "nbformat": 4,
 "nbformat_minor": 5
}
