{
 "cells": [
  {
   "cell_type": "code",
   "execution_count": 1,
   "id": "joined-services",
   "metadata": {},
   "outputs": [],
   "source": [
    "import pandas as pd\n",
    "from tqdm.notebook import tqdm"
   ]
  },
  {
   "cell_type": "code",
   "execution_count": 2,
   "id": "atomic-edinburgh",
   "metadata": {},
   "outputs": [],
   "source": [
    "businesses = pd.read_csv('yelp_academic/data/photos_businesses_all.csv')"
   ]
  },
  {
   "cell_type": "code",
   "execution_count": 3,
   "id": "compliant-approach",
   "metadata": {},
   "outputs": [],
   "source": [
    "businesses = businesses[['photo_id', 'Non_restaurant']]"
   ]
  },
  {
   "cell_type": "code",
   "execution_count": 4,
   "id": "exposed-illinois",
   "metadata": {},
   "outputs": [
    {
     "data": {
      "text/plain": [
       "False    170222\n",
       "True      29778\n",
       "Name: Non_restaurant, dtype: int64"
      ]
     },
     "execution_count": 4,
     "metadata": {},
     "output_type": "execute_result"
    }
   ],
   "source": [
    "businesses['Non_restaurant'].value_counts()"
   ]
  },
  {
   "cell_type": "code",
   "execution_count": 5,
   "id": "premium-documentation",
   "metadata": {},
   "outputs": [],
   "source": [
    "businesses = businesses.rename(columns={'Non_restaurant': 'is_business'})"
   ]
  },
  {
   "cell_type": "code",
   "execution_count": 6,
   "id": "younger-specialist",
   "metadata": {},
   "outputs": [],
   "source": [
    "restaurants = businesses[businesses.is_business == False]"
   ]
  },
  {
   "cell_type": "code",
   "execution_count": 7,
   "id": "adjustable-twenty",
   "metadata": {},
   "outputs": [],
   "source": [
    "businesses = businesses[businesses.is_business == True]"
   ]
  },
  {
   "cell_type": "code",
   "execution_count": 8,
   "id": "impossible-phrase",
   "metadata": {},
   "outputs": [
    {
     "data": {
      "text/plain": [
       "170222"
      ]
     },
     "execution_count": 8,
     "metadata": {},
     "output_type": "execute_result"
    }
   ],
   "source": [
    "len(restaurants)"
   ]
  },
  {
   "cell_type": "code",
   "execution_count": 9,
   "id": "mature-presence",
   "metadata": {},
   "outputs": [],
   "source": [
    "restaurants = restaurants.sample(n=len(businesses), random_state=42)"
   ]
  },
  {
   "cell_type": "code",
   "execution_count": 10,
   "id": "responsible-copper",
   "metadata": {},
   "outputs": [
    {
     "data": {
      "text/plain": [
       "29778"
      ]
     },
     "execution_count": 10,
     "metadata": {},
     "output_type": "execute_result"
    }
   ],
   "source": [
    "len(restaurants)"
   ]
  },
  {
   "cell_type": "code",
   "execution_count": 11,
   "id": "historic-iceland",
   "metadata": {},
   "outputs": [],
   "source": [
    "businesses = pd.concat([businesses,restaurants])"
   ]
  },
  {
   "cell_type": "code",
   "execution_count": 12,
   "id": "weighted-thriller",
   "metadata": {},
   "outputs": [
    {
     "data": {
      "text/html": [
       "<div>\n",
       "<style scoped>\n",
       "    .dataframe tbody tr th:only-of-type {\n",
       "        vertical-align: middle;\n",
       "    }\n",
       "\n",
       "    .dataframe tbody tr th {\n",
       "        vertical-align: top;\n",
       "    }\n",
       "\n",
       "    .dataframe thead th {\n",
       "        text-align: right;\n",
       "    }\n",
       "</style>\n",
       "<table border=\"1\" class=\"dataframe\">\n",
       "  <thead>\n",
       "    <tr style=\"text-align: right;\">\n",
       "      <th></th>\n",
       "      <th>photo_id</th>\n",
       "      <th>is_business</th>\n",
       "    </tr>\n",
       "  </thead>\n",
       "  <tbody>\n",
       "    <tr>\n",
       "      <th>14</th>\n",
       "      <td>RS5CqUYLc1yJe11BHOIamw</td>\n",
       "      <td>True</td>\n",
       "    </tr>\n",
       "    <tr>\n",
       "      <th>16</th>\n",
       "      <td>H60MMcyGLFzWPrj-2KLikg</td>\n",
       "      <td>True</td>\n",
       "    </tr>\n",
       "    <tr>\n",
       "      <th>19</th>\n",
       "      <td>9UXd4DTUZnh5Vj_JxCXNfQ</td>\n",
       "      <td>True</td>\n",
       "    </tr>\n",
       "    <tr>\n",
       "      <th>20</th>\n",
       "      <td>j1DaMCfm5SmUvu-wnfB4Rw</td>\n",
       "      <td>True</td>\n",
       "    </tr>\n",
       "    <tr>\n",
       "      <th>21</th>\n",
       "      <td>Bf0oOYmZub44CZNs3pQ8JA</td>\n",
       "      <td>True</td>\n",
       "    </tr>\n",
       "  </tbody>\n",
       "</table>\n",
       "</div>"
      ],
      "text/plain": [
       "                  photo_id  is_business\n",
       "14  RS5CqUYLc1yJe11BHOIamw         True\n",
       "16  H60MMcyGLFzWPrj-2KLikg         True\n",
       "19  9UXd4DTUZnh5Vj_JxCXNfQ         True\n",
       "20  j1DaMCfm5SmUvu-wnfB4Rw         True\n",
       "21  Bf0oOYmZub44CZNs3pQ8JA         True"
      ]
     },
     "execution_count": 12,
     "metadata": {},
     "output_type": "execute_result"
    }
   ],
   "source": [
    "businesses.head()"
   ]
  },
  {
   "cell_type": "code",
   "execution_count": 13,
   "id": "authorized-arcade",
   "metadata": {},
   "outputs": [],
   "source": [
    "businesses = businesses.sample(frac=1, random_state=69).reset_index(drop=True)"
   ]
  },
  {
   "cell_type": "code",
   "execution_count": 14,
   "id": "inclusive-avenue",
   "metadata": {},
   "outputs": [
    {
     "data": {
      "text/html": [
       "<div>\n",
       "<style scoped>\n",
       "    .dataframe tbody tr th:only-of-type {\n",
       "        vertical-align: middle;\n",
       "    }\n",
       "\n",
       "    .dataframe tbody tr th {\n",
       "        vertical-align: top;\n",
       "    }\n",
       "\n",
       "    .dataframe thead th {\n",
       "        text-align: right;\n",
       "    }\n",
       "</style>\n",
       "<table border=\"1\" class=\"dataframe\">\n",
       "  <thead>\n",
       "    <tr style=\"text-align: right;\">\n",
       "      <th></th>\n",
       "      <th>photo_id</th>\n",
       "      <th>is_business</th>\n",
       "    </tr>\n",
       "  </thead>\n",
       "  <tbody>\n",
       "    <tr>\n",
       "      <th>0</th>\n",
       "      <td>3V7tgMx3Qw5L9ZjRLNbthA</td>\n",
       "      <td>True</td>\n",
       "    </tr>\n",
       "    <tr>\n",
       "      <th>1</th>\n",
       "      <td>fZo1owoYqwAHW7uZlTz1XQ</td>\n",
       "      <td>False</td>\n",
       "    </tr>\n",
       "    <tr>\n",
       "      <th>2</th>\n",
       "      <td>zwOCQ8w3gFuF3zi_dyIWpw</td>\n",
       "      <td>False</td>\n",
       "    </tr>\n",
       "    <tr>\n",
       "      <th>3</th>\n",
       "      <td>hQBfeDngFMpB9HX2CPKtag</td>\n",
       "      <td>True</td>\n",
       "    </tr>\n",
       "    <tr>\n",
       "      <th>4</th>\n",
       "      <td>Fjh4N5B38vJWVbuQk-v3aQ</td>\n",
       "      <td>True</td>\n",
       "    </tr>\n",
       "  </tbody>\n",
       "</table>\n",
       "</div>"
      ],
      "text/plain": [
       "                 photo_id  is_business\n",
       "0  3V7tgMx3Qw5L9ZjRLNbthA         True\n",
       "1  fZo1owoYqwAHW7uZlTz1XQ        False\n",
       "2  zwOCQ8w3gFuF3zi_dyIWpw        False\n",
       "3  hQBfeDngFMpB9HX2CPKtag         True\n",
       "4  Fjh4N5B38vJWVbuQk-v3aQ         True"
      ]
     },
     "execution_count": 14,
     "metadata": {},
     "output_type": "execute_result"
    }
   ],
   "source": [
    "businesses.head()"
   ]
  },
  {
   "cell_type": "code",
   "execution_count": 15,
   "id": "alike-editor",
   "metadata": {},
   "outputs": [],
   "source": [
    "businesses.to_csv('yelp_academic/data/business_restaurant.csv', index = False)"
   ]
  },
  {
   "cell_type": "markdown",
   "id": "compressed-lodge",
   "metadata": {},
   "source": [
    "# Ambience"
   ]
  },
  {
   "cell_type": "code",
   "execution_count": 42,
   "id": "increased-angle",
   "metadata": {},
   "outputs": [],
   "source": [
    "train = pd.read_csv('yelp_academic/data/business_ambience/train.csv').drop('business_id', axis=1)\n",
    "dev = pd.read_csv('yelp_academic/data/business_ambience/dev.csv').drop('business_id', axis=1)\n",
    "test = pd.read_csv('yelp_academic/data/business_ambience/test.csv').drop('business_id', axis=1)"
   ]
  },
  {
   "cell_type": "code",
   "execution_count": 44,
   "id": "meaning-induction",
   "metadata": {},
   "outputs": [],
   "source": [
    "ambience = pd.concat([train, dev, test]).sample(frac=1, random_state=42).reset_index(drop=True)"
   ]
  },
  {
   "cell_type": "code",
   "execution_count": 45,
   "id": "executive-paris",
   "metadata": {},
   "outputs": [
    {
     "data": {
      "text/html": [
       "<div>\n",
       "<style scoped>\n",
       "    .dataframe tbody tr th:only-of-type {\n",
       "        vertical-align: middle;\n",
       "    }\n",
       "\n",
       "    .dataframe tbody tr th {\n",
       "        vertical-align: top;\n",
       "    }\n",
       "\n",
       "    .dataframe thead th {\n",
       "        text-align: right;\n",
       "    }\n",
       "</style>\n",
       "<table border=\"1\" class=\"dataframe\">\n",
       "  <thead>\n",
       "    <tr style=\"text-align: right;\">\n",
       "      <th></th>\n",
       "      <th>photo_id</th>\n",
       "      <th>touristy</th>\n",
       "      <th>hipster</th>\n",
       "      <th>romantic</th>\n",
       "      <th>divey</th>\n",
       "      <th>intimate</th>\n",
       "      <th>trendy</th>\n",
       "      <th>upscale</th>\n",
       "      <th>classy</th>\n",
       "      <th>casual</th>\n",
       "    </tr>\n",
       "  </thead>\n",
       "  <tbody>\n",
       "    <tr>\n",
       "      <th>0</th>\n",
       "      <td>zlhx0gVrXYpmyhefgM-Z3w</td>\n",
       "      <td>False</td>\n",
       "      <td>False</td>\n",
       "      <td>False</td>\n",
       "      <td>False</td>\n",
       "      <td>False</td>\n",
       "      <td>False</td>\n",
       "      <td>False</td>\n",
       "      <td>False</td>\n",
       "      <td>True</td>\n",
       "    </tr>\n",
       "    <tr>\n",
       "      <th>1</th>\n",
       "      <td>y7ydtCJcf_Y6LT2kIhHkoA</td>\n",
       "      <td>False</td>\n",
       "      <td>False</td>\n",
       "      <td>False</td>\n",
       "      <td>False</td>\n",
       "      <td>False</td>\n",
       "      <td>False</td>\n",
       "      <td>False</td>\n",
       "      <td>False</td>\n",
       "      <td>True</td>\n",
       "    </tr>\n",
       "    <tr>\n",
       "      <th>2</th>\n",
       "      <td>AxxEwDWgRv5IJJ6KeJI76Q</td>\n",
       "      <td>False</td>\n",
       "      <td>False</td>\n",
       "      <td>False</td>\n",
       "      <td>False</td>\n",
       "      <td>False</td>\n",
       "      <td>False</td>\n",
       "      <td>False</td>\n",
       "      <td>False</td>\n",
       "      <td>True</td>\n",
       "    </tr>\n",
       "    <tr>\n",
       "      <th>3</th>\n",
       "      <td>72hGxAlV3W078BFDEhDnsg</td>\n",
       "      <td>False</td>\n",
       "      <td>False</td>\n",
       "      <td>False</td>\n",
       "      <td>False</td>\n",
       "      <td>False</td>\n",
       "      <td>True</td>\n",
       "      <td>False</td>\n",
       "      <td>False</td>\n",
       "      <td>True</td>\n",
       "    </tr>\n",
       "    <tr>\n",
       "      <th>4</th>\n",
       "      <td>LJu6pRQoDFmKiAJHsyswLQ</td>\n",
       "      <td>False</td>\n",
       "      <td>False</td>\n",
       "      <td>False</td>\n",
       "      <td>False</td>\n",
       "      <td>False</td>\n",
       "      <td>False</td>\n",
       "      <td>False</td>\n",
       "      <td>False</td>\n",
       "      <td>True</td>\n",
       "    </tr>\n",
       "  </tbody>\n",
       "</table>\n",
       "</div>"
      ],
      "text/plain": [
       "                 photo_id  touristy  hipster  romantic  divey  intimate  \\\n",
       "0  zlhx0gVrXYpmyhefgM-Z3w     False    False     False  False     False   \n",
       "1  y7ydtCJcf_Y6LT2kIhHkoA     False    False     False  False     False   \n",
       "2  AxxEwDWgRv5IJJ6KeJI76Q     False    False     False  False     False   \n",
       "3  72hGxAlV3W078BFDEhDnsg     False    False     False  False     False   \n",
       "4  LJu6pRQoDFmKiAJHsyswLQ     False    False     False  False     False   \n",
       "\n",
       "   trendy  upscale  classy  casual  \n",
       "0   False    False   False    True  \n",
       "1   False    False   False    True  \n",
       "2   False    False   False    True  \n",
       "3    True    False   False    True  \n",
       "4   False    False   False    True  "
      ]
     },
     "execution_count": 45,
     "metadata": {},
     "output_type": "execute_result"
    }
   ],
   "source": [
    "ambience.head()"
   ]
  },
  {
   "cell_type": "code",
   "execution_count": 52,
   "id": "conventional-disabled",
   "metadata": {},
   "outputs": [],
   "source": [
    "multilabel_rows = 0\n",
    "tcc = 0"
   ]
  },
  {
   "cell_type": "code",
   "execution_count": 53,
   "id": "flexible-printer",
   "metadata": {},
   "outputs": [
    {
     "data": {
      "application/vnd.jupyter.widget-view+json": {
       "model_id": "2008b603fe874b48956de14858fb5b84",
       "version_major": 2,
       "version_minor": 0
      },
      "text/plain": [
       "  0%|          | 0/150738 [00:00<?, ?it/s]"
      ]
     },
     "metadata": {},
     "output_type": "display_data"
    }
   ],
   "source": [
    "for i in tqdm(range(len(ambience))):\n",
    "    if sum(ambience.iloc[i, 1:]) > 1:\n",
    "        multilabel_rows += 1\n",
    "        if sum(ambience.iloc[i][['trendy', 'classy', 'casual']]) >= 1:\n",
    "            tcc += 1"
   ]
  },
  {
   "cell_type": "code",
   "execution_count": 56,
   "id": "concerned-murray",
   "metadata": {},
   "outputs": [
    {
     "data": {
      "text/plain": [
       "(75765, 75552)"
      ]
     },
     "execution_count": 56,
     "metadata": {},
     "output_type": "execute_result"
    }
   ],
   "source": [
    "multilabel_rows, tcc"
   ]
  },
  {
   "cell_type": "code",
   "execution_count": 57,
   "id": "recent-tobacco",
   "metadata": {},
   "outputs": [],
   "source": [
    "amb_cols = ['touristy', 'hipster', 'romantic', 'divey', 'intimate', 'trendy', 'upscale', 'classy', 'casual']"
   ]
  },
  {
   "cell_type": "code",
   "execution_count": 58,
   "id": "loaded-spine",
   "metadata": {},
   "outputs": [
    {
     "data": {
      "text/html": [
       "<div>\n",
       "<style scoped>\n",
       "    .dataframe tbody tr th:only-of-type {\n",
       "        vertical-align: middle;\n",
       "    }\n",
       "\n",
       "    .dataframe tbody tr th {\n",
       "        vertical-align: top;\n",
       "    }\n",
       "\n",
       "    .dataframe thead th {\n",
       "        text-align: right;\n",
       "    }\n",
       "</style>\n",
       "<table border=\"1\" class=\"dataframe\">\n",
       "  <thead>\n",
       "    <tr style=\"text-align: right;\">\n",
       "      <th></th>\n",
       "      <th>photo_id</th>\n",
       "      <th>touristy</th>\n",
       "      <th>hipster</th>\n",
       "      <th>romantic</th>\n",
       "      <th>divey</th>\n",
       "      <th>intimate</th>\n",
       "      <th>trendy</th>\n",
       "      <th>upscale</th>\n",
       "      <th>classy</th>\n",
       "      <th>casual</th>\n",
       "    </tr>\n",
       "  </thead>\n",
       "  <tbody>\n",
       "    <tr>\n",
       "      <th>0</th>\n",
       "      <td>zlhx0gVrXYpmyhefgM-Z3w</td>\n",
       "      <td>False</td>\n",
       "      <td>False</td>\n",
       "      <td>False</td>\n",
       "      <td>False</td>\n",
       "      <td>False</td>\n",
       "      <td>False</td>\n",
       "      <td>False</td>\n",
       "      <td>False</td>\n",
       "      <td>True</td>\n",
       "    </tr>\n",
       "    <tr>\n",
       "      <th>1</th>\n",
       "      <td>y7ydtCJcf_Y6LT2kIhHkoA</td>\n",
       "      <td>False</td>\n",
       "      <td>False</td>\n",
       "      <td>False</td>\n",
       "      <td>False</td>\n",
       "      <td>False</td>\n",
       "      <td>False</td>\n",
       "      <td>False</td>\n",
       "      <td>False</td>\n",
       "      <td>True</td>\n",
       "    </tr>\n",
       "    <tr>\n",
       "      <th>2</th>\n",
       "      <td>AxxEwDWgRv5IJJ6KeJI76Q</td>\n",
       "      <td>False</td>\n",
       "      <td>False</td>\n",
       "      <td>False</td>\n",
       "      <td>False</td>\n",
       "      <td>False</td>\n",
       "      <td>False</td>\n",
       "      <td>False</td>\n",
       "      <td>False</td>\n",
       "      <td>True</td>\n",
       "    </tr>\n",
       "    <tr>\n",
       "      <th>3</th>\n",
       "      <td>72hGxAlV3W078BFDEhDnsg</td>\n",
       "      <td>False</td>\n",
       "      <td>False</td>\n",
       "      <td>False</td>\n",
       "      <td>False</td>\n",
       "      <td>False</td>\n",
       "      <td>True</td>\n",
       "      <td>False</td>\n",
       "      <td>False</td>\n",
       "      <td>True</td>\n",
       "    </tr>\n",
       "    <tr>\n",
       "      <th>4</th>\n",
       "      <td>LJu6pRQoDFmKiAJHsyswLQ</td>\n",
       "      <td>False</td>\n",
       "      <td>False</td>\n",
       "      <td>False</td>\n",
       "      <td>False</td>\n",
       "      <td>False</td>\n",
       "      <td>False</td>\n",
       "      <td>False</td>\n",
       "      <td>False</td>\n",
       "      <td>True</td>\n",
       "    </tr>\n",
       "    <tr>\n",
       "      <th>...</th>\n",
       "      <td>...</td>\n",
       "      <td>...</td>\n",
       "      <td>...</td>\n",
       "      <td>...</td>\n",
       "      <td>...</td>\n",
       "      <td>...</td>\n",
       "      <td>...</td>\n",
       "      <td>...</td>\n",
       "      <td>...</td>\n",
       "      <td>...</td>\n",
       "    </tr>\n",
       "    <tr>\n",
       "      <th>150733</th>\n",
       "      <td>Uunrnu6ZXz-ZAbWAvNPwcQ</td>\n",
       "      <td>False</td>\n",
       "      <td>False</td>\n",
       "      <td>False</td>\n",
       "      <td>False</td>\n",
       "      <td>False</td>\n",
       "      <td>False</td>\n",
       "      <td>False</td>\n",
       "      <td>False</td>\n",
       "      <td>True</td>\n",
       "    </tr>\n",
       "    <tr>\n",
       "      <th>150734</th>\n",
       "      <td>74nMzTrIPeJhpVpnxktqBw</td>\n",
       "      <td>False</td>\n",
       "      <td>False</td>\n",
       "      <td>False</td>\n",
       "      <td>False</td>\n",
       "      <td>False</td>\n",
       "      <td>False</td>\n",
       "      <td>False</td>\n",
       "      <td>False</td>\n",
       "      <td>True</td>\n",
       "    </tr>\n",
       "    <tr>\n",
       "      <th>150735</th>\n",
       "      <td>6S10bG5BAnnZaUkccIY-NQ</td>\n",
       "      <td>False</td>\n",
       "      <td>False</td>\n",
       "      <td>False</td>\n",
       "      <td>False</td>\n",
       "      <td>False</td>\n",
       "      <td>False</td>\n",
       "      <td>False</td>\n",
       "      <td>False</td>\n",
       "      <td>True</td>\n",
       "    </tr>\n",
       "    <tr>\n",
       "      <th>150736</th>\n",
       "      <td>gQeU7f-YfWuc_i5JpXD7gQ</td>\n",
       "      <td>True</td>\n",
       "      <td>False</td>\n",
       "      <td>False</td>\n",
       "      <td>False</td>\n",
       "      <td>False</td>\n",
       "      <td>True</td>\n",
       "      <td>False</td>\n",
       "      <td>True</td>\n",
       "      <td>True</td>\n",
       "    </tr>\n",
       "    <tr>\n",
       "      <th>150737</th>\n",
       "      <td>iSkAm9jVvGQhSAgmr11UDQ</td>\n",
       "      <td>False</td>\n",
       "      <td>False</td>\n",
       "      <td>False</td>\n",
       "      <td>False</td>\n",
       "      <td>False</td>\n",
       "      <td>False</td>\n",
       "      <td>False</td>\n",
       "      <td>True</td>\n",
       "      <td>True</td>\n",
       "    </tr>\n",
       "  </tbody>\n",
       "</table>\n",
       "<p>150738 rows × 10 columns</p>\n",
       "</div>"
      ],
      "text/plain": [
       "                      photo_id  touristy  hipster  romantic  divey  intimate  \\\n",
       "0       zlhx0gVrXYpmyhefgM-Z3w     False    False     False  False     False   \n",
       "1       y7ydtCJcf_Y6LT2kIhHkoA     False    False     False  False     False   \n",
       "2       AxxEwDWgRv5IJJ6KeJI76Q     False    False     False  False     False   \n",
       "3       72hGxAlV3W078BFDEhDnsg     False    False     False  False     False   \n",
       "4       LJu6pRQoDFmKiAJHsyswLQ     False    False     False  False     False   \n",
       "...                        ...       ...      ...       ...    ...       ...   \n",
       "150733  Uunrnu6ZXz-ZAbWAvNPwcQ     False    False     False  False     False   \n",
       "150734  74nMzTrIPeJhpVpnxktqBw     False    False     False  False     False   \n",
       "150735  6S10bG5BAnnZaUkccIY-NQ     False    False     False  False     False   \n",
       "150736  gQeU7f-YfWuc_i5JpXD7gQ      True    False     False  False     False   \n",
       "150737  iSkAm9jVvGQhSAgmr11UDQ     False    False     False  False     False   \n",
       "\n",
       "        trendy  upscale  classy  casual  \n",
       "0        False    False   False    True  \n",
       "1        False    False   False    True  \n",
       "2        False    False   False    True  \n",
       "3         True    False   False    True  \n",
       "4        False    False   False    True  \n",
       "...        ...      ...     ...     ...  \n",
       "150733   False    False   False    True  \n",
       "150734   False    False   False    True  \n",
       "150735   False    False   False    True  \n",
       "150736    True    False    True    True  \n",
       "150737   False    False    True    True  \n",
       "\n",
       "[150738 rows x 10 columns]"
      ]
     },
     "execution_count": 58,
     "metadata": {},
     "output_type": "execute_result"
    }
   ],
   "source": [
    "ambience"
   ]
  },
  {
   "cell_type": "code",
   "execution_count": 76,
   "id": "skilled-responsibility",
   "metadata": {},
   "outputs": [],
   "source": [
    "amb_singlerow = ambience[ambience[['trendy', 'classy', 'casual']].sum(axis=1) < 2]"
   ]
  },
  {
   "cell_type": "code",
   "execution_count": 77,
   "id": "smoking-tradition",
   "metadata": {},
   "outputs": [
    {
     "data": {
      "text/html": [
       "<div>\n",
       "<style scoped>\n",
       "    .dataframe tbody tr th:only-of-type {\n",
       "        vertical-align: middle;\n",
       "    }\n",
       "\n",
       "    .dataframe tbody tr th {\n",
       "        vertical-align: top;\n",
       "    }\n",
       "\n",
       "    .dataframe thead th {\n",
       "        text-align: right;\n",
       "    }\n",
       "</style>\n",
       "<table border=\"1\" class=\"dataframe\">\n",
       "  <thead>\n",
       "    <tr style=\"text-align: right;\">\n",
       "      <th></th>\n",
       "      <th>photo_id</th>\n",
       "      <th>touristy</th>\n",
       "      <th>hipster</th>\n",
       "      <th>romantic</th>\n",
       "      <th>divey</th>\n",
       "      <th>intimate</th>\n",
       "      <th>trendy</th>\n",
       "      <th>upscale</th>\n",
       "      <th>classy</th>\n",
       "      <th>casual</th>\n",
       "    </tr>\n",
       "  </thead>\n",
       "  <tbody>\n",
       "    <tr>\n",
       "      <th>0</th>\n",
       "      <td>zlhx0gVrXYpmyhefgM-Z3w</td>\n",
       "      <td>False</td>\n",
       "      <td>False</td>\n",
       "      <td>False</td>\n",
       "      <td>False</td>\n",
       "      <td>False</td>\n",
       "      <td>False</td>\n",
       "      <td>False</td>\n",
       "      <td>False</td>\n",
       "      <td>True</td>\n",
       "    </tr>\n",
       "    <tr>\n",
       "      <th>1</th>\n",
       "      <td>y7ydtCJcf_Y6LT2kIhHkoA</td>\n",
       "      <td>False</td>\n",
       "      <td>False</td>\n",
       "      <td>False</td>\n",
       "      <td>False</td>\n",
       "      <td>False</td>\n",
       "      <td>False</td>\n",
       "      <td>False</td>\n",
       "      <td>False</td>\n",
       "      <td>True</td>\n",
       "    </tr>\n",
       "    <tr>\n",
       "      <th>2</th>\n",
       "      <td>AxxEwDWgRv5IJJ6KeJI76Q</td>\n",
       "      <td>False</td>\n",
       "      <td>False</td>\n",
       "      <td>False</td>\n",
       "      <td>False</td>\n",
       "      <td>False</td>\n",
       "      <td>False</td>\n",
       "      <td>False</td>\n",
       "      <td>False</td>\n",
       "      <td>True</td>\n",
       "    </tr>\n",
       "    <tr>\n",
       "      <th>4</th>\n",
       "      <td>LJu6pRQoDFmKiAJHsyswLQ</td>\n",
       "      <td>False</td>\n",
       "      <td>False</td>\n",
       "      <td>False</td>\n",
       "      <td>False</td>\n",
       "      <td>False</td>\n",
       "      <td>False</td>\n",
       "      <td>False</td>\n",
       "      <td>False</td>\n",
       "      <td>True</td>\n",
       "    </tr>\n",
       "    <tr>\n",
       "      <th>6</th>\n",
       "      <td>to2Ufr0_T5l6oHtQXxkyBQ</td>\n",
       "      <td>False</td>\n",
       "      <td>False</td>\n",
       "      <td>False</td>\n",
       "      <td>False</td>\n",
       "      <td>False</td>\n",
       "      <td>False</td>\n",
       "      <td>False</td>\n",
       "      <td>False</td>\n",
       "      <td>True</td>\n",
       "    </tr>\n",
       "    <tr>\n",
       "      <th>...</th>\n",
       "      <td>...</td>\n",
       "      <td>...</td>\n",
       "      <td>...</td>\n",
       "      <td>...</td>\n",
       "      <td>...</td>\n",
       "      <td>...</td>\n",
       "      <td>...</td>\n",
       "      <td>...</td>\n",
       "      <td>...</td>\n",
       "      <td>...</td>\n",
       "    </tr>\n",
       "    <tr>\n",
       "      <th>150726</th>\n",
       "      <td>pF54PztV16xz0N2aIGyYYg</td>\n",
       "      <td>False</td>\n",
       "      <td>False</td>\n",
       "      <td>False</td>\n",
       "      <td>False</td>\n",
       "      <td>False</td>\n",
       "      <td>False</td>\n",
       "      <td>False</td>\n",
       "      <td>False</td>\n",
       "      <td>True</td>\n",
       "    </tr>\n",
       "    <tr>\n",
       "      <th>150730</th>\n",
       "      <td>mao_Ww-aIbIclSSgtHcG3w</td>\n",
       "      <td>False</td>\n",
       "      <td>False</td>\n",
       "      <td>False</td>\n",
       "      <td>False</td>\n",
       "      <td>False</td>\n",
       "      <td>False</td>\n",
       "      <td>False</td>\n",
       "      <td>True</td>\n",
       "      <td>False</td>\n",
       "    </tr>\n",
       "    <tr>\n",
       "      <th>150733</th>\n",
       "      <td>Uunrnu6ZXz-ZAbWAvNPwcQ</td>\n",
       "      <td>False</td>\n",
       "      <td>False</td>\n",
       "      <td>False</td>\n",
       "      <td>False</td>\n",
       "      <td>False</td>\n",
       "      <td>False</td>\n",
       "      <td>False</td>\n",
       "      <td>False</td>\n",
       "      <td>True</td>\n",
       "    </tr>\n",
       "    <tr>\n",
       "      <th>150734</th>\n",
       "      <td>74nMzTrIPeJhpVpnxktqBw</td>\n",
       "      <td>False</td>\n",
       "      <td>False</td>\n",
       "      <td>False</td>\n",
       "      <td>False</td>\n",
       "      <td>False</td>\n",
       "      <td>False</td>\n",
       "      <td>False</td>\n",
       "      <td>False</td>\n",
       "      <td>True</td>\n",
       "    </tr>\n",
       "    <tr>\n",
       "      <th>150735</th>\n",
       "      <td>6S10bG5BAnnZaUkccIY-NQ</td>\n",
       "      <td>False</td>\n",
       "      <td>False</td>\n",
       "      <td>False</td>\n",
       "      <td>False</td>\n",
       "      <td>False</td>\n",
       "      <td>False</td>\n",
       "      <td>False</td>\n",
       "      <td>False</td>\n",
       "      <td>True</td>\n",
       "    </tr>\n",
       "  </tbody>\n",
       "</table>\n",
       "<p>89165 rows × 10 columns</p>\n",
       "</div>"
      ],
      "text/plain": [
       "                      photo_id  touristy  hipster  romantic  divey  intimate  \\\n",
       "0       zlhx0gVrXYpmyhefgM-Z3w     False    False     False  False     False   \n",
       "1       y7ydtCJcf_Y6LT2kIhHkoA     False    False     False  False     False   \n",
       "2       AxxEwDWgRv5IJJ6KeJI76Q     False    False     False  False     False   \n",
       "4       LJu6pRQoDFmKiAJHsyswLQ     False    False     False  False     False   \n",
       "6       to2Ufr0_T5l6oHtQXxkyBQ     False    False     False  False     False   \n",
       "...                        ...       ...      ...       ...    ...       ...   \n",
       "150726  pF54PztV16xz0N2aIGyYYg     False    False     False  False     False   \n",
       "150730  mao_Ww-aIbIclSSgtHcG3w     False    False     False  False     False   \n",
       "150733  Uunrnu6ZXz-ZAbWAvNPwcQ     False    False     False  False     False   \n",
       "150734  74nMzTrIPeJhpVpnxktqBw     False    False     False  False     False   \n",
       "150735  6S10bG5BAnnZaUkccIY-NQ     False    False     False  False     False   \n",
       "\n",
       "        trendy  upscale  classy  casual  \n",
       "0        False    False   False    True  \n",
       "1        False    False   False    True  \n",
       "2        False    False   False    True  \n",
       "4        False    False   False    True  \n",
       "6        False    False   False    True  \n",
       "...        ...      ...     ...     ...  \n",
       "150726   False    False   False    True  \n",
       "150730   False    False    True   False  \n",
       "150733   False    False   False    True  \n",
       "150734   False    False   False    True  \n",
       "150735   False    False   False    True  \n",
       "\n",
       "[89165 rows x 10 columns]"
      ]
     },
     "execution_count": 77,
     "metadata": {},
     "output_type": "execute_result"
    }
   ],
   "source": [
    "amb_singlerow"
   ]
  },
  {
   "cell_type": "code",
   "execution_count": 89,
   "id": "searching-harvard",
   "metadata": {},
   "outputs": [
    {
     "name": "stdout",
     "output_type": "stream",
     "text": [
      "False    143442\n",
      "True       7296\n",
      "Name: touristy, dtype: int64\n",
      "False    138216\n",
      "True      12522\n",
      "Name: hipster, dtype: int64\n",
      "False    146090\n",
      "True       4648\n",
      "Name: romantic, dtype: int64\n",
      "False    147700\n",
      "True       3038\n",
      "Name: divey, dtype: int64\n",
      "False    146349\n",
      "True       4389\n",
      "Name: intimate, dtype: int64\n",
      "False    119228\n",
      "True      31510\n",
      "Name: trendy, dtype: int64\n",
      "False    144884\n",
      "True       5854\n",
      "Name: upscale, dtype: int64\n",
      "False    77663\n",
      "True     73075\n",
      "Name: classy, dtype: int64\n",
      "True     113692\n",
      "False     37046\n",
      "Name: casual, dtype: int64\n"
     ]
    }
   ],
   "source": [
    "for col in amb_cols:\n",
    "    print(ambience[col].value_counts())"
   ]
  },
  {
   "cell_type": "code",
   "execution_count": 91,
   "id": "hungarian-healing",
   "metadata": {},
   "outputs": [
    {
     "data": {
      "text/html": [
       "<div>\n",
       "<style scoped>\n",
       "    .dataframe tbody tr th:only-of-type {\n",
       "        vertical-align: middle;\n",
       "    }\n",
       "\n",
       "    .dataframe tbody tr th {\n",
       "        vertical-align: top;\n",
       "    }\n",
       "\n",
       "    .dataframe thead th {\n",
       "        text-align: right;\n",
       "    }\n",
       "</style>\n",
       "<table border=\"1\" class=\"dataframe\">\n",
       "  <thead>\n",
       "    <tr style=\"text-align: right;\">\n",
       "      <th></th>\n",
       "      <th>photo_id</th>\n",
       "      <th>touristy</th>\n",
       "      <th>hipster</th>\n",
       "      <th>romantic</th>\n",
       "      <th>divey</th>\n",
       "      <th>intimate</th>\n",
       "      <th>trendy</th>\n",
       "      <th>upscale</th>\n",
       "      <th>classy</th>\n",
       "      <th>casual</th>\n",
       "    </tr>\n",
       "  </thead>\n",
       "  <tbody>\n",
       "    <tr>\n",
       "      <th>0</th>\n",
       "      <td>zlhx0gVrXYpmyhefgM-Z3w</td>\n",
       "      <td>False</td>\n",
       "      <td>False</td>\n",
       "      <td>False</td>\n",
       "      <td>False</td>\n",
       "      <td>False</td>\n",
       "      <td>False</td>\n",
       "      <td>False</td>\n",
       "      <td>False</td>\n",
       "      <td>True</td>\n",
       "    </tr>\n",
       "    <tr>\n",
       "      <th>1</th>\n",
       "      <td>y7ydtCJcf_Y6LT2kIhHkoA</td>\n",
       "      <td>False</td>\n",
       "      <td>False</td>\n",
       "      <td>False</td>\n",
       "      <td>False</td>\n",
       "      <td>False</td>\n",
       "      <td>False</td>\n",
       "      <td>False</td>\n",
       "      <td>False</td>\n",
       "      <td>True</td>\n",
       "    </tr>\n",
       "    <tr>\n",
       "      <th>2</th>\n",
       "      <td>AxxEwDWgRv5IJJ6KeJI76Q</td>\n",
       "      <td>False</td>\n",
       "      <td>False</td>\n",
       "      <td>False</td>\n",
       "      <td>False</td>\n",
       "      <td>False</td>\n",
       "      <td>False</td>\n",
       "      <td>False</td>\n",
       "      <td>False</td>\n",
       "      <td>True</td>\n",
       "    </tr>\n",
       "    <tr>\n",
       "      <th>3</th>\n",
       "      <td>72hGxAlV3W078BFDEhDnsg</td>\n",
       "      <td>False</td>\n",
       "      <td>False</td>\n",
       "      <td>False</td>\n",
       "      <td>False</td>\n",
       "      <td>False</td>\n",
       "      <td>True</td>\n",
       "      <td>False</td>\n",
       "      <td>False</td>\n",
       "      <td>True</td>\n",
       "    </tr>\n",
       "    <tr>\n",
       "      <th>4</th>\n",
       "      <td>LJu6pRQoDFmKiAJHsyswLQ</td>\n",
       "      <td>False</td>\n",
       "      <td>False</td>\n",
       "      <td>False</td>\n",
       "      <td>False</td>\n",
       "      <td>False</td>\n",
       "      <td>False</td>\n",
       "      <td>False</td>\n",
       "      <td>False</td>\n",
       "      <td>True</td>\n",
       "    </tr>\n",
       "  </tbody>\n",
       "</table>\n",
       "</div>"
      ],
      "text/plain": [
       "                 photo_id  touristy  hipster  romantic  divey  intimate  \\\n",
       "0  zlhx0gVrXYpmyhefgM-Z3w     False    False     False  False     False   \n",
       "1  y7ydtCJcf_Y6LT2kIhHkoA     False    False     False  False     False   \n",
       "2  AxxEwDWgRv5IJJ6KeJI76Q     False    False     False  False     False   \n",
       "3  72hGxAlV3W078BFDEhDnsg     False    False     False  False     False   \n",
       "4  LJu6pRQoDFmKiAJHsyswLQ     False    False     False  False     False   \n",
       "\n",
       "   trendy  upscale  classy  casual  \n",
       "0   False    False   False    True  \n",
       "1   False    False   False    True  \n",
       "2   False    False   False    True  \n",
       "3    True    False   False    True  \n",
       "4   False    False   False    True  "
      ]
     },
     "execution_count": 91,
     "metadata": {},
     "output_type": "execute_result"
    }
   ],
   "source": [
    "ambience.head()"
   ]
  },
  {
   "cell_type": "code",
   "execution_count": 96,
   "id": "intellectual-notice",
   "metadata": {},
   "outputs": [],
   "source": [
    "ambience = ambience.drop(['trendy', 'classy', 'casual'], axis=1)"
   ]
  },
  {
   "cell_type": "code",
   "execution_count": 97,
   "id": "professional-family",
   "metadata": {},
   "outputs": [
    {
     "data": {
      "text/html": [
       "<div>\n",
       "<style scoped>\n",
       "    .dataframe tbody tr th:only-of-type {\n",
       "        vertical-align: middle;\n",
       "    }\n",
       "\n",
       "    .dataframe tbody tr th {\n",
       "        vertical-align: top;\n",
       "    }\n",
       "\n",
       "    .dataframe thead th {\n",
       "        text-align: right;\n",
       "    }\n",
       "</style>\n",
       "<table border=\"1\" class=\"dataframe\">\n",
       "  <thead>\n",
       "    <tr style=\"text-align: right;\">\n",
       "      <th></th>\n",
       "      <th>photo_id</th>\n",
       "      <th>touristy</th>\n",
       "      <th>hipster</th>\n",
       "      <th>romantic</th>\n",
       "      <th>divey</th>\n",
       "      <th>intimate</th>\n",
       "      <th>upscale</th>\n",
       "    </tr>\n",
       "  </thead>\n",
       "  <tbody>\n",
       "    <tr>\n",
       "      <th>0</th>\n",
       "      <td>zlhx0gVrXYpmyhefgM-Z3w</td>\n",
       "      <td>False</td>\n",
       "      <td>False</td>\n",
       "      <td>False</td>\n",
       "      <td>False</td>\n",
       "      <td>False</td>\n",
       "      <td>False</td>\n",
       "    </tr>\n",
       "    <tr>\n",
       "      <th>1</th>\n",
       "      <td>y7ydtCJcf_Y6LT2kIhHkoA</td>\n",
       "      <td>False</td>\n",
       "      <td>False</td>\n",
       "      <td>False</td>\n",
       "      <td>False</td>\n",
       "      <td>False</td>\n",
       "      <td>False</td>\n",
       "    </tr>\n",
       "    <tr>\n",
       "      <th>2</th>\n",
       "      <td>AxxEwDWgRv5IJJ6KeJI76Q</td>\n",
       "      <td>False</td>\n",
       "      <td>False</td>\n",
       "      <td>False</td>\n",
       "      <td>False</td>\n",
       "      <td>False</td>\n",
       "      <td>False</td>\n",
       "    </tr>\n",
       "    <tr>\n",
       "      <th>3</th>\n",
       "      <td>72hGxAlV3W078BFDEhDnsg</td>\n",
       "      <td>False</td>\n",
       "      <td>False</td>\n",
       "      <td>False</td>\n",
       "      <td>False</td>\n",
       "      <td>False</td>\n",
       "      <td>False</td>\n",
       "    </tr>\n",
       "    <tr>\n",
       "      <th>4</th>\n",
       "      <td>LJu6pRQoDFmKiAJHsyswLQ</td>\n",
       "      <td>False</td>\n",
       "      <td>False</td>\n",
       "      <td>False</td>\n",
       "      <td>False</td>\n",
       "      <td>False</td>\n",
       "      <td>False</td>\n",
       "    </tr>\n",
       "  </tbody>\n",
       "</table>\n",
       "</div>"
      ],
      "text/plain": [
       "                 photo_id  touristy  hipster  romantic  divey  intimate  \\\n",
       "0  zlhx0gVrXYpmyhefgM-Z3w     False    False     False  False     False   \n",
       "1  y7ydtCJcf_Y6LT2kIhHkoA     False    False     False  False     False   \n",
       "2  AxxEwDWgRv5IJJ6KeJI76Q     False    False     False  False     False   \n",
       "3  72hGxAlV3W078BFDEhDnsg     False    False     False  False     False   \n",
       "4  LJu6pRQoDFmKiAJHsyswLQ     False    False     False  False     False   \n",
       "\n",
       "   upscale  \n",
       "0    False  \n",
       "1    False  \n",
       "2    False  \n",
       "3    False  \n",
       "4    False  "
      ]
     },
     "execution_count": 97,
     "metadata": {},
     "output_type": "execute_result"
    }
   ],
   "source": [
    "ambience.head()"
   ]
  },
  {
   "cell_type": "code",
   "execution_count": 101,
   "id": "noble-cotton",
   "metadata": {},
   "outputs": [],
   "source": [
    "ambience = ambience[ambience.sum(axis=1) > 0].reset_index(drop=True)"
   ]
  },
  {
   "cell_type": "code",
   "execution_count": 102,
   "id": "academic-quarterly",
   "metadata": {},
   "outputs": [
    {
     "data": {
      "text/html": [
       "<div>\n",
       "<style scoped>\n",
       "    .dataframe tbody tr th:only-of-type {\n",
       "        vertical-align: middle;\n",
       "    }\n",
       "\n",
       "    .dataframe tbody tr th {\n",
       "        vertical-align: top;\n",
       "    }\n",
       "\n",
       "    .dataframe thead th {\n",
       "        text-align: right;\n",
       "    }\n",
       "</style>\n",
       "<table border=\"1\" class=\"dataframe\">\n",
       "  <thead>\n",
       "    <tr style=\"text-align: right;\">\n",
       "      <th></th>\n",
       "      <th>photo_id</th>\n",
       "      <th>touristy</th>\n",
       "      <th>hipster</th>\n",
       "      <th>romantic</th>\n",
       "      <th>divey</th>\n",
       "      <th>intimate</th>\n",
       "      <th>upscale</th>\n",
       "    </tr>\n",
       "  </thead>\n",
       "  <tbody>\n",
       "    <tr>\n",
       "      <th>0</th>\n",
       "      <td>ZlTwL6uWx6rW_L9Df5RT8A</td>\n",
       "      <td>False</td>\n",
       "      <td>False</td>\n",
       "      <td>True</td>\n",
       "      <td>False</td>\n",
       "      <td>True</td>\n",
       "      <td>False</td>\n",
       "    </tr>\n",
       "    <tr>\n",
       "      <th>1</th>\n",
       "      <td>fHbSMxueQfXFRb9e-6bJuw</td>\n",
       "      <td>False</td>\n",
       "      <td>False</td>\n",
       "      <td>False</td>\n",
       "      <td>True</td>\n",
       "      <td>False</td>\n",
       "      <td>False</td>\n",
       "    </tr>\n",
       "    <tr>\n",
       "      <th>2</th>\n",
       "      <td>74oWvVVIjms9LjfHQOgxMQ</td>\n",
       "      <td>False</td>\n",
       "      <td>False</td>\n",
       "      <td>False</td>\n",
       "      <td>False</td>\n",
       "      <td>False</td>\n",
       "      <td>True</td>\n",
       "    </tr>\n",
       "    <tr>\n",
       "      <th>3</th>\n",
       "      <td>QY6c1OKsIpujF4MDHQdbag</td>\n",
       "      <td>False</td>\n",
       "      <td>True</td>\n",
       "      <td>False</td>\n",
       "      <td>False</td>\n",
       "      <td>False</td>\n",
       "      <td>False</td>\n",
       "    </tr>\n",
       "    <tr>\n",
       "      <th>4</th>\n",
       "      <td>0AYEzNJYFF2PeXo71cpKuw</td>\n",
       "      <td>False</td>\n",
       "      <td>True</td>\n",
       "      <td>False</td>\n",
       "      <td>False</td>\n",
       "      <td>False</td>\n",
       "      <td>False</td>\n",
       "    </tr>\n",
       "  </tbody>\n",
       "</table>\n",
       "</div>"
      ],
      "text/plain": [
       "                 photo_id  touristy  hipster  romantic  divey  intimate  \\\n",
       "0  ZlTwL6uWx6rW_L9Df5RT8A     False    False      True  False      True   \n",
       "1  fHbSMxueQfXFRb9e-6bJuw     False    False     False   True     False   \n",
       "2  74oWvVVIjms9LjfHQOgxMQ     False    False     False  False     False   \n",
       "3  QY6c1OKsIpujF4MDHQdbag     False     True     False  False     False   \n",
       "4  0AYEzNJYFF2PeXo71cpKuw     False     True     False  False     False   \n",
       "\n",
       "   upscale  \n",
       "0    False  \n",
       "1    False  \n",
       "2     True  \n",
       "3    False  \n",
       "4    False  "
      ]
     },
     "execution_count": 102,
     "metadata": {},
     "output_type": "execute_result"
    }
   ],
   "source": [
    "ambience.head()"
   ]
  },
  {
   "cell_type": "code",
   "execution_count": 120,
   "id": "square-disaster",
   "metadata": {},
   "outputs": [
    {
     "data": {
      "application/vnd.jupyter.widget-view+json": {
       "model_id": "1e6de43345d341189c42d183fdb01f3f",
       "version_major": 2,
       "version_minor": 0
      },
      "text/plain": [
       "  0%|          | 0/32928 [00:00<?, ?it/s]"
      ]
     },
     "metadata": {},
     "output_type": "display_data"
    }
   ],
   "source": [
    "mll_tour = 0\n",
    "for i in tqdm(range(len(ambience))):\n",
    "    if sum(ambience.iloc[i, 1:]) > 1:\n",
    "        mll_tour += 1"
   ]
  },
  {
   "cell_type": "code",
   "execution_count": 121,
   "id": "southwest-novelty",
   "metadata": {},
   "outputs": [
    {
     "data": {
      "text/plain": [
       "3997"
      ]
     },
     "execution_count": 121,
     "metadata": {},
     "output_type": "execute_result"
    }
   ],
   "source": [
    "mll_tour"
   ]
  },
  {
   "cell_type": "code",
   "execution_count": 108,
   "id": "through-hamilton",
   "metadata": {},
   "outputs": [],
   "source": [
    "new_cols = ['touristy', 'hipster', 'romantic', 'divey', 'intimate', 'upscale']"
   ]
  },
  {
   "cell_type": "code",
   "execution_count": 109,
   "id": "religious-cincinnati",
   "metadata": {},
   "outputs": [
    {
     "name": "stdout",
     "output_type": "stream",
     "text": [
      "False    25632\n",
      "True      7296\n",
      "Name: touristy, dtype: int64\n",
      "False    20406\n",
      "True     12522\n",
      "Name: hipster, dtype: int64\n",
      "False    28280\n",
      "True      4648\n",
      "Name: romantic, dtype: int64\n",
      "False    29890\n",
      "True      3038\n",
      "Name: divey, dtype: int64\n",
      "False    28539\n",
      "True      4389\n",
      "Name: intimate, dtype: int64\n",
      "False    27074\n",
      "True      5854\n",
      "Name: upscale, dtype: int64\n"
     ]
    }
   ],
   "source": [
    "for col in new_cols:\n",
    "    print(ambience[col].value_counts())"
   ]
  },
  {
   "cell_type": "code",
   "execution_count": 119,
   "id": "round-marker",
   "metadata": {},
   "outputs": [
    {
     "data": {
      "text/plain": [
       "32928"
      ]
     },
     "execution_count": 119,
     "metadata": {},
     "output_type": "execute_result"
    }
   ],
   "source": [
    "len(ambience)"
   ]
  },
  {
   "cell_type": "code",
   "execution_count": 123,
   "id": "burning-prayer",
   "metadata": {},
   "outputs": [],
   "source": [
    "ambience.to_csv('yelp_academic/data/business_ambience.csv', index = False)"
   ]
  },
  {
   "cell_type": "code",
   "execution_count": null,
   "id": "detected-assist",
   "metadata": {},
   "outputs": [],
   "source": []
  }
 ],
 "metadata": {
  "kernelspec": {
   "display_name": "Python 3",
   "language": "python",
   "name": "python3"
  },
  "language_info": {
   "codemirror_mode": {
    "name": "ipython",
    "version": 3
   },
   "file_extension": ".py",
   "mimetype": "text/x-python",
   "name": "python",
   "nbconvert_exporter": "python",
   "pygments_lexer": "ipython3",
   "version": "3.6.9"
  }
 },
 "nbformat": 4,
 "nbformat_minor": 5
}
