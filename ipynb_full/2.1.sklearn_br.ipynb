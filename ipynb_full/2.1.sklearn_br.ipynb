{
 "cells": [
  {
   "cell_type": "code",
   "execution_count": 1,
   "id": "bacterial-clearing",
   "metadata": {},
   "outputs": [],
   "source": [
    "import json\n",
    "import pickle\n",
    "import pandas as pd\n",
    "import numpy as np"
   ]
  },
  {
   "cell_type": "code",
   "execution_count": 2,
   "id": "alien-spouse",
   "metadata": {},
   "outputs": [],
   "source": [
    "import os\n",
    "from tqdm.notebook import tqdm"
   ]
  },
  {
   "cell_type": "code",
   "execution_count": 3,
   "id": "designed-investing",
   "metadata": {},
   "outputs": [],
   "source": [
    "os.chdir('../')"
   ]
  },
  {
   "cell_type": "code",
   "execution_count": 4,
   "id": "occupational-digest",
   "metadata": {},
   "outputs": [],
   "source": [
    "with open('config.json', 'r') as f:\n",
    "    config = json.load(f)['sklearn']"
   ]
  },
  {
   "cell_type": "code",
   "execution_count": 5,
   "id": "moral-feature",
   "metadata": {},
   "outputs": [],
   "source": [
    "br = pd.read_csv(config['br_data_path'])"
   ]
  },
  {
   "cell_type": "code",
   "execution_count": 6,
   "id": "fleet-ranking",
   "metadata": {},
   "outputs": [
    {
     "data": {
      "text/html": [
       "<div>\n",
       "<style scoped>\n",
       "    .dataframe tbody tr th:only-of-type {\n",
       "        vertical-align: middle;\n",
       "    }\n",
       "\n",
       "    .dataframe tbody tr th {\n",
       "        vertical-align: top;\n",
       "    }\n",
       "\n",
       "    .dataframe thead th {\n",
       "        text-align: right;\n",
       "    }\n",
       "</style>\n",
       "<table border=\"1\" class=\"dataframe\">\n",
       "  <thead>\n",
       "    <tr style=\"text-align: right;\">\n",
       "      <th></th>\n",
       "      <th>photo_id</th>\n",
       "      <th>is_business</th>\n",
       "    </tr>\n",
       "  </thead>\n",
       "  <tbody>\n",
       "    <tr>\n",
       "      <th>0</th>\n",
       "      <td>3V7tgMx3Qw5L9ZjRLNbthA</td>\n",
       "      <td>True</td>\n",
       "    </tr>\n",
       "    <tr>\n",
       "      <th>1</th>\n",
       "      <td>fZo1owoYqwAHW7uZlTz1XQ</td>\n",
       "      <td>False</td>\n",
       "    </tr>\n",
       "    <tr>\n",
       "      <th>2</th>\n",
       "      <td>zwOCQ8w3gFuF3zi_dyIWpw</td>\n",
       "      <td>False</td>\n",
       "    </tr>\n",
       "    <tr>\n",
       "      <th>3</th>\n",
       "      <td>hQBfeDngFMpB9HX2CPKtag</td>\n",
       "      <td>True</td>\n",
       "    </tr>\n",
       "    <tr>\n",
       "      <th>4</th>\n",
       "      <td>Fjh4N5B38vJWVbuQk-v3aQ</td>\n",
       "      <td>True</td>\n",
       "    </tr>\n",
       "  </tbody>\n",
       "</table>\n",
       "</div>"
      ],
      "text/plain": [
       "                 photo_id  is_business\n",
       "0  3V7tgMx3Qw5L9ZjRLNbthA         True\n",
       "1  fZo1owoYqwAHW7uZlTz1XQ        False\n",
       "2  zwOCQ8w3gFuF3zi_dyIWpw        False\n",
       "3  hQBfeDngFMpB9HX2CPKtag         True\n",
       "4  Fjh4N5B38vJWVbuQk-v3aQ         True"
      ]
     },
     "execution_count": 6,
     "metadata": {},
     "output_type": "execute_result"
    }
   ],
   "source": [
    "br.head()"
   ]
  },
  {
   "cell_type": "code",
   "execution_count": 7,
   "id": "healthy-biotechnology",
   "metadata": {},
   "outputs": [],
   "source": [
    "from sklearn.model_selection import train_test_split"
   ]
  },
  {
   "cell_type": "code",
   "execution_count": 8,
   "id": "freelance-terminal",
   "metadata": {},
   "outputs": [],
   "source": [
    "X_train_files, X_test_files, y_train, y_test = train_test_split(br, br.is_business, train_size = 0.9, random_state=420, stratify=br.is_business)"
   ]
  },
  {
   "cell_type": "code",
   "execution_count": 9,
   "id": "academic-inspector",
   "metadata": {},
   "outputs": [],
   "source": [
    "COCO_INSTANCE_CATEGORY_NAMES = [\n",
    "    '__background__', 'person', 'bicycle', 'car', 'motorcycle', 'airplane', 'bus',\n",
    "    'train', 'truck', 'boat', 'traffic light', 'fire hydrant', 'N/A', 'stop sign',\n",
    "    'parking meter', 'bench', 'bird', 'cat', 'dog', 'horse', 'sheep', 'cow',\n",
    "    'elephant', 'bear', 'zebra', 'giraffe', 'N/A', 'backpack', 'umbrella', 'N/A', 'N/A',\n",
    "    'handbag', 'tie', 'suitcase', 'frisbee', 'skis', 'snowboard', 'sports ball',\n",
    "    'kite', 'baseball bat', 'baseball glove', 'skateboard', 'surfboard', 'tennis racket',\n",
    "    'bottle', 'N/A', 'wine glass', 'cup', 'fork', 'knife', 'spoon', 'bowl',\n",
    "    'banana', 'apple', 'sandwich', 'orange', 'broccoli', 'carrot', 'hot dog', 'pizza',\n",
    "    'donut', 'cake', 'chair', 'couch', 'potted plant', 'bed', 'N/A', 'dining table',\n",
    "    'N/A', 'N/A', 'toilet', 'N/A', 'tv', 'laptop', 'mouse', 'remote', 'keyboard', 'cell phone',\n",
    "    'microwave', 'oven', 'toaster', 'sink', 'refrigerator', 'N/A', 'book',\n",
    "    'clock', 'vase', 'scissors', 'teddy bear', 'hair drier', 'toothbrush'\n",
    "]"
   ]
  },
  {
   "cell_type": "code",
   "execution_count": 10,
   "id": "cosmetic-insider",
   "metadata": {
    "tags": []
   },
   "outputs": [],
   "source": [
    "with open(config['obj_feats_path'], 'rb') as io:\n",
    "    objects = pickle.load(io)"
   ]
  },
  {
   "cell_type": "code",
   "execution_count": 11,
   "id": "unnecessary-advance",
   "metadata": {
    "tags": []
   },
   "outputs": [],
   "source": [
    "trf_features = np.load(config['trf_feats_path'], allow_pickle = True)['arr_0'][()]"
   ]
  },
  {
   "cell_type": "code",
   "execution_count": 12,
   "id": "opponent-ordinance",
   "metadata": {},
   "outputs": [
    {
     "data": {
      "text/plain": [
       "[(('LYiu06twTYN5_HndA_b-Cg',),\n",
       "  [([(166.24751, 158.46727), (223.51633, 339.36807)], 46, 0.9968928),\n",
       "   ([(115.754234, 100.15254), (175.79247, 289.48053)], 44, 0.9934689),\n",
       "   ([(5.7081475, 143.40843), (57.751545, 327.2468)], 46, 0.99128866),\n",
       "   ([(84.24994, 52.882652), (170.16812, 136.35014)], 1, 0.9865284),\n",
       "   ([(4.960636, 227.64551), (220.60417, 397.3526)], 67, 0.96494514),\n",
       "   ([(0.8416633, 4.649881), (220.56383, 127.64469)], 79, 0.78191566),\n",
       "   ([(0.0, 222.43925), (18.95716, 284.204)], 47, 0.67385864),\n",
       "   ([(100.82414, 291.31363), (144.11972, 337.40964)], 61, 0.5718027)]),\n",
       " (('EyRUH511mIh3We4Ce0PFVg',),\n",
       "  [([(268.95145, 183.03993), (300.0, 228.78711)], 8, 0.79613465)])]"
      ]
     },
     "execution_count": 12,
     "metadata": {},
     "output_type": "execute_result"
    }
   ],
   "source": [
    "list(objects.items())[:2]"
   ]
  },
  {
   "cell_type": "code",
   "execution_count": 13,
   "id": "willing-gabriel",
   "metadata": {},
   "outputs": [],
   "source": [
    "vector_size = len(COCO_INSTANCE_CATEGORY_NAMES)"
   ]
  },
  {
   "cell_type": "code",
   "execution_count": 13,
   "id": "breathing-cycle",
   "metadata": {},
   "outputs": [],
   "source": [
    "binary_feature_vectors = {}"
   ]
  },
  {
   "cell_type": "code",
   "execution_count": 14,
   "id": "amazing-jonathan",
   "metadata": {},
   "outputs": [
    {
     "data": {
      "application/vnd.jupyter.widget-view+json": {
       "model_id": "2d2d679e9e7a406a9bf63d94f7d45ecb",
       "version_major": 2,
       "version_minor": 0
      },
      "text/plain": [
       "  0%|          | 0/84222 [00:00<?, ?it/s]"
      ]
     },
     "metadata": {},
     "output_type": "display_data"
    }
   ],
   "source": [
    "for name, boxes in tqdm(objects.items()):\n",
    "    confidence_vector = np.zeros(vector_size)\n",
    "    counts_vector = np.zeros(vector_size)\n",
    "    for box in boxes:\n",
    "        if box:\n",
    "            _, idx, confidence = box\n",
    "            confidence_vector[idx] = max(confidence_vector[idx], confidence)\n",
    "            counts_vector[idx] += 1\n",
    "    binary_feature_vectors[name[0]] = np.concatenate((confidence_vector, counts_vector))"
   ]
  },
  {
   "cell_type": "code",
   "execution_count": 15,
   "id": "filled-research",
   "metadata": {},
   "outputs": [],
   "source": [
    "all_vectors = np.array(list(binary_feature_vectors.values()))"
   ]
  },
  {
   "cell_type": "code",
   "execution_count": 16,
   "id": "color-words",
   "metadata": {},
   "outputs": [],
   "source": [
    "empty_columns = []\n",
    "\n",
    "trans_arr = all_vectors.T\n",
    "for i in range(trans_arr.shape[0]):\n",
    "    if np.all(trans_arr[i] == trans_arr[i][0]):\n",
    "        empty_columns.append(i)"
   ]
  },
  {
   "cell_type": "code",
   "execution_count": 17,
   "id": "attempted-climb",
   "metadata": {},
   "outputs": [
    {
     "data": {
      "text/plain": [
       "[0,\n",
       " 12,\n",
       " 26,\n",
       " 29,\n",
       " 30,\n",
       " 45,\n",
       " 66,\n",
       " 68,\n",
       " 69,\n",
       " 71,\n",
       " 83,\n",
       " 91,\n",
       " 103,\n",
       " 117,\n",
       " 120,\n",
       " 121,\n",
       " 136,\n",
       " 157,\n",
       " 159,\n",
       " 160,\n",
       " 162,\n",
       " 174]"
      ]
     },
     "execution_count": 17,
     "metadata": {},
     "output_type": "execute_result"
    }
   ],
   "source": [
    "empty_columns"
   ]
  },
  {
   "cell_type": "code",
   "execution_count": 18,
   "id": "psychological-worry",
   "metadata": {},
   "outputs": [],
   "source": [
    "for c in empty_columns[::-1]:\n",
    "    if c < len(COCO_INSTANCE_CATEGORY_NAMES):\n",
    "        del COCO_INSTANCE_CATEGORY_NAMES[c]\n",
    "    all_vectors = np.delete(all_vectors, c, 1)"
   ]
  },
  {
   "cell_type": "code",
   "execution_count": 19,
   "id": "tribal-anime",
   "metadata": {},
   "outputs": [],
   "source": [
    "names = list(binary_feature_vectors.keys())"
   ]
  },
  {
   "cell_type": "code",
   "execution_count": 20,
   "id": "waiting-ranking",
   "metadata": {},
   "outputs": [],
   "source": [
    "features = {\n",
    "    names[i]: np.concatenate((trf_features[names[i]], all_vectors[i])) for i in range(len(names))\n",
    "}"
   ]
  },
  {
   "cell_type": "code",
   "execution_count": 21,
   "id": "published-harvey",
   "metadata": {},
   "outputs": [],
   "source": [
    "X_train, X_test = [], []"
   ]
  },
  {
   "cell_type": "code",
   "execution_count": 22,
   "id": "rational-gravity",
   "metadata": {},
   "outputs": [
    {
     "data": {
      "text/plain": [
       "84222"
      ]
     },
     "execution_count": 22,
     "metadata": {},
     "output_type": "execute_result"
    }
   ],
   "source": [
    "len(features)"
   ]
  },
  {
   "cell_type": "code",
   "execution_count": 23,
   "id": "committed-rescue",
   "metadata": {
    "tags": []
   },
   "outputs": [
    {
     "data": {
      "application/vnd.jupyter.widget-view+json": {
       "model_id": "1ee219921c914c5db7eacf923dd3a983",
       "version_major": 2,
       "version_minor": 0
      },
      "text/plain": [
       "  0%|          | 0/53600 [00:00<?, ?it/s]"
      ]
     },
     "metadata": {},
     "output_type": "display_data"
    }
   ],
   "source": [
    "for filename in tqdm(X_train_files.photo_id):\n",
    "    X_train.append(features[filename])"
   ]
  },
  {
   "cell_type": "code",
   "execution_count": 24,
   "id": "norman-mirror",
   "metadata": {},
   "outputs": [
    {
     "data": {
      "application/vnd.jupyter.widget-view+json": {
       "model_id": "47682ad1698e4bc3bccce9ee50d5e238",
       "version_major": 2,
       "version_minor": 0
      },
      "text/plain": [
       "  0%|          | 0/5956 [00:00<?, ?it/s]"
      ]
     },
     "metadata": {},
     "output_type": "display_data"
    }
   ],
   "source": [
    "for filename in tqdm(X_test_files.photo_id):\n",
    "    X_test.append(features[filename])"
   ]
  },
  {
   "cell_type": "code",
   "execution_count": 25,
   "id": "fabulous-tablet",
   "metadata": {},
   "outputs": [],
   "source": [
    "X_train = np.array(X_train)\n",
    "X_test = np.array(X_test)"
   ]
  },
  {
   "cell_type": "code",
   "execution_count": 26,
   "id": "soviet-polish",
   "metadata": {},
   "outputs": [
    {
     "data": {
      "text/plain": [
       "(5956, 1184)"
      ]
     },
     "execution_count": 26,
     "metadata": {},
     "output_type": "execute_result"
    }
   ],
   "source": [
    "X_test.shape"
   ]
  },
  {
   "cell_type": "code",
   "execution_count": 27,
   "id": "billion-surgery",
   "metadata": {},
   "outputs": [],
   "source": [
    "from sklearn.pipeline import make_pipeline\n",
    "from sklearn.preprocessing import StandardScaler\n",
    "from sklearn.linear_model import LogisticRegression\n",
    "from sklearn.naive_bayes import BernoulliNB\n",
    "from sklearn.svm import SVC\n",
    "from sklearn.ensemble import RandomForestClassifier\n",
    "from sklearn.metrics import confusion_matrix, f1_score, balanced_accuracy_score"
   ]
  },
  {
   "cell_type": "code",
   "execution_count": 28,
   "id": "played-solomon",
   "metadata": {},
   "outputs": [],
   "source": [
    "lr_clf = make_pipeline(StandardScaler(), LogisticRegression(max_iter=10000, random_state=42)).fit(X_train, y_train)"
   ]
  },
  {
   "cell_type": "code",
   "execution_count": 28,
   "id": "hidden-tours",
   "metadata": {},
   "outputs": [
    {
     "data": {
      "text/plain": [
       "0.699798522498321"
      ]
     },
     "execution_count": 28,
     "metadata": {},
     "output_type": "execute_result"
    }
   ],
   "source": [
    "lr_clf.score(X_test, y_test)  # same as balanced_accuracy_score because classes are equally represented"
   ]
  },
  {
   "cell_type": "code",
   "execution_count": 29,
   "id": "delayed-porcelain",
   "metadata": {},
   "outputs": [
    {
     "data": {
      "text/plain": [
       "0.7130016051364366"
      ]
     },
     "execution_count": 29,
     "metadata": {},
     "output_type": "execute_result"
    }
   ],
   "source": [
    "f1_score(y_test, lr_clf.predict(X_test))"
   ]
  },
  {
   "cell_type": "code",
   "execution_count": 31,
   "id": "curious-samba",
   "metadata": {},
   "outputs": [],
   "source": [
    "nb_clf = make_pipeline(StandardScaler(), BernoulliNB()).fit(X_train, y_train)"
   ]
  },
  {
   "cell_type": "code",
   "execution_count": 32,
   "id": "impossible-contents",
   "metadata": {},
   "outputs": [
    {
     "data": {
      "text/plain": [
       "0.6334788448623238"
      ]
     },
     "execution_count": 32,
     "metadata": {},
     "output_type": "execute_result"
    }
   ],
   "source": [
    "nb_clf.score(X_test, y_test)  # same as balanced_accuracy_score because classes are equally represented"
   ]
  },
  {
   "cell_type": "code",
   "execution_count": 33,
   "id": "assured-australia",
   "metadata": {},
   "outputs": [
    {
     "data": {
      "text/plain": [
       "0.6533269811021121"
      ]
     },
     "execution_count": 33,
     "metadata": {},
     "output_type": "execute_result"
    }
   ],
   "source": [
    "f1_score(y_test, nb_clf.predict(X_test))"
   ]
  },
  {
   "cell_type": "code",
   "execution_count": 28,
   "id": "romantic-fellowship",
   "metadata": {},
   "outputs": [],
   "source": [
    "svc_clf = make_pipeline(StandardScaler(), SVC(gamma='auto')).fit(X_train, y_train)"
   ]
  },
  {
   "cell_type": "code",
   "execution_count": 41,
   "id": "judicial-turtle",
   "metadata": {},
   "outputs": [],
   "source": [
    "y_pred = svc_clf.predict(X_test)"
   ]
  },
  {
   "cell_type": "code",
   "execution_count": 42,
   "id": "directed-demand",
   "metadata": {},
   "outputs": [
    {
     "data": {
      "text/plain": [
       "0.727165883143049"
      ]
     },
     "execution_count": 42,
     "metadata": {},
     "output_type": "execute_result"
    }
   ],
   "source": [
    "balanced_accuracy_score(y_test, y_pred)"
   ]
  },
  {
   "cell_type": "code",
   "execution_count": 43,
   "id": "moral-carry",
   "metadata": {},
   "outputs": [
    {
     "data": {
      "text/plain": [
       "0.7446173188747447"
      ]
     },
     "execution_count": 43,
     "metadata": {},
     "output_type": "execute_result"
    }
   ],
   "source": [
    "f1_score(y_test, y_pred)"
   ]
  },
  {
   "cell_type": "code",
   "execution_count": 35,
   "id": "historical-bryan",
   "metadata": {
    "tags": []
   },
   "outputs": [],
   "source": [
    "rf_clf = make_pipeline(StandardScaler(), RandomForestClassifier(random_state=42)).fit(X_train, y_train)"
   ]
  },
  {
   "cell_type": "code",
   "execution_count": 37,
   "id": "resident-phase",
   "metadata": {},
   "outputs": [],
   "source": [
    "y_pred = rf_clf.predict(X_test)"
   ]
  },
  {
   "cell_type": "code",
   "execution_count": 38,
   "id": "sharp-hampshire",
   "metadata": {},
   "outputs": [
    {
     "data": {
      "text/plain": [
       "0.7175596159801797"
      ]
     },
     "execution_count": 38,
     "metadata": {},
     "output_type": "execute_result"
    }
   ],
   "source": [
    "f1_score(y_test, y_pred)"
   ]
  },
  {
   "cell_type": "code",
   "execution_count": 39,
   "id": "surgical-species",
   "metadata": {},
   "outputs": [
    {
     "data": {
      "text/plain": [
       "0.6937541974479516"
      ]
     },
     "execution_count": 39,
     "metadata": {},
     "output_type": "execute_result"
    }
   ],
   "source": [
    "balanced_accuracy_score(y_test, y_pred)"
   ]
  },
  {
   "cell_type": "code",
   "execution_count": null,
   "id": "corporate-toilet",
   "metadata": {},
   "outputs": [],
   "source": []
  }
 ],
 "metadata": {
  "kernelspec": {
   "display_name": "Python 3",
   "language": "python",
   "name": "python3"
  },
  "language_info": {
   "codemirror_mode": {
    "name": "ipython",
    "version": 3
   },
   "file_extension": ".py",
   "mimetype": "text/x-python",
   "name": "python",
   "nbconvert_exporter": "python",
   "pygments_lexer": "ipython3",
   "version": "3.6.9"
  }
 },
 "nbformat": 4,
 "nbformat_minor": 5
}
