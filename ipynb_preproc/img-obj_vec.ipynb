{
 "cells": [
  {
   "cell_type": "code",
   "execution_count": null,
   "metadata": {
    "_cell_guid": "b1076dfc-b9ad-4769-8c92-a6c4dae69d19",
    "_uuid": "8f2839f25d086af736a60e9eeb907d3b93b6e0e5"
   },
   "outputs": [],
   "source": [
    "import os\n",
    "import pickle\n",
    "import numpy as np\n",
    "import pandas as pd\n",
    "from tqdm.notebook import tqdm\n",
    "from IPython.display import FileLink"
   ]
  },
  {
   "cell_type": "code",
   "execution_count": null,
   "metadata": {},
   "outputs": [],
   "source": [
    "pip install --upgrade torchvision"
   ]
  },
  {
   "cell_type": "code",
   "execution_count": null,
   "metadata": {},
   "outputs": [],
   "source": [
    "import torch\n",
    "from torch.utils.data import Dataset, DataLoader\n",
    "\n",
    "import torchvision\n",
    "from torchvision import transforms\n",
    "from PIL import Image"
   ]
  },
  {
   "cell_type": "code",
   "execution_count": null,
   "metadata": {},
   "outputs": [],
   "source": [
    "device = torch.device('cuda' if torch.cuda.is_available() else 'cpu')"
   ]
  },
  {
   "cell_type": "code",
   "execution_count": null,
   "metadata": {},
   "outputs": [],
   "source": [
    "device"
   ]
  },
  {
   "cell_type": "code",
   "execution_count": null,
   "metadata": {},
   "outputs": [],
   "source": [
    "img_path = '../input/photos-for-object-detection/photos'\n",
    "existing_file = '../input/picklebackups/img_objects.pickle'\n",
    "out_file = '../working/img_objects.pickle'"
   ]
  },
  {
   "cell_type": "code",
   "execution_count": null,
   "metadata": {},
   "outputs": [],
   "source": [
    "os.listdir()"
   ]
  },
  {
   "cell_type": "code",
   "execution_count": null,
   "metadata": {},
   "outputs": [],
   "source": [
    "detection_model = torchvision.models.detection.fasterrcnn_mobilenet_v3_large_fpn(\n",
    "    pretrained=True, progress=True, num_classes=91, pretrained_backbone=True, trainable_backbone_layers=None)"
   ]
  },
  {
   "cell_type": "code",
   "execution_count": null,
   "metadata": {},
   "outputs": [],
   "source": [
    "detection_model.to(device).eval()\n",
    "print(1)"
   ]
  },
  {
   "cell_type": "code",
   "execution_count": null,
   "metadata": {},
   "outputs": [],
   "source": [
    "def get_prediction(model, image, threshold):\n",
    "    \"\"\"Given an image, uses a model to predict object boxes with confidence level above threshold\"\"\"\n",
    "    preds = model(image)[0]\n",
    "    \n",
    "    keep_boxes = torchvision.ops.nms(preds['boxes'], preds['scores'], 0.5)\n",
    "    \n",
    "    classes = list(preds['labels'].cpu().numpy())\n",
    "    classes = [classes[idx] for idx in keep_boxes]\n",
    "    boxes = [[(i[0], i[1]), (i[2], i[3])] for i in list(preds['boxes'].cpu().detach().numpy())]\n",
    "    boxes = [boxes[idx] for idx in keep_boxes]\n",
    "    scores = list(preds['scores'].cpu().detach().numpy())\n",
    "    scores = [scores[idx] for idx in keep_boxes]\n",
    "    \n",
    "    valid_boxes = [scores.index(x) for x in scores if x>threshold]\n",
    "    if not valid_boxes: return [()]\n",
    "    p_thresh = valid_boxes[-1]\n",
    "    pred_boxes = boxes[:p_thresh+1]\n",
    "    pred_classes = classes[:p_thresh+1]\n",
    "    pred_scores = scores[:p_thresh+1]\n",
    "    \n",
    "    return list(zip(pred_boxes, pred_classes, pred_scores))"
   ]
  },
  {
   "cell_type": "code",
   "execution_count": null,
   "metadata": {},
   "outputs": [],
   "source": [
    "class ImgDataset(Dataset):\n",
    "    def __init__(self, main_dir, transform):\n",
    "        self.main_dir = main_dir\n",
    "        self.transform = transform\n",
    "        self.all_imgs = os.listdir(main_dir)\n",
    "\n",
    "    def __len__(self):\n",
    "        return len(self.all_imgs)\n",
    "\n",
    "    def __getitem__(self, idx):\n",
    "        img_loc = os.path.join(self.main_dir, self.all_imgs[idx])\n",
    "        image = Image.open(img_loc).convert(\"RGB\")\n",
    "        tensor_image = self.transform(image)\n",
    "        return tensor_image, img_loc.split('/')[-1].split('.')[0], image.size"
   ]
  },
  {
   "cell_type": "code",
   "execution_count": null,
   "metadata": {},
   "outputs": [],
   "source": [
    "if not os.path.isfile(existing_file):\n",
    "    found_objects = {}\n",
    "else:\n",
    "    with open(existing_file, 'rb') as img_dict:\n",
    "        found_objects = pickle.load(img_dict)"
   ]
  },
  {
   "cell_type": "code",
   "execution_count": null,
   "metadata": {},
   "outputs": [],
   "source": [
    "trsfm = transforms.Compose([transforms.ToTensor()])"
   ]
  },
  {
   "cell_type": "code",
   "execution_count": null,
   "metadata": {},
   "outputs": [],
   "source": [
    "detect_dataset = ImgDataset(img_path, transform=trsfm)\n",
    "detect_loader = DataLoader(detect_dataset, batch_size=1, shuffle=False, \n",
    "                               num_workers=0, drop_last=True)"
   ]
  },
  {
   "cell_type": "code",
   "execution_count": null,
   "metadata": {},
   "outputs": [],
   "source": [
    "count = len(found_objects)\n",
    "for img, imgname, imgsize in tqdm(detect_loader):\n",
    "    if imgname not in found_objects:\n",
    "        count += 1\n",
    "        img = img.to(device)\n",
    "        found_objects[imgname] = get_prediction(detection_model, img, 0.5)\n",
    "        if not count % 10000:\n",
    "            with open(out_file, 'wb') as img_dict:\n",
    "                pickle.dump(found_objects, img_dict, protocol=pickle.HIGHEST_PROTOCOL)"
   ]
  },
  {
   "cell_type": "code",
   "execution_count": null,
   "metadata": {},
   "outputs": [],
   "source": [
    "with open(out_file, 'wb') as img_dict:\n",
    "    pickle.dump(found_objects, img_dict, protocol=pickle.HIGHEST_PROTOCOL)"
   ]
  },
  {
   "cell_type": "code",
   "execution_count": null,
   "metadata": {},
   "outputs": [],
   "source": [
    "FileLink(r'img_objects.pickle')"
   ]
  },
  {
   "cell_type": "code",
   "execution_count": null,
   "metadata": {},
   "outputs": [],
   "source": []
  }
 ],
 "metadata": {
  "kernelspec": {
   "display_name": "Python 3",
   "language": "python",
   "name": "python3"
  },
  "language_info": {
   "codemirror_mode": {
    "name": "ipython",
    "version": 3
   },
   "file_extension": ".py",
   "mimetype": "text/x-python",
   "name": "python",
   "nbconvert_exporter": "python",
   "pygments_lexer": "ipython3",
   "version": "3.6.9"
  }
 },
 "nbformat": 4,
 "nbformat_minor": 4
}
