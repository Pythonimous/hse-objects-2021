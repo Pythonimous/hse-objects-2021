{
 "cells": [
  {
   "cell_type": "code",
   "execution_count": 1,
   "id": "narrow-domestic",
   "metadata": {},
   "outputs": [],
   "source": [
    "from __future__ import print_function\n",
    "from __future__ import division"
   ]
  },
  {
   "cell_type": "code",
   "execution_count": 2,
   "id": "chinese-luther",
   "metadata": {},
   "outputs": [],
   "source": [
    "import torch\n",
    "from torch.utils.data import DataLoader"
   ]
  },
  {
   "cell_type": "code",
   "execution_count": 3,
   "id": "accessible-combination",
   "metadata": {},
   "outputs": [],
   "source": [
    "import pytorch_lightning as pl\n",
    "from pytorch_lightning.callbacks.early_stopping import EarlyStopping\n",
    "from pytorch_lightning.callbacks import ModelCheckpoint"
   ]
  },
  {
   "cell_type": "code",
   "execution_count": 4,
   "id": "regular-harbor",
   "metadata": {},
   "outputs": [],
   "source": [
    "import torchvision\n",
    "from torchvision import transforms"
   ]
  },
  {
   "cell_type": "code",
   "execution_count": 5,
   "id": "headed-tucson",
   "metadata": {},
   "outputs": [],
   "source": [
    "import numpy as np\n",
    "import pandas as pd\n",
    "import matplotlib.pyplot as plt"
   ]
  },
  {
   "cell_type": "code",
   "execution_count": 6,
   "id": "duplicate-marble",
   "metadata": {},
   "outputs": [],
   "source": [
    "import time\n",
    "import os\n",
    "import copy\n",
    "from tqdm.notebook import tqdm"
   ]
  },
  {
   "cell_type": "code",
   "execution_count": 7,
   "id": "instructional-specific",
   "metadata": {},
   "outputs": [],
   "source": [
    "from lightning_model import init_cls_model"
   ]
  },
  {
   "cell_type": "code",
   "execution_count": 8,
   "id": "filled-princeton",
   "metadata": {},
   "outputs": [
    {
     "ename": "ImportError",
     "evalue": "cannot import name 'IsRestaurantDataset'",
     "output_type": "error",
     "traceback": [
      "\u001b[0;31m---------------------------------------------------------------------------\u001b[0m",
      "\u001b[0;31mImportError\u001b[0m                               Traceback (most recent call last)",
      "\u001b[0;32m<ipython-input-8-e51bede68b91>\u001b[0m in \u001b[0;36m<module>\u001b[0;34m\u001b[0m\n\u001b[0;32m----> 1\u001b[0;31m \u001b[0;32mfrom\u001b[0m \u001b[0mdataset_loaders\u001b[0m \u001b[0;32mimport\u001b[0m \u001b[0mIsRestaurantDataset\u001b[0m\u001b[0;34m\u001b[0m\u001b[0;34m\u001b[0m\u001b[0m\n\u001b[0m",
      "\u001b[0;31mImportError\u001b[0m: cannot import name 'IsRestaurantDataset'"
     ]
    }
   ],
   "source": [
    "from dataset_loaders import IsRestaurantDataset"
   ]
  },
  {
   "cell_type": "code",
   "execution_count": 11,
   "id": "understanding-spirituality",
   "metadata": {},
   "outputs": [
    {
     "name": "stdout",
     "output_type": "stream",
     "text": [
      "PyTorch Version:  1.8.1+cu102\n",
      "Torchvision Version:  0.9.1+cu102\n",
      "PyTorch Lightning Version:  1.1.8\n"
     ]
    }
   ],
   "source": [
    "print(\"PyTorch Version: \",torch.__version__)\n",
    "print(\"Torchvision Version: \",torchvision.__version__)\n",
    "print(\"PyTorch Lightning Version: \",pl.__version__)"
   ]
  },
  {
   "cell_type": "code",
   "execution_count": 12,
   "id": "delayed-newfoundland",
   "metadata": {
    "tags": []
   },
   "outputs": [
    {
     "ename": "FileNotFoundError",
     "evalue": "[Errno 2] No such file or directory: 'yelp_academic'",
     "output_type": "error",
     "traceback": [
      "\u001b[0;31m---------------------------------------------------------------------------\u001b[0m",
      "\u001b[0;31mFileNotFoundError\u001b[0m                         Traceback (most recent call last)",
      "\u001b[0;32m<ipython-input-12-2dcf70629203>\u001b[0m in \u001b[0;36m<module>\u001b[0;34m\u001b[0m\n\u001b[0;32m----> 1\u001b[0;31m \u001b[0mos\u001b[0m\u001b[0;34m.\u001b[0m\u001b[0mchdir\u001b[0m\u001b[0;34m(\u001b[0m\u001b[0;34m'yelp_academic'\u001b[0m\u001b[0;34m)\u001b[0m\u001b[0;34m\u001b[0m\u001b[0;34m\u001b[0m\u001b[0m\n\u001b[0m",
      "\u001b[0;31mFileNotFoundError\u001b[0m: [Errno 2] No such file or directory: 'yelp_academic'"
     ]
    }
   ],
   "source": [
    "os.chdir('yelp_academic')"
   ]
  },
  {
   "cell_type": "code",
   "execution_count": 13,
   "id": "addressed-casting",
   "metadata": {},
   "outputs": [],
   "source": [
    "photo_dir = 'photos/'\n",
    "csv_path = \"data/business_restaurant.csv\""
   ]
  },
  {
   "cell_type": "code",
   "execution_count": 20,
   "id": "registered-wesley",
   "metadata": {},
   "outputs": [],
   "source": [
    "FLAGS = {\n",
    "    'model_name': 'custom',\n",
    "    'num_classes': 2,\n",
    "    'batch_size': 128,\n",
    "    'num_workers': 0,\n",
    "    'learning_rate': 0.02,\n",
    "    'momentum': 0.9,\n",
    "    'num_epochs': 3,\n",
    "    'output_dim': 6,\n",
    "    'class_weight': [3.513, 1.63, 6.084, 9.839, 6.502, 4.625],\n",
    "    'multilabel': True,\n",
    "    'feature_extract': True,\n",
    "    'use_pretrained': True\n",
    "        }"
   ]
  },
  {
   "cell_type": "code",
   "execution_count": 21,
   "id": "excessive-significance",
   "metadata": {},
   "outputs": [],
   "source": [
    "transfer_model, input_size = init_cls_model(FLAGS)"
   ]
  },
  {
   "cell_type": "code",
   "execution_count": 22,
   "id": "incorrect-leonard",
   "metadata": {},
   "outputs": [
    {
     "data": {
      "text/plain": [
       "LightningTransfer(\n",
       "  (model): CustomCNN(\n",
       "    (conv1): Sequential(\n",
       "      (0): Conv2d(3, 8, kernel_size=(3, 3), stride=(1, 1))\n",
       "      (1): MaxPool2d(kernel_size=4, stride=3, padding=0, dilation=1, ceil_mode=False)\n",
       "      (2): ReLU()\n",
       "    )\n",
       "    (conv2): Sequential(\n",
       "      (0): Conv2d(8, 16, kernel_size=(3, 3), stride=(1, 1))\n",
       "      (1): MaxPool2d(kernel_size=3, stride=2, padding=0, dilation=1, ceil_mode=False)\n",
       "      (2): Dropout2d(p=0.5, inplace=False)\n",
       "      (3): ReLU()\n",
       "    )\n",
       "    (conv3): Sequential(\n",
       "      (0): Conv2d(16, 32, kernel_size=(3, 3), stride=(1, 1))\n",
       "      (1): MaxPool2d(kernel_size=3, stride=2, padding=0, dilation=1, ceil_mode=False)\n",
       "      (2): Dropout2d(p=0.5, inplace=False)\n",
       "      (3): ReLU()\n",
       "    )\n",
       "    (fc1): Linear(in_features=8192, out_features=4096, bias=True)\n",
       "    (fc2): Linear(in_features=4096, out_features=1024, bias=True)\n",
       "    (fc3): Linear(in_features=1024, out_features=6, bias=True)\n",
       "    (drop): Dropout(p=0.5, inplace=False)\n",
       "    (relu): ReLU()\n",
       "  )\n",
       "  (criterion): BCEWithLogitsLoss()\n",
       ")"
      ]
     },
     "execution_count": 22,
     "metadata": {},
     "output_type": "execute_result"
    }
   ],
   "source": [
    "transfer_model"
   ]
  },
  {
   "cell_type": "code",
   "execution_count": 14,
   "id": "special-worship",
   "metadata": {},
   "outputs": [],
   "source": [
    "data_transforms = {\n",
    "    'train': transforms.Compose([\n",
    "        transforms.RandomResizedCrop(input_size),\n",
    "        transforms.RandomHorizontalFlip(),\n",
    "        transforms.ToTensor(),\n",
    "        transforms.Normalize([0.485, 0.456, 0.406], [0.229, 0.224, 0.225])\n",
    "    ]),\n",
    "    'dev': transforms.Compose([\n",
    "        transforms.Resize(input_size),\n",
    "        transforms.CenterCrop(input_size),\n",
    "        transforms.ToTensor(),\n",
    "        transforms.Normalize([0.485, 0.456, 0.406], [0.229, 0.224, 0.225])\n",
    "    ]),\n",
    "    'test': transforms.Compose([\n",
    "        transforms.Resize(input_size),\n",
    "        transforms.CenterCrop(input_size),\n",
    "        transforms.ToTensor(),\n",
    "        transforms.Normalize([0.485, 0.456, 0.406], [0.229, 0.224, 0.225])\n",
    "    ]),\n",
    "}"
   ]
  },
  {
   "cell_type": "code",
   "execution_count": 15,
   "id": "professional-estonia",
   "metadata": {},
   "outputs": [
    {
     "name": "stdout",
     "output_type": "stream",
     "text": [
      "Initializing Datasets and Dataloaders...\n"
     ]
    }
   ],
   "source": [
    "print(\"Initializing Datasets and Dataloaders...\")"
   ]
  },
  {
   "cell_type": "code",
   "execution_count": 16,
   "id": "reliable-safety",
   "metadata": {},
   "outputs": [],
   "source": [
    "csv_file = pd.read_csv(csv_path)"
   ]
  },
  {
   "cell_type": "code",
   "execution_count": 17,
   "id": "functional-absorption",
   "metadata": {},
   "outputs": [
    {
     "data": {
      "text/html": [
       "<div>\n",
       "<style scoped>\n",
       "    .dataframe tbody tr th:only-of-type {\n",
       "        vertical-align: middle;\n",
       "    }\n",
       "\n",
       "    .dataframe tbody tr th {\n",
       "        vertical-align: top;\n",
       "    }\n",
       "\n",
       "    .dataframe thead th {\n",
       "        text-align: right;\n",
       "    }\n",
       "</style>\n",
       "<table border=\"1\" class=\"dataframe\">\n",
       "  <thead>\n",
       "    <tr style=\"text-align: right;\">\n",
       "      <th></th>\n",
       "      <th>photo_id</th>\n",
       "      <th>is_business</th>\n",
       "    </tr>\n",
       "  </thead>\n",
       "  <tbody>\n",
       "    <tr>\n",
       "      <th>0</th>\n",
       "      <td>3V7tgMx3Qw5L9ZjRLNbthA</td>\n",
       "      <td>True</td>\n",
       "    </tr>\n",
       "    <tr>\n",
       "      <th>1</th>\n",
       "      <td>fZo1owoYqwAHW7uZlTz1XQ</td>\n",
       "      <td>False</td>\n",
       "    </tr>\n",
       "    <tr>\n",
       "      <th>2</th>\n",
       "      <td>zwOCQ8w3gFuF3zi_dyIWpw</td>\n",
       "      <td>False</td>\n",
       "    </tr>\n",
       "    <tr>\n",
       "      <th>3</th>\n",
       "      <td>hQBfeDngFMpB9HX2CPKtag</td>\n",
       "      <td>True</td>\n",
       "    </tr>\n",
       "    <tr>\n",
       "      <th>4</th>\n",
       "      <td>Fjh4N5B38vJWVbuQk-v3aQ</td>\n",
       "      <td>True</td>\n",
       "    </tr>\n",
       "  </tbody>\n",
       "</table>\n",
       "</div>"
      ],
      "text/plain": [
       "                 photo_id  is_business\n",
       "0  3V7tgMx3Qw5L9ZjRLNbthA         True\n",
       "1  fZo1owoYqwAHW7uZlTz1XQ        False\n",
       "2  zwOCQ8w3gFuF3zi_dyIWpw        False\n",
       "3  hQBfeDngFMpB9HX2CPKtag         True\n",
       "4  Fjh4N5B38vJWVbuQk-v3aQ         True"
      ]
     },
     "execution_count": 17,
     "metadata": {},
     "output_type": "execute_result"
    }
   ],
   "source": [
    "csv_file.head()"
   ]
  },
  {
   "cell_type": "code",
   "execution_count": 18,
   "id": "unable-broadcast",
   "metadata": {},
   "outputs": [],
   "source": [
    "from sklearn.model_selection import train_test_split"
   ]
  },
  {
   "cell_type": "code",
   "execution_count": 19,
   "id": "enhanced-proposition",
   "metadata": {},
   "outputs": [],
   "source": [
    "train, test = train_test_split(csv_file, test_size=0.2, random_state=42, stratify=csv_file.is_business)"
   ]
  },
  {
   "cell_type": "code",
   "execution_count": 20,
   "id": "homeless-credits",
   "metadata": {},
   "outputs": [],
   "source": [
    "dev, test = train_test_split(test, test_size=0.5, random_state=42, stratify=test.is_business)"
   ]
  },
  {
   "cell_type": "code",
   "execution_count": 21,
   "id": "promising-perfume",
   "metadata": {},
   "outputs": [],
   "source": [
    "data_frames = {'train': train,\n",
    "              'dev': dev,\n",
    "              'test': test}"
   ]
  },
  {
   "cell_type": "code",
   "execution_count": 22,
   "id": "vulnerable-china",
   "metadata": {},
   "outputs": [],
   "source": [
    "# Create training and validation datasets\n",
    "image_datasets = {x: IsRestaurantDataset(data_frames[x], photo_dir, data_transforms[x]) for x in ['train', 'dev', 'test']}\n",
    "# Create training and validation dataloaders\n",
    "dataloaders_dict = {x: DataLoader(image_datasets[x],\n",
    "                                  batch_size=FLAGS['batch_size'],\n",
    "                                  shuffle=True,\n",
    "                                  num_workers=FLAGS['num_workers']) for x in ['train', 'dev']}\n",
    "dataloaders_dict['test'] = DataLoader(image_datasets['test'],\n",
    "                                      batch_size=FLAGS['batch_size'],\n",
    "                                      shuffle=False,\n",
    "                                      num_workers=FLAGS['num_workers'])"
   ]
  },
  {
   "cell_type": "code",
   "execution_count": 23,
   "id": "according-growing",
   "metadata": {},
   "outputs": [
    {
     "data": {
      "text/plain": [
       "{'train': <torch.utils.data.dataloader.DataLoader at 0x7f02b17140b8>,\n",
       " 'dev': <torch.utils.data.dataloader.DataLoader at 0x7f02b1714208>,\n",
       " 'test': <torch.utils.data.dataloader.DataLoader at 0x7f02b16fbfd0>}"
      ]
     },
     "execution_count": 23,
     "metadata": {},
     "output_type": "execute_result"
    }
   ],
   "source": [
    "dataloaders_dict"
   ]
  },
  {
   "cell_type": "code",
   "execution_count": 24,
   "id": "combined-museum",
   "metadata": {},
   "outputs": [],
   "source": [
    "checkpoint_callback = ModelCheckpoint(monitor='val_loss')\n",
    "early_stop_callback = EarlyStopping(monitor='val_loss', patience=2)"
   ]
  },
  {
   "cell_type": "code",
   "execution_count": 25,
   "id": "instrumental-planner",
   "metadata": {},
   "outputs": [
    {
     "name": "stderr",
     "output_type": "stream",
     "text": [
      "GPU available: False, used: False\n",
      "TPU available: None, using: 0 TPU cores\n"
     ]
    }
   ],
   "source": [
    "trainer = pl.Trainer(callbacks=[checkpoint_callback, early_stop_callback])"
   ]
  },
  {
   "cell_type": "code",
   "execution_count": 26,
   "id": "focal-maine",
   "metadata": {},
   "outputs": [
    {
     "name": "stderr",
     "output_type": "stream",
     "text": [
      "\n",
      "  | Name  | Type   | Params\n",
      "---------------------------------\n",
      "0 | model | ResNet | 11.2 M\n",
      "---------------------------------\n",
      "1.0 K     Trainable params\n",
      "11.2 M    Non-trainable params\n",
      "11.2 M    Total params\n"
     ]
    },
    {
     "data": {
      "application/vnd.jupyter.widget-view+json": {
       "model_id": "",
       "version_major": 2,
       "version_minor": 0
      },
      "text/plain": [
       "Validation sanity check: 0it [00:00, ?it/s]"
      ]
     },
     "metadata": {},
     "output_type": "display_data"
    },
    {
     "data": {
      "application/vnd.jupyter.widget-view+json": {
       "model_id": "f6ddabca141e44c1b04289b636db2e05",
       "version_major": 2,
       "version_minor": 0
      },
      "text/plain": [
       "Training: 0it [00:00, ?it/s]"
      ]
     },
     "metadata": {},
     "output_type": "display_data"
    },
    {
     "data": {
      "text/plain": [
       "1"
      ]
     },
     "execution_count": 26,
     "metadata": {},
     "output_type": "execute_result"
    }
   ],
   "source": [
    "trainer.fit(transfer_model, dataloaders_dict['train'], dataloaders_dict['dev'])"
   ]
  },
  {
   "cell_type": "code",
   "execution_count": null,
   "id": "afraid-stations",
   "metadata": {},
   "outputs": [],
   "source": [
    "trainer.test(transfer_model, dataloaders_dict['test'])"
   ]
  }
 ],
 "metadata": {
  "kernelspec": {
   "display_name": "Python 3",
   "language": "python",
   "name": "python3"
  },
  "language_info": {
   "codemirror_mode": {
    "name": "ipython",
    "version": 3
   },
   "file_extension": ".py",
   "mimetype": "text/x-python",
   "name": "python",
   "nbconvert_exporter": "python",
   "pygments_lexer": "ipython3",
   "version": "3.6.9"
  }
 },
 "nbformat": 4,
 "nbformat_minor": 5
}
