{
 "cells": [
  {
   "cell_type": "code",
   "execution_count": 1,
   "metadata": {
    "id": "hearing-sheffield"
   },
   "outputs": [],
   "source": [
    "from __future__ import print_function\n",
    "from __future__ import division"
   ]
  },
  {
   "cell_type": "code",
   "execution_count": 3,
   "metadata": {
    "id": "developmental-monster"
   },
   "outputs": [],
   "source": [
    "import torch\n",
    "from torch.utils.data import DataLoader"
   ]
  },
  {
   "cell_type": "code",
   "execution_count": 4,
   "metadata": {
    "id": "wicked-trout"
   },
   "outputs": [],
   "source": [
    "import pytorch_lightning as pl\n",
    "from pytorch_lightning.callbacks.early_stopping import EarlyStopping\n",
    "from pytorch_lightning.callbacks import ModelCheckpoint"
   ]
  },
  {
   "cell_type": "code",
   "execution_count": 5,
   "metadata": {
    "id": "handmade-decline"
   },
   "outputs": [],
   "source": [
    "import torchvision\n",
    "from torchvision import transforms"
   ]
  },
  {
   "cell_type": "code",
   "execution_count": 6,
   "metadata": {
    "id": "equal-capture"
   },
   "outputs": [],
   "source": [
    "import numpy as np\n",
    "import pandas as pd\n",
    "import matplotlib.pyplot as plt"
   ]
  },
  {
   "cell_type": "code",
   "execution_count": 7,
   "metadata": {
    "id": "direct-theorem"
   },
   "outputs": [],
   "source": [
    "import time\n",
    "import os\n",
    "import copy\n",
    "from tqdm.notebook import tqdm"
   ]
  },
  {
   "cell_type": "code",
   "execution_count": 8,
   "metadata": {},
   "outputs": [],
   "source": [
    "os.chdir('../')"
   ]
  },
  {
   "cell_type": "code",
   "execution_count": 9,
   "metadata": {},
   "outputs": [
    {
     "data": {
      "text/plain": [
       "['yelpimports', 'yelpbusinessambience']"
      ]
     },
     "execution_count": 9,
     "metadata": {},
     "output_type": "execute_result"
    }
   ],
   "source": [
    "os.listdir('input')"
   ]
  },
  {
   "cell_type": "code",
   "execution_count": 38,
   "metadata": {
    "id": "educational-stream"
   },
   "outputs": [],
   "source": [
    "from input.yelpimports.lightning_model import LightningTransfer, init_cls_model\n",
    "from input.yelpimports.dataset_loaders import build_datasets, YelpDataset\n",
    "from input.yelpimports.metrics import multiclass_stats"
   ]
  },
  {
   "cell_type": "code",
   "execution_count": 11,
   "metadata": {
    "id": "8FPIK7fn1pzZ"
   },
   "outputs": [],
   "source": [
    "import gc\n",
    "gc.collect()\n",
    "torch.cuda.empty_cache()"
   ]
  },
  {
   "cell_type": "code",
   "execution_count": 12,
   "metadata": {
    "id": "electoral-carol",
    "outputId": "c54d4129-23b9-4054-f626-88fa2e3fdd4b"
   },
   "outputs": [
    {
     "name": "stdout",
     "output_type": "stream",
     "text": [
      "PyTorch Version:  1.7.0\n",
      "Torchvision Version:  0.8.1\n",
      "PyTorch Lightning Version:  1.2.8\n"
     ]
    }
   ],
   "source": [
    "print(\"PyTorch Version: \",torch.__version__)\n",
    "print(\"Torchvision Version: \",torchvision.__version__)\n",
    "print(\"PyTorch Lightning Version: \",pl.__version__)"
   ]
  },
  {
   "cell_type": "code",
   "execution_count": 13,
   "metadata": {
    "id": "7pWsZxW9G4O4",
    "outputId": "b67fe581-5d3b-45d9-e234-f7ab03d7a6e2"
   },
   "outputs": [
    {
     "name": "stdout",
     "output_type": "stream",
     "text": [
      "GPU 0: Tesla P100-PCIE-16GB (UUID: GPU-73d6d9a1-8bff-14ec-f597-a53199c8b68d)\n"
     ]
    }
   ],
   "source": [
    "!nvidia-smi -L"
   ]
  },
  {
   "cell_type": "code",
   "execution_count": 64,
   "metadata": {
    "id": "significant-asian"
   },
   "outputs": [],
   "source": [
    "FLAGS = {\n",
    "    'model_name': 'custom',\n",
    "    'photo_dir': 'input/yelpbusinessambience/photos/',\n",
    "    'csv_path': 'input/yelpbusinessambience/business_ambience.csv',\n",
    "    'num_classes': 6, #2,\n",
    "    'batch_size': 512, # 512 * N gpu\n",
    "    'num_workers': 4,  # 4 per gpu\n",
    "    'learning_rate': 0.02,  # 0.02 * N gpu\n",
    "    'max_epochs': 20,  # arbitrary\n",
    "    'feature_extract': True,\n",
    "    'use_pretrained': True,\n",
    "    'multilabel': True,\n",
    "    'threshold': 0.5,\n",
    "    'class_weight': [3.513, 1.63, 6.084, 9.839, 6.502, 4.625]  # [1, 1]\n",
    "        }"
   ]
  },
  {
   "cell_type": "code",
   "execution_count": 15,
   "metadata": {},
   "outputs": [],
   "source": [
    "csv_file = pd.read_csv(FLAGS['csv_path'])"
   ]
  },
  {
   "cell_type": "code",
   "execution_count": 16,
   "metadata": {},
   "outputs": [],
   "source": [
    "assert len(os.listdir(FLAGS['photo_dir'])) == len(csv_file)"
   ]
  },
  {
   "cell_type": "code",
   "execution_count": 17,
   "metadata": {
    "id": "breeding-mathematics"
   },
   "outputs": [],
   "source": [
    "yelp_model, input_size = init_cls_model(FLAGS)"
   ]
  },
  {
   "cell_type": "code",
   "execution_count": 19,
   "metadata": {
    "id": "interested-period"
   },
   "outputs": [],
   "source": [
    "data_transforms = {\n",
    "    'train': transforms.Compose([\n",
    "        transforms.RandomResizedCrop(input_size),\n",
    "        transforms.RandomHorizontalFlip(),\n",
    "        transforms.ToTensor(),\n",
    "        transforms.Normalize([0.485, 0.456, 0.406], [0.229, 0.224, 0.225])\n",
    "    ]),\n",
    "    'dev': transforms.Compose([\n",
    "        transforms.Resize(input_size),\n",
    "        transforms.CenterCrop(input_size),\n",
    "        transforms.ToTensor(),\n",
    "        transforms.Normalize([0.485, 0.456, 0.406], [0.229, 0.224, 0.225])\n",
    "    ]),\n",
    "    'test': transforms.Compose([\n",
    "        transforms.Resize(input_size),\n",
    "        transforms.CenterCrop(input_size),\n",
    "        transforms.ToTensor(),\n",
    "        transforms.Normalize([0.485, 0.456, 0.406], [0.229, 0.224, 0.225])\n",
    "    ]),\n",
    "}"
   ]
  },
  {
   "cell_type": "code",
   "execution_count": 20,
   "metadata": {
    "id": "potential-survival",
    "outputId": "f1398253-0425-4ee2-a6e2-eb344ceadccf"
   },
   "outputs": [
    {
     "name": "stdout",
     "output_type": "stream",
     "text": [
      "Initializing Datasets and Dataloaders...\n"
     ]
    }
   ],
   "source": [
    "print(\"Initializing Datasets and Dataloaders...\")"
   ]
  },
  {
   "cell_type": "code",
   "execution_count": 21,
   "metadata": {
    "id": "infrared-force",
    "outputId": "0015e054-0a67-470f-a57e-442c7a1138a6"
   },
   "outputs": [
    {
     "data": {
      "text/html": [
       "<div>\n",
       "<style scoped>\n",
       "    .dataframe tbody tr th:only-of-type {\n",
       "        vertical-align: middle;\n",
       "    }\n",
       "\n",
       "    .dataframe tbody tr th {\n",
       "        vertical-align: top;\n",
       "    }\n",
       "\n",
       "    .dataframe thead th {\n",
       "        text-align: right;\n",
       "    }\n",
       "</style>\n",
       "<table border=\"1\" class=\"dataframe\">\n",
       "  <thead>\n",
       "    <tr style=\"text-align: right;\">\n",
       "      <th></th>\n",
       "      <th>photo_id</th>\n",
       "      <th>touristy</th>\n",
       "      <th>hipster</th>\n",
       "      <th>romantic</th>\n",
       "      <th>divey</th>\n",
       "      <th>intimate</th>\n",
       "      <th>upscale</th>\n",
       "    </tr>\n",
       "  </thead>\n",
       "  <tbody>\n",
       "    <tr>\n",
       "      <th>0</th>\n",
       "      <td>ZlTwL6uWx6rW_L9Df5RT8A</td>\n",
       "      <td>False</td>\n",
       "      <td>False</td>\n",
       "      <td>True</td>\n",
       "      <td>False</td>\n",
       "      <td>True</td>\n",
       "      <td>False</td>\n",
       "    </tr>\n",
       "    <tr>\n",
       "      <th>1</th>\n",
       "      <td>fHbSMxueQfXFRb9e-6bJuw</td>\n",
       "      <td>False</td>\n",
       "      <td>False</td>\n",
       "      <td>False</td>\n",
       "      <td>True</td>\n",
       "      <td>False</td>\n",
       "      <td>False</td>\n",
       "    </tr>\n",
       "    <tr>\n",
       "      <th>2</th>\n",
       "      <td>74oWvVVIjms9LjfHQOgxMQ</td>\n",
       "      <td>False</td>\n",
       "      <td>False</td>\n",
       "      <td>False</td>\n",
       "      <td>False</td>\n",
       "      <td>False</td>\n",
       "      <td>True</td>\n",
       "    </tr>\n",
       "    <tr>\n",
       "      <th>3</th>\n",
       "      <td>QY6c1OKsIpujF4MDHQdbag</td>\n",
       "      <td>False</td>\n",
       "      <td>True</td>\n",
       "      <td>False</td>\n",
       "      <td>False</td>\n",
       "      <td>False</td>\n",
       "      <td>False</td>\n",
       "    </tr>\n",
       "    <tr>\n",
       "      <th>4</th>\n",
       "      <td>0AYEzNJYFF2PeXo71cpKuw</td>\n",
       "      <td>False</td>\n",
       "      <td>True</td>\n",
       "      <td>False</td>\n",
       "      <td>False</td>\n",
       "      <td>False</td>\n",
       "      <td>False</td>\n",
       "    </tr>\n",
       "  </tbody>\n",
       "</table>\n",
       "</div>"
      ],
      "text/plain": [
       "                 photo_id  touristy  hipster  romantic  divey  intimate  \\\n",
       "0  ZlTwL6uWx6rW_L9Df5RT8A     False    False      True  False      True   \n",
       "1  fHbSMxueQfXFRb9e-6bJuw     False    False     False   True     False   \n",
       "2  74oWvVVIjms9LjfHQOgxMQ     False    False     False  False     False   \n",
       "3  QY6c1OKsIpujF4MDHQdbag     False     True     False  False     False   \n",
       "4  0AYEzNJYFF2PeXo71cpKuw     False     True     False  False     False   \n",
       "\n",
       "   upscale  \n",
       "0    False  \n",
       "1    False  \n",
       "2     True  \n",
       "3    False  \n",
       "4    False  "
      ]
     },
     "execution_count": 21,
     "metadata": {},
     "output_type": "execute_result"
    }
   ],
   "source": [
    "csv_file.head()"
   ]
  },
  {
   "cell_type": "code",
   "execution_count": 22,
   "metadata": {
    "id": "found-narrow"
   },
   "outputs": [],
   "source": [
    "from sklearn.model_selection import train_test_split"
   ]
  },
  {
   "cell_type": "code",
   "execution_count": 23,
   "metadata": {
    "id": "atlantic-narrative"
   },
   "outputs": [],
   "source": [
    "train, test = train_test_split(csv_file, test_size=0.2, random_state=42)\n",
    "dev, test = train_test_split(test, test_size=0.5, random_state=42)"
   ]
  },
  {
   "cell_type": "code",
   "execution_count": 24,
   "metadata": {
    "id": "broken-invalid"
   },
   "outputs": [],
   "source": [
    "data_frames = {'train': train,\n",
    "              'dev': dev,\n",
    "              'test': test}"
   ]
  },
  {
   "cell_type": "code",
   "execution_count": 25,
   "metadata": {
    "id": "temporal-density"
   },
   "outputs": [],
   "source": [
    "dataloaders_dict = build_datasets(FLAGS, data_frames, data_transforms)"
   ]
  },
  {
   "cell_type": "code",
   "execution_count": 26,
   "metadata": {
    "id": "inner-linux",
    "outputId": "fdfb1830-f96c-4bde-879d-c9e05853678d"
   },
   "outputs": [
    {
     "data": {
      "text/plain": [
       "{'train': <torch.utils.data.dataloader.DataLoader at 0x7f1bf98bac10>,\n",
       " 'dev': <torch.utils.data.dataloader.DataLoader at 0x7f1bf98c31d0>,\n",
       " 'test': <torch.utils.data.dataloader.DataLoader at 0x7f1bf98bac90>}"
      ]
     },
     "execution_count": 26,
     "metadata": {},
     "output_type": "execute_result"
    }
   ],
   "source": [
    "dataloaders_dict"
   ]
  },
  {
   "cell_type": "code",
   "execution_count": 27,
   "metadata": {
    "id": "asmWr6-NEtXo"
   },
   "outputs": [],
   "source": [
    "checkpoint_callback = ModelCheckpoint(monitor='val_loss')\n",
    "early_stop_callback = EarlyStopping(monitor='val_loss', patience=3)"
   ]
  },
  {
   "cell_type": "code",
   "execution_count": 28,
   "metadata": {
    "id": "agricultural-maryland",
    "outputId": "2184e50f-18d2-47a8-9d69-5fd7f6d5d90a"
   },
   "outputs": [],
   "source": [
    "trainer = pl.Trainer(callbacks=[checkpoint_callback, early_stop_callback],\n",
    "                     progress_bar_refresh_rate=1, max_epochs=FLAGS['max_epochs'],\n",
    "                     stochastic_weight_avg=True, precision=16,\n",
    "                     gpus=-1)"
   ]
  },
  {
   "cell_type": "code",
   "execution_count": 29,
   "metadata": {
    "id": "complete-magazine",
    "outputId": "c8436ef1-d878-48cb-99d6-a299a51b0182"
   },
   "outputs": [
    {
     "data": {
      "application/vnd.jupyter.widget-view+json": {
       "model_id": "",
       "version_major": 2,
       "version_minor": 0
      },
      "text/plain": [
       "Validation sanity check: 0it [00:00, ?it/s]"
      ]
     },
     "metadata": {},
     "output_type": "display_data"
    },
    {
     "data": {
      "application/vnd.jupyter.widget-view+json": {
       "model_id": "34742a0bb79a4f13938adbe2b2334689",
       "version_major": 2,
       "version_minor": 0
      },
      "text/plain": [
       "Training: 0it [00:00, ?it/s]"
      ]
     },
     "metadata": {},
     "output_type": "display_data"
    },
    {
     "data": {
      "application/vnd.jupyter.widget-view+json": {
       "model_id": "",
       "version_major": 2,
       "version_minor": 0
      },
      "text/plain": [
       "Validating: 0it [00:00, ?it/s]"
      ]
     },
     "metadata": {},
     "output_type": "display_data"
    },
    {
     "data": {
      "application/vnd.jupyter.widget-view+json": {
       "model_id": "",
       "version_major": 2,
       "version_minor": 0
      },
      "text/plain": [
       "Validating: 0it [00:00, ?it/s]"
      ]
     },
     "metadata": {},
     "output_type": "display_data"
    },
    {
     "data": {
      "application/vnd.jupyter.widget-view+json": {
       "model_id": "",
       "version_major": 2,
       "version_minor": 0
      },
      "text/plain": [
       "Validating: 0it [00:00, ?it/s]"
      ]
     },
     "metadata": {},
     "output_type": "display_data"
    },
    {
     "data": {
      "application/vnd.jupyter.widget-view+json": {
       "model_id": "",
       "version_major": 2,
       "version_minor": 0
      },
      "text/plain": [
       "Validating: 0it [00:00, ?it/s]"
      ]
     },
     "metadata": {},
     "output_type": "display_data"
    },
    {
     "data": {
      "application/vnd.jupyter.widget-view+json": {
       "model_id": "",
       "version_major": 2,
       "version_minor": 0
      },
      "text/plain": [
       "Validating: 0it [00:00, ?it/s]"
      ]
     },
     "metadata": {},
     "output_type": "display_data"
    },
    {
     "data": {
      "application/vnd.jupyter.widget-view+json": {
       "model_id": "",
       "version_major": 2,
       "version_minor": 0
      },
      "text/plain": [
       "Validating: 0it [00:00, ?it/s]"
      ]
     },
     "metadata": {},
     "output_type": "display_data"
    },
    {
     "data": {
      "application/vnd.jupyter.widget-view+json": {
       "model_id": "",
       "version_major": 2,
       "version_minor": 0
      },
      "text/plain": [
       "Validating: 0it [00:00, ?it/s]"
      ]
     },
     "metadata": {},
     "output_type": "display_data"
    },
    {
     "data": {
      "application/vnd.jupyter.widget-view+json": {
       "model_id": "",
       "version_major": 2,
       "version_minor": 0
      },
      "text/plain": [
       "Validating: 0it [00:00, ?it/s]"
      ]
     },
     "metadata": {},
     "output_type": "display_data"
    },
    {
     "data": {
      "text/plain": [
       "1"
      ]
     },
     "execution_count": 29,
     "metadata": {},
     "output_type": "execute_result"
    }
   ],
   "source": [
    "trainer.fit(yelp_model, dataloaders_dict['train'], dataloaders_dict['dev'])"
   ]
  },
  {
   "cell_type": "code",
   "execution_count": 30,
   "metadata": {
    "id": "PWPhMEaynyqI"
   },
   "outputs": [],
   "source": [
    "if 'checkpoints' not in os.listdir('working'):\n",
    "    os.mkdir('working/checkpoints')\n",
    "trainer.save_checkpoint(f\"working/checkpoints/{FLAGS['model_name']}_amb.ckpt\")"
   ]
  },
  {
   "cell_type": "code",
   "execution_count": 31,
   "metadata": {
    "id": "DSzrM9M3zkyc",
    "outputId": "4391baa7-76db-4fbf-cdf1-75c01002935e"
   },
   "outputs": [
    {
     "name": "stdout",
     "output_type": "stream",
     "text": [
      "/kaggle/lightning_logs/version_0/checkpoints/epoch=4-step=259.ckpt\n"
     ]
    }
   ],
   "source": [
    "print(checkpoint_callback.best_model_path)"
   ]
  },
  {
   "cell_type": "code",
   "execution_count": 33,
   "metadata": {
    "id": "E0x8sgfIhA3X"
   },
   "outputs": [],
   "source": [
    "yelp_model, _ = init_cls_model(FLAGS, checkpoint_callback.best_model_path)"
   ]
  },
  {
   "cell_type": "code",
   "execution_count": 34,
   "metadata": {
    "id": "talented-shipping",
    "outputId": "1d9b8053-3125-468c-a445-88c9c73aec17"
   },
   "outputs": [
    {
     "data": {
      "application/vnd.jupyter.widget-view+json": {
       "model_id": "145a70100ebd4aedbda1df5766a4419d",
       "version_major": 2,
       "version_minor": 0
      },
      "text/plain": [
       "Testing: 0it [00:00, ?it/s]"
      ]
     },
     "metadata": {},
     "output_type": "display_data"
    },
    {
     "name": "stdout",
     "output_type": "stream",
     "text": [
      "--------------------------------------------------------------------------------\n",
      "DATALOADER:0 TEST RESULTS\n",
      "{'test_loss': 1.1109058856964111}\n",
      "--------------------------------------------------------------------------------\n"
     ]
    },
    {
     "data": {
      "text/plain": [
       "[{'test_loss': 1.1109058856964111}]"
      ]
     },
     "execution_count": 34,
     "metadata": {},
     "output_type": "execute_result"
    }
   ],
   "source": [
    "trainer.test(yelp_model, dataloaders_dict['test'])"
   ]
  },
  {
   "cell_type": "code",
   "execution_count": 35,
   "metadata": {
    "id": "sC3Of-GIH8cW"
   },
   "outputs": [],
   "source": [
    "model = yelp_model.eval().cuda(device=0)"
   ]
  },
  {
   "cell_type": "code",
   "execution_count": 65,
   "metadata": {
    "id": "rumRjbPZIafP"
   },
   "outputs": [],
   "source": [
    "y_pred, y_true = [], []"
   ]
  },
  {
   "cell_type": "code",
   "execution_count": 66,
   "metadata": {},
   "outputs": [],
   "source": [
    "test_dataset = YelpDataset(test, FLAGS['photo_dir'], data_transforms['test'])"
   ]
  },
  {
   "cell_type": "code",
   "execution_count": 67,
   "metadata": {
    "id": "QmCJj2aeHFic",
    "outputId": "a47b03e2-8de5-4028-c863-1fb8861cf3ce"
   },
   "outputs": [
    {
     "data": {
      "application/vnd.jupyter.widget-view+json": {
       "model_id": "aa05f9faeaa548f6bd9970b36db75404",
       "version_major": 2,
       "version_minor": 0
      },
      "text/plain": [
       "  0%|          | 0/3293 [00:00<?, ?it/s]"
      ]
     },
     "metadata": {},
     "output_type": "display_data"
    }
   ],
   "source": [
    "for image, labels in tqdm(test_dataset):\n",
    "    output = model(image.unsqueeze(0).cuda(0)).cpu().data.numpy()[0]\n",
    "    if output.size == 1:\n",
    "        out_array = np.zeros(FLAGS['num_classes']).astype('int')\n",
    "        out_array[output] = 1\n",
    "        y_pred.append(out_array)\n",
    "    else:\n",
    "        y_pred.append(output)\n",
    "    y_true.append(labels.numpy().astype('int'))"
   ]
  },
  {
   "cell_type": "code",
   "execution_count": 68,
   "metadata": {},
   "outputs": [
    {
     "name": "stdout",
     "output_type": "stream",
     "text": [
      "              precision    recall  f1-score   support\n",
      "\n",
      "           0       0.22      1.00      0.37       739\n",
      "           1       0.38      1.00      0.55      1256\n",
      "           2       0.14      1.00      0.25       473\n",
      "           3       0.08      1.00      0.15       274\n",
      "           4       0.13      1.00      0.23       429\n",
      "           5       0.17      1.00      0.30       571\n",
      "\n",
      "   micro avg       0.19      1.00      0.32      3742\n",
      "   macro avg       0.19      1.00      0.31      3742\n",
      "weighted avg       0.24      1.00      0.37      3742\n",
      " samples avg       0.19      1.00      0.31      3742\n",
      "\n"
     ]
    }
   ],
   "source": [
    "cls_report, stats = multiclass_stats(np.array(y_true), np.array(y_pred))\n",
    "print(cls_report)"
   ]
  },
  {
   "cell_type": "code",
   "execution_count": 69,
   "metadata": {},
   "outputs": [
    {
     "data": {
      "text/plain": [
       "{'hamming_score': 0.18939163882984106,\n",
       " 'hamming_loss': 0.8106083611701589,\n",
       " 'f1_score': 0.3082786700080738,\n",
       " 'roc_auc_score': 0.5}"
      ]
     },
     "execution_count": 69,
     "metadata": {},
     "output_type": "execute_result"
    }
   ],
   "source": [
    "stats"
   ]
  },
  {
   "cell_type": "code",
   "execution_count": null,
   "metadata": {},
   "outputs": [],
   "source": [
    "os.listdir('working/checkpoints')"
   ]
  },
  {
   "cell_type": "code",
   "execution_count": null,
   "metadata": {
    "id": "c0pxOxgRKSTR"
   },
   "outputs": [],
   "source": [
    "from IPython.display import FileLink\n",
    "os.chdir('working')\n",
    "FileLink(f\"checkpoints/{FLAGS['model_name']}_amb.ckpt\")"
   ]
  },
  {
   "cell_type": "code",
   "execution_count": null,
   "metadata": {},
   "outputs": [],
   "source": []
  }
 ],
 "metadata": {
  "kernelspec": {
   "display_name": "Python 3",
   "language": "python",
   "name": "python3"
  },
  "language_info": {
   "codemirror_mode": {
    "name": "ipython",
    "version": 3
   },
   "file_extension": ".py",
   "mimetype": "text/x-python",
   "name": "python",
   "nbconvert_exporter": "python",
   "pygments_lexer": "ipython3",
   "version": "3.6.9"
  }
 },
 "nbformat": 4,
 "nbformat_minor": 4
}
