{
 "cells": [
  {
   "cell_type": "code",
   "execution_count": 1,
   "id": "supreme-comment",
   "metadata": {},
   "outputs": [],
   "source": [
    "import json\n",
    "import yaml\n",
    "import pandas as pd\n",
    "import numpy as np\n",
    "\n",
    "from tqdm import tqdm"
   ]
  },
  {
   "cell_type": "code",
   "execution_count": 2,
   "id": "superb-consistency",
   "metadata": {},
   "outputs": [],
   "source": [
    "businesses = []"
   ]
  },
  {
   "cell_type": "code",
   "execution_count": 3,
   "id": "impressive-worry",
   "metadata": {},
   "outputs": [],
   "source": [
    "with open('RESERVE/yelp_dataset/yelp_academic_dataset_business.json', 'r') as b:\n",
    "    for business in b:\n",
    "        business = json.loads(business)\n",
    "        bus_id, categories = business['business_id'], business['categories']\n",
    "        attributes = business.get(\"attributes\", None)\n",
    "\n",
    "        if categories:\n",
    "            business_to_add = {'business_id': bus_id, 'categories': categories}\n",
    "            if (attributes) and (attributes.get(\"Ambience\", None) is not None): business_to_add['ambience'] = attributes[\"Ambience\"]\n",
    "            businesses.append(business_to_add)"
   ]
  },
  {
   "cell_type": "code",
   "execution_count": 4,
   "id": "continued-telling",
   "metadata": {},
   "outputs": [
    {
     "data": {
      "text/plain": [
       "22"
      ]
     },
     "execution_count": 4,
     "metadata": {},
     "output_type": "execute_result"
    }
   ],
   "source": [
    "len('bvN78flM8NLprQ1a1y5dRg')"
   ]
  },
  {
   "cell_type": "code",
   "execution_count": 5,
   "id": "satisfactory-crisis",
   "metadata": {},
   "outputs": [
    {
     "data": {
      "text/plain": [
       "160470"
      ]
     },
     "execution_count": 5,
     "metadata": {},
     "output_type": "execute_result"
    }
   ],
   "source": [
    "len(businesses)"
   ]
  },
  {
   "cell_type": "code",
   "execution_count": 6,
   "id": "provincial-water",
   "metadata": {},
   "outputs": [],
   "source": [
    "restaurants = []\n",
    "others = []"
   ]
  },
  {
   "cell_type": "code",
   "execution_count": 7,
   "id": "psychological-insight",
   "metadata": {},
   "outputs": [],
   "source": [
    "for business in businesses:\n",
    "    if 'Restaurants' in business['categories']:\n",
    "        restaurants.append(business)\n",
    "    else:\n",
    "        others.append(business)"
   ]
  },
  {
   "cell_type": "code",
   "execution_count": 20,
   "id": "obvious-conversion",
   "metadata": {},
   "outputs": [],
   "source": [
    "for business in others:\n",
    "    business['categories'] = ['Non_restaurant']"
   ]
  },
  {
   "cell_type": "code",
   "execution_count": 21,
   "id": "connected-photographer",
   "metadata": {},
   "outputs": [],
   "source": [
    "ambient_data = []"
   ]
  },
  {
   "cell_type": "code",
   "execution_count": 22,
   "id": "extensive-punch",
   "metadata": {},
   "outputs": [
    {
     "name": "stderr",
     "output_type": "stream",
     "text": [
      "100%|██████████| 160470/160470 [00:26<00:00, 5954.54it/s]\n"
     ]
    }
   ],
   "source": [
    "for business in tqdm(businesses):\n",
    "    try:\n",
    "        if 'ambience' in business:\n",
    "            ambient_row = {'business_id': business['business_id']}\n",
    "            ambient_row.update(yaml.load(business['ambience'], Loader=yaml.FullLoader))\n",
    "            ambient_data.append(ambient_row)\n",
    "    except ValueError:\n",
    "        pass"
   ]
  },
  {
   "cell_type": "code",
   "execution_count": 23,
   "id": "becoming-presentation",
   "metadata": {},
   "outputs": [],
   "source": [
    "ambient_df = pd.DataFrame(ambient_data)"
   ]
  },
  {
   "cell_type": "code",
   "execution_count": 24,
   "id": "static-legislation",
   "metadata": {},
   "outputs": [
    {
     "data": {
      "text/html": [
       "<div>\n",
       "<style scoped>\n",
       "    .dataframe tbody tr th:only-of-type {\n",
       "        vertical-align: middle;\n",
       "    }\n",
       "\n",
       "    .dataframe tbody tr th {\n",
       "        vertical-align: top;\n",
       "    }\n",
       "\n",
       "    .dataframe thead th {\n",
       "        text-align: right;\n",
       "    }\n",
       "</style>\n",
       "<table border=\"1\" class=\"dataframe\">\n",
       "  <thead>\n",
       "    <tr style=\"text-align: right;\">\n",
       "      <th></th>\n",
       "      <th>business_id</th>\n",
       "      <th>touristy</th>\n",
       "      <th>hipster</th>\n",
       "      <th>romantic</th>\n",
       "      <th>divey</th>\n",
       "      <th>intimate</th>\n",
       "      <th>trendy</th>\n",
       "      <th>upscale</th>\n",
       "      <th>classy</th>\n",
       "      <th>casual</th>\n",
       "    </tr>\n",
       "  </thead>\n",
       "  <tbody>\n",
       "    <tr>\n",
       "      <th>0</th>\n",
       "      <td>6iYb2HFDywm3zjuRg0shjw</td>\n",
       "      <td>False</td>\n",
       "      <td>False</td>\n",
       "      <td>False</td>\n",
       "      <td>False</td>\n",
       "      <td>False</td>\n",
       "      <td>False</td>\n",
       "      <td>False</td>\n",
       "      <td>False</td>\n",
       "      <td>True</td>\n",
       "    </tr>\n",
       "    <tr>\n",
       "      <th>1</th>\n",
       "      <td>tCbdrRPZA0oiIYSmHG3J0w</td>\n",
       "      <td>False</td>\n",
       "      <td>False</td>\n",
       "      <td>False</td>\n",
       "      <td>False</td>\n",
       "      <td>False</td>\n",
       "      <td>False</td>\n",
       "      <td>False</td>\n",
       "      <td>False</td>\n",
       "      <td>True</td>\n",
       "    </tr>\n",
       "    <tr>\n",
       "      <th>2</th>\n",
       "      <td>D4JtQNTI4X3KcbzacDJsMw</td>\n",
       "      <td>False</td>\n",
       "      <td>False</td>\n",
       "      <td>False</td>\n",
       "      <td>False</td>\n",
       "      <td>False</td>\n",
       "      <td>False</td>\n",
       "      <td>False</td>\n",
       "      <td>False</td>\n",
       "      <td>True</td>\n",
       "    </tr>\n",
       "    <tr>\n",
       "      <th>3</th>\n",
       "      <td>HPA_qyMEddpAEtFof02ixg</td>\n",
       "      <td>False</td>\n",
       "      <td>False</td>\n",
       "      <td>False</td>\n",
       "      <td>False</td>\n",
       "      <td>False</td>\n",
       "      <td>False</td>\n",
       "      <td>False</td>\n",
       "      <td>False</td>\n",
       "      <td>True</td>\n",
       "    </tr>\n",
       "    <tr>\n",
       "      <th>4</th>\n",
       "      <td>dmbbf3AqeG61_QHRZi1M1w</td>\n",
       "      <td>False</td>\n",
       "      <td>False</td>\n",
       "      <td>False</td>\n",
       "      <td>False</td>\n",
       "      <td>False</td>\n",
       "      <td>False</td>\n",
       "      <td>False</td>\n",
       "      <td>False</td>\n",
       "      <td>False</td>\n",
       "    </tr>\n",
       "  </tbody>\n",
       "</table>\n",
       "</div>"
      ],
      "text/plain": [
       "              business_id touristy hipster romantic  divey intimate trendy  \\\n",
       "0  6iYb2HFDywm3zjuRg0shjw    False   False    False  False    False  False   \n",
       "1  tCbdrRPZA0oiIYSmHG3J0w    False   False    False  False    False  False   \n",
       "2  D4JtQNTI4X3KcbzacDJsMw    False   False    False  False    False  False   \n",
       "3  HPA_qyMEddpAEtFof02ixg    False   False    False  False    False  False   \n",
       "4  dmbbf3AqeG61_QHRZi1M1w    False   False    False  False    False  False   \n",
       "\n",
       "  upscale classy casual  \n",
       "0   False  False   True  \n",
       "1   False  False   True  \n",
       "2   False  False   True  \n",
       "3   False  False   True  \n",
       "4   False  False  False  "
      ]
     },
     "execution_count": 24,
     "metadata": {},
     "output_type": "execute_result"
    }
   ],
   "source": [
    "ambient_df.head()"
   ]
  },
  {
   "cell_type": "code",
   "execution_count": 25,
   "id": "consecutive-titanium",
   "metadata": {},
   "outputs": [],
   "source": [
    "ambient_df.to_csv('yelp_academic/data/business_ambience.csv', index = False)"
   ]
  },
  {
   "cell_type": "markdown",
   "id": "productive-mountain",
   "metadata": {},
   "source": [
    "### Ambience"
   ]
  },
  {
   "cell_type": "code",
   "execution_count": 57,
   "id": "bacterial-letter",
   "metadata": {},
   "outputs": [],
   "source": [
    "photos_ambience = []"
   ]
  },
  {
   "cell_type": "code",
   "execution_count": 59,
   "id": "boxed-compensation",
   "metadata": {},
   "outputs": [],
   "source": [
    "with open('yelp_photos/photos.json', 'r') as p:\n",
    "    for photo in p:\n",
    "        photo = json.loads(photo)\n",
    "        photos_ambience.append({'photo_id': photo['photo_id'],\n",
    "                      'business_id': photo['business_id']})"
   ]
  },
  {
   "cell_type": "code",
   "execution_count": 64,
   "id": "functioning-square",
   "metadata": {},
   "outputs": [],
   "source": [
    "photos_ambience = pd.DataFrame(photos_ambience)"
   ]
  },
  {
   "cell_type": "code",
   "execution_count": 65,
   "id": "changing-clearance",
   "metadata": {},
   "outputs": [
    {
     "data": {
      "text/html": [
       "<div>\n",
       "<style scoped>\n",
       "    .dataframe tbody tr th:only-of-type {\n",
       "        vertical-align: middle;\n",
       "    }\n",
       "\n",
       "    .dataframe tbody tr th {\n",
       "        vertical-align: top;\n",
       "    }\n",
       "\n",
       "    .dataframe thead th {\n",
       "        text-align: right;\n",
       "    }\n",
       "</style>\n",
       "<table border=\"1\" class=\"dataframe\">\n",
       "  <thead>\n",
       "    <tr style=\"text-align: right;\">\n",
       "      <th></th>\n",
       "      <th>photo_id</th>\n",
       "      <th>business_id</th>\n",
       "    </tr>\n",
       "  </thead>\n",
       "  <tbody>\n",
       "    <tr>\n",
       "      <th>0</th>\n",
       "      <td>Un_Og6jfhazVn7CxszkKEw</td>\n",
       "      <td>R1sIqGfKpF5f3HV3vyNsbg</td>\n",
       "    </tr>\n",
       "    <tr>\n",
       "      <th>1</th>\n",
       "      <td>BFE1AFOs27scnnfeBf99ZA</td>\n",
       "      <td>vdT7zlrLB2DL9pStDUs91A</td>\n",
       "    </tr>\n",
       "    <tr>\n",
       "      <th>2</th>\n",
       "      <td>7t-C0r1JRdoVD9FS7M-N7Q</td>\n",
       "      <td>c5GzrObEdj7eNVOdAxrppg</td>\n",
       "    </tr>\n",
       "    <tr>\n",
       "      <th>3</th>\n",
       "      <td>rLnw0d-YYZvT9kR4y7h7_Q</td>\n",
       "      <td>aQa7N5ZbPhCoKYGGB-gqfg</td>\n",
       "    </tr>\n",
       "    <tr>\n",
       "      <th>4</th>\n",
       "      <td>Cv5M8MDw8a5NEWvw2AQ4nw</td>\n",
       "      <td>B-s6qOFD75syhwWjp518aA</td>\n",
       "    </tr>\n",
       "  </tbody>\n",
       "</table>\n",
       "</div>"
      ],
      "text/plain": [
       "                 photo_id             business_id\n",
       "0  Un_Og6jfhazVn7CxszkKEw  R1sIqGfKpF5f3HV3vyNsbg\n",
       "1  BFE1AFOs27scnnfeBf99ZA  vdT7zlrLB2DL9pStDUs91A\n",
       "2  7t-C0r1JRdoVD9FS7M-N7Q  c5GzrObEdj7eNVOdAxrppg\n",
       "3  rLnw0d-YYZvT9kR4y7h7_Q  aQa7N5ZbPhCoKYGGB-gqfg\n",
       "4  Cv5M8MDw8a5NEWvw2AQ4nw  B-s6qOFD75syhwWjp518aA"
      ]
     },
     "execution_count": 65,
     "metadata": {},
     "output_type": "execute_result"
    }
   ],
   "source": [
    "photos_ambience.head()"
   ]
  },
  {
   "cell_type": "code",
   "execution_count": 67,
   "id": "gothic-ordinary",
   "metadata": {},
   "outputs": [],
   "source": [
    "photos_ambience = pd.merge(photos_ambience, ambient_df, on='business_id')"
   ]
  },
  {
   "cell_type": "code",
   "execution_count": 68,
   "id": "naughty-injection",
   "metadata": {},
   "outputs": [],
   "source": [
    "photos_ambience = photos_ambience[photos_ambience['photo_id'].notna()]"
   ]
  },
  {
   "cell_type": "code",
   "execution_count": 69,
   "id": "minor-origin",
   "metadata": {},
   "outputs": [],
   "source": [
    "photos_ambience = photos_ambience[photos_ambience['business_id'].notna()]"
   ]
  },
  {
   "cell_type": "code",
   "execution_count": 79,
   "id": "fatty-gibson",
   "metadata": {},
   "outputs": [],
   "source": [
    "obj_columns = list(photos_ambience.select_dtypes(include=['object']).columns.values)\n",
    "photos_ambience[obj_columns] = photos_ambience[obj_columns].replace([None], np.nan).replace('None', np.nan)"
   ]
  },
  {
   "cell_type": "code",
   "execution_count": 81,
   "id": "constant-roots",
   "metadata": {},
   "outputs": [],
   "source": [
    "photos_ambience = photos_ambience.fillna(False)"
   ]
  },
  {
   "cell_type": "code",
   "execution_count": 84,
   "id": "analyzed-private",
   "metadata": {},
   "outputs": [],
   "source": [
    "photos_ambience = photos_ambience[photos_ambience[['touristy', 'hipster', 'romantic', 'divey', 'intimate', 'trendy', 'upscale', 'classy', 'casual']].any(axis=1)]"
   ]
  },
  {
   "cell_type": "code",
   "execution_count": 85,
   "id": "declared-enterprise",
   "metadata": {},
   "outputs": [],
   "source": [
    "amb_train, amb_dev = train_test_split(photos_ambience, test_size = 0.2, random_state = 42)\n",
    "amb_dev, amb_test = train_test_split(amb_dev, test_size = 0.5, random_state = 42)"
   ]
  },
  {
   "cell_type": "code",
   "execution_count": 87,
   "id": "diagnostic-fourth",
   "metadata": {},
   "outputs": [],
   "source": [
    "def df_ambience(df):\n",
    "    amb_counts = {'touristy': 0,\n",
    "                  'hipster': 0,\n",
    "                  'romantic': 0,\n",
    "                  'divey': 0,\n",
    "                  'intimate': 0,\n",
    "                  'trendy': 0,\n",
    "                  'upscale': 0,\n",
    "                  'classy': 0,\n",
    "                  'casual': 0}\n",
    "    for amb in amb_counts:\n",
    "        amb_counts[amb] = len(df.loc[df[amb]  == True])\n",
    "    return len(df), amb_counts"
   ]
  },
  {
   "cell_type": "code",
   "execution_count": 91,
   "id": "damaged-knowing",
   "metadata": {},
   "outputs": [
    {
     "data": {
      "text/plain": [
       "(15074,\n",
       " {'touristy': 724,\n",
       "  'hipster': 1293,\n",
       "  'romantic': 463,\n",
       "  'divey': 318,\n",
       "  'intimate': 409,\n",
       "  'trendy': 3135,\n",
       "  'upscale': 620,\n",
       "  'classy': 7342,\n",
       "  'casual': 11363})"
      ]
     },
     "execution_count": 91,
     "metadata": {},
     "output_type": "execute_result"
    }
   ],
   "source": [
    "df_ambience(amb_test)"
   ]
  },
  {
   "cell_type": "code",
   "execution_count": 159,
   "id": "southern-polish",
   "metadata": {},
   "outputs": [],
   "source": [
    "amb_train = amb_train.reset_index(drop=True)\n",
    "amb_dev = amb_dev.reset_index(drop=True)\n",
    "amb_test = amb_test.reset_index(drop=True)"
   ]
  },
  {
   "cell_type": "code",
   "execution_count": 160,
   "id": "organized-lawyer",
   "metadata": {},
   "outputs": [],
   "source": [
    "amb_train.to_csv('yelp_data/business_ambience_train.csv', index = False)\n",
    "amb_dev.to_csv('yelp_data/business_ambience_dev.csv', index = False)\n",
    "amb_test.to_csv('yelp_data/business_ambience_test.csv', index = False)"
   ]
  },
  {
   "cell_type": "markdown",
   "id": "educated-removal",
   "metadata": {},
   "source": [
    "### Restaurant or not"
   ]
  },
  {
   "cell_type": "code",
   "execution_count": 131,
   "id": "biblical-runner",
   "metadata": {},
   "outputs": [],
   "source": [
    "for business in businesses:\n",
    "    if business['categories'] == ['Non_restaurant']:\n",
    "        business['restaurant'] = False\n",
    "    else:\n",
    "        business['restaurant'] = True\n",
    "    del business['categories']"
   ]
  },
  {
   "cell_type": "code",
   "execution_count": 134,
   "id": "conventional-luxembourg",
   "metadata": {},
   "outputs": [],
   "source": [
    "for business in businesses:\n",
    "    if 'ambience' in business:\n",
    "        del business['ambience']"
   ]
  },
  {
   "cell_type": "code",
   "execution_count": 140,
   "id": "continuous-province",
   "metadata": {},
   "outputs": [],
   "source": [
    "businesses = pd.DataFrame(businesses)"
   ]
  },
  {
   "cell_type": "code",
   "execution_count": 137,
   "id": "protected-conversion",
   "metadata": {},
   "outputs": [],
   "source": [
    "photos_businesses_all = []"
   ]
  },
  {
   "cell_type": "code",
   "execution_count": 138,
   "id": "bibliographic-prayer",
   "metadata": {},
   "outputs": [],
   "source": [
    "with open('yelp_photos/photos.json', 'r') as p:\n",
    "    for photo in p:\n",
    "        photo = json.loads(photo)\n",
    "        photos_businesses_all.append({'photo_id': photo['photo_id'],\n",
    "                      'business_id': photo['business_id']})"
   ]
  },
  {
   "cell_type": "code",
   "execution_count": 139,
   "id": "finished-section",
   "metadata": {},
   "outputs": [],
   "source": [
    "rest_or_not = pd.DataFrame(photos_businesses_all)"
   ]
  },
  {
   "cell_type": "code",
   "execution_count": 141,
   "id": "interesting-daisy",
   "metadata": {},
   "outputs": [],
   "source": [
    "rest_or_not = pd.merge(rest_or_not, businesses, on='business_id')"
   ]
  },
  {
   "cell_type": "code",
   "execution_count": 144,
   "id": "educated-reverse",
   "metadata": {},
   "outputs": [
    {
     "data": {
      "text/html": [
       "<div>\n",
       "<style scoped>\n",
       "    .dataframe tbody tr th:only-of-type {\n",
       "        vertical-align: middle;\n",
       "    }\n",
       "\n",
       "    .dataframe tbody tr th {\n",
       "        vertical-align: top;\n",
       "    }\n",
       "\n",
       "    .dataframe thead th {\n",
       "        text-align: right;\n",
       "    }\n",
       "</style>\n",
       "<table border=\"1\" class=\"dataframe\">\n",
       "  <thead>\n",
       "    <tr style=\"text-align: right;\">\n",
       "      <th></th>\n",
       "      <th>photo_id</th>\n",
       "      <th>business_id</th>\n",
       "      <th>restaurant</th>\n",
       "    </tr>\n",
       "  </thead>\n",
       "  <tbody>\n",
       "    <tr>\n",
       "      <th>0</th>\n",
       "      <td>Un_Og6jfhazVn7CxszkKEw</td>\n",
       "      <td>R1sIqGfKpF5f3HV3vyNsbg</td>\n",
       "      <td>True</td>\n",
       "    </tr>\n",
       "    <tr>\n",
       "      <th>1</th>\n",
       "      <td>vjjyXgKxc1Wu6v0aaHLFuQ</td>\n",
       "      <td>R1sIqGfKpF5f3HV3vyNsbg</td>\n",
       "      <td>True</td>\n",
       "    </tr>\n",
       "    <tr>\n",
       "      <th>2</th>\n",
       "      <td>VWWdSBLn7f2eaY16GruQOg</td>\n",
       "      <td>R1sIqGfKpF5f3HV3vyNsbg</td>\n",
       "      <td>True</td>\n",
       "    </tr>\n",
       "    <tr>\n",
       "      <th>3</th>\n",
       "      <td>fSJ2--legv4crDHIJWIOmA</td>\n",
       "      <td>R1sIqGfKpF5f3HV3vyNsbg</td>\n",
       "      <td>True</td>\n",
       "    </tr>\n",
       "    <tr>\n",
       "      <th>4</th>\n",
       "      <td>liRGQZfixy5anDcjCqGuPA</td>\n",
       "      <td>R1sIqGfKpF5f3HV3vyNsbg</td>\n",
       "      <td>True</td>\n",
       "    </tr>\n",
       "  </tbody>\n",
       "</table>\n",
       "</div>"
      ],
      "text/plain": [
       "                 photo_id             business_id  restaurant\n",
       "0  Un_Og6jfhazVn7CxszkKEw  R1sIqGfKpF5f3HV3vyNsbg        True\n",
       "1  vjjyXgKxc1Wu6v0aaHLFuQ  R1sIqGfKpF5f3HV3vyNsbg        True\n",
       "2  VWWdSBLn7f2eaY16GruQOg  R1sIqGfKpF5f3HV3vyNsbg        True\n",
       "3  fSJ2--legv4crDHIJWIOmA  R1sIqGfKpF5f3HV3vyNsbg        True\n",
       "4  liRGQZfixy5anDcjCqGuPA  R1sIqGfKpF5f3HV3vyNsbg        True"
      ]
     },
     "execution_count": 144,
     "metadata": {},
     "output_type": "execute_result"
    }
   ],
   "source": [
    "rest_or_not.head()"
   ]
  },
  {
   "cell_type": "code",
   "execution_count": 145,
   "id": "chubby-drove",
   "metadata": {},
   "outputs": [],
   "source": [
    "bus_train, bus_dev = train_test_split(rest_or_not, test_size = 0.2, random_state = 42)\n",
    "bus_dev, bus_test = train_test_split(bus_dev, test_size = 0.5, random_state = 42)"
   ]
  },
  {
   "cell_type": "code",
   "execution_count": 163,
   "id": "royal-google",
   "metadata": {},
   "outputs": [
    {
     "data": {
      "text/html": [
       "<div>\n",
       "<style scoped>\n",
       "    .dataframe tbody tr th:only-of-type {\n",
       "        vertical-align: middle;\n",
       "    }\n",
       "\n",
       "    .dataframe tbody tr th {\n",
       "        vertical-align: top;\n",
       "    }\n",
       "\n",
       "    .dataframe thead th {\n",
       "        text-align: right;\n",
       "    }\n",
       "</style>\n",
       "<table border=\"1\" class=\"dataframe\">\n",
       "  <thead>\n",
       "    <tr style=\"text-align: right;\">\n",
       "      <th></th>\n",
       "      <th>photo_id</th>\n",
       "      <th>business_id</th>\n",
       "      <th>restaurant</th>\n",
       "    </tr>\n",
       "  </thead>\n",
       "  <tbody>\n",
       "    <tr>\n",
       "      <th>0</th>\n",
       "      <td>WGp63RIuT6C4qxboG3FgpQ</td>\n",
       "      <td>J7Hs5_PGlZajNRxGptGRvw</td>\n",
       "      <td>True</td>\n",
       "    </tr>\n",
       "    <tr>\n",
       "      <th>1</th>\n",
       "      <td>eKa8I6RGgi7W_HOpqFOgtA</td>\n",
       "      <td>LnBBOksOrzUiiDQkjUeMdg</td>\n",
       "      <td>True</td>\n",
       "    </tr>\n",
       "    <tr>\n",
       "      <th>2</th>\n",
       "      <td>jx9rraUeZ3JvazMvFLw0yw</td>\n",
       "      <td>MkGPncZD8oqp-AHkLW740g</td>\n",
       "      <td>True</td>\n",
       "    </tr>\n",
       "    <tr>\n",
       "      <th>3</th>\n",
       "      <td>8E3MwgLc-ggdDfokoYPd9Q</td>\n",
       "      <td>Ur7o-5FviIC9YmJqsGKR6A</td>\n",
       "      <td>True</td>\n",
       "    </tr>\n",
       "    <tr>\n",
       "      <th>4</th>\n",
       "      <td>eLVN8Y2DSSU2Gt4haHxwzA</td>\n",
       "      <td>KbyrRWuEeK6uEbtpAUgIdg</td>\n",
       "      <td>True</td>\n",
       "    </tr>\n",
       "    <tr>\n",
       "      <th>...</th>\n",
       "      <td>...</td>\n",
       "      <td>...</td>\n",
       "      <td>...</td>\n",
       "    </tr>\n",
       "    <tr>\n",
       "      <th>159995</th>\n",
       "      <td>aMvsc1kffaZU-c2qCRibTg</td>\n",
       "      <td>vBKwHwBqkFdxw4VetbYSxQ</td>\n",
       "      <td>True</td>\n",
       "    </tr>\n",
       "    <tr>\n",
       "      <th>159996</th>\n",
       "      <td>Fl4je3JGtt2h_UwrKo3xMw</td>\n",
       "      <td>3u3Xllz8NezyMjH6zsGp9w</td>\n",
       "      <td>True</td>\n",
       "    </tr>\n",
       "    <tr>\n",
       "      <th>159997</th>\n",
       "      <td>mErOCowqwADIKpLf98Rgmg</td>\n",
       "      <td>Xge6ajeuR7CEio9vSdFsJA</td>\n",
       "      <td>True</td>\n",
       "    </tr>\n",
       "    <tr>\n",
       "      <th>159998</th>\n",
       "      <td>TjjzxVtqKbSwT0NGFERbPA</td>\n",
       "      <td>8tLzmoG8Dluy80_iULO-Xg</td>\n",
       "      <td>True</td>\n",
       "    </tr>\n",
       "    <tr>\n",
       "      <th>159999</th>\n",
       "      <td>yqaKgFb17zJFbaX8e5r7Aw</td>\n",
       "      <td>Zi8Ywk36Ws_4zjw2gjMMFA</td>\n",
       "      <td>True</td>\n",
       "    </tr>\n",
       "  </tbody>\n",
       "</table>\n",
       "<p>160000 rows × 3 columns</p>\n",
       "</div>"
      ],
      "text/plain": [
       "                      photo_id             business_id  restaurant\n",
       "0       WGp63RIuT6C4qxboG3FgpQ  J7Hs5_PGlZajNRxGptGRvw        True\n",
       "1       eKa8I6RGgi7W_HOpqFOgtA  LnBBOksOrzUiiDQkjUeMdg        True\n",
       "2       jx9rraUeZ3JvazMvFLw0yw  MkGPncZD8oqp-AHkLW740g        True\n",
       "3       8E3MwgLc-ggdDfokoYPd9Q  Ur7o-5FviIC9YmJqsGKR6A        True\n",
       "4       eLVN8Y2DSSU2Gt4haHxwzA  KbyrRWuEeK6uEbtpAUgIdg        True\n",
       "...                        ...                     ...         ...\n",
       "159995  aMvsc1kffaZU-c2qCRibTg  vBKwHwBqkFdxw4VetbYSxQ        True\n",
       "159996  Fl4je3JGtt2h_UwrKo3xMw  3u3Xllz8NezyMjH6zsGp9w        True\n",
       "159997  mErOCowqwADIKpLf98Rgmg  Xge6ajeuR7CEio9vSdFsJA        True\n",
       "159998  TjjzxVtqKbSwT0NGFERbPA  8tLzmoG8Dluy80_iULO-Xg        True\n",
       "159999  yqaKgFb17zJFbaX8e5r7Aw  Zi8Ywk36Ws_4zjw2gjMMFA        True\n",
       "\n",
       "[160000 rows x 3 columns]"
      ]
     },
     "execution_count": 163,
     "metadata": {},
     "output_type": "execute_result"
    }
   ],
   "source": [
    "bus_train"
   ]
  },
  {
   "cell_type": "code",
   "execution_count": 151,
   "id": "fallen-california",
   "metadata": {},
   "outputs": [
    {
     "data": {
      "text/plain": [
       "20000"
      ]
     },
     "execution_count": 151,
     "metadata": {},
     "output_type": "execute_result"
    }
   ],
   "source": [
    "len(bus_dev)"
   ]
  },
  {
   "cell_type": "code",
   "execution_count": 161,
   "id": "native-chorus",
   "metadata": {},
   "outputs": [],
   "source": [
    "bus_train = bus_train.reset_index(drop=True)\n",
    "bus_dev = bus_dev.reset_index(drop=True)\n",
    "bus_test = bus_test.reset_index(drop=True)"
   ]
  },
  {
   "cell_type": "code",
   "execution_count": 162,
   "id": "indie-consensus",
   "metadata": {},
   "outputs": [],
   "source": [
    "bus_train.to_csv('yelp_data/business_restaurant_train.csv', index = False)\n",
    "bus_dev.to_csv('yelp_data/business_restaurant_dev.csv', index = False)\n",
    "bus_test.to_csv('yelp_data/business_restaurant_test.csv', index = False)"
   ]
  },
  {
   "cell_type": "code",
   "execution_count": null,
   "id": "prerequisite-belle",
   "metadata": {},
   "outputs": [],
   "source": []
  }
 ],
 "metadata": {
  "kernelspec": {
   "display_name": "Python 3",
   "language": "python",
   "name": "python3"
  },
  "language_info": {
   "codemirror_mode": {
    "name": "ipython",
    "version": 3
   },
   "file_extension": ".py",
   "mimetype": "text/x-python",
   "name": "python",
   "nbconvert_exporter": "python",
   "pygments_lexer": "ipython3",
   "version": "3.6.9"
  }
 },
 "nbformat": 4,
 "nbformat_minor": 5
}
