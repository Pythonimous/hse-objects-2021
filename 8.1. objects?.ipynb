{
 "cells": [
  {
   "cell_type": "code",
   "execution_count": 1,
   "id": "exposed-enemy",
   "metadata": {},
   "outputs": [],
   "source": [
    "import pickle"
   ]
  },
  {
   "cell_type": "code",
   "execution_count": 2,
   "id": "proof-novelty",
   "metadata": {},
   "outputs": [],
   "source": [
    "with open('yelp_academic/img_objects.pickle', 'rb') as a:\n",
    "    obj_dict = pickle.load(a)"
   ]
  },
  {
   "cell_type": "code",
   "execution_count": 7,
   "id": "dominican-simple",
   "metadata": {},
   "outputs": [],
   "source": [
    "COCO_INSTANCE_CATEGORY_NAMES = [\n",
    "    '__background__', 'person', 'bicycle', 'car', 'motorcycle', 'airplane', 'bus',\n",
    "    'train', 'truck', 'boat', 'traffic light', 'fire hydrant', 'N/A', 'stop sign',\n",
    "    'parking meter', 'bench', 'bird', 'cat', 'dog', 'horse', 'sheep', 'cow',\n",
    "    'elephant', 'bear', 'zebra', 'giraffe', 'N/A', 'backpack', 'umbrella', 'N/A', 'N/A',\n",
    "    'handbag', 'tie', 'suitcase', 'frisbee', 'skis', 'snowboard', 'sports ball',\n",
    "    'kite', 'baseball bat', 'baseball glove', 'skateboard', 'surfboard', 'tennis racket',\n",
    "    'bottle', 'N/A', 'wine glass', 'cup', 'fork', 'knife', 'spoon', 'bowl',\n",
    "    'banana', 'apple', 'sandwich', 'orange', 'broccoli', 'carrot', 'hot dog', 'pizza',\n",
    "    'donut', 'cake', 'chair', 'couch', 'potted plant', 'bed', 'N/A', 'dining table',\n",
    "    'N/A', 'N/A', 'toilet', 'N/A', 'tv', 'laptop', 'mouse', 'remote', 'keyboard', 'cell phone',\n",
    "    'microwave', 'oven', 'toaster', 'sink', 'refrigerator', 'N/A', 'book',\n",
    "    'clock', 'vase', 'scissors', 'teddy bear', 'hair drier', 'toothbrush'\n",
    "]"
   ]
  },
  {
   "cell_type": "code",
   "execution_count": 39,
   "id": "still-header",
   "metadata": {},
   "outputs": [],
   "source": [
    "objects = obj_dict[list(obj_dict.keys())[134]]\n",
    "for i in range(len(objects)):\n",
    "    o = objects[i]\n",
    "    objects[i] = (o[0], COCO_INSTANCE_CATEGORY_NAMES[o[1]], o[2])"
   ]
  },
  {
   "cell_type": "code",
   "execution_count": 40,
   "id": "infectious-caribbean",
   "metadata": {},
   "outputs": [
    {
     "data": {
      "text/plain": [
       "[([(287.5803, 206.62624), (327.8458, 285.5102)], 'chair', 0.9594779),\n",
       " ([(351.87512, 96.56587), (529.8331, 344.39642)], 'potted plant', 0.9330622),\n",
       " ([(175.05191, 130.82785), (213.19995, 218.2367)], 'potted plant', 0.89855945),\n",
       " ([(339.4193, 199.47563), (379.98334, 296.91165)], 'chair', 0.8617725),\n",
       " ([(356.12128, 190.39441), (502.85162, 332.22443)], 'potted plant', 0.8592475),\n",
       " ([(397.01544, 268.92007), (445.59662, 342.15286)], 'chair', 0.7974949),\n",
       " ([(365.44214, 219.55072), (453.9154, 319.49292)], 'potted plant', 0.5731721)]"
      ]
     },
     "execution_count": 40,
     "metadata": {},
     "output_type": "execute_result"
    }
   ],
   "source": [
    "objects"
   ]
  },
  {
   "cell_type": "code",
   "execution_count": null,
   "id": "suspended-charleston",
   "metadata": {},
   "outputs": [],
   "source": []
  }
 ],
 "metadata": {
  "kernelspec": {
   "display_name": "Python 3",
   "language": "python",
   "name": "python3"
  },
  "language_info": {
   "codemirror_mode": {
    "name": "ipython",
    "version": 3
   },
   "file_extension": ".py",
   "mimetype": "text/x-python",
   "name": "python",
   "nbconvert_exporter": "python",
   "pygments_lexer": "ipython3",
   "version": "3.6.9"
  }
 },
 "nbformat": 4,
 "nbformat_minor": 5
}
