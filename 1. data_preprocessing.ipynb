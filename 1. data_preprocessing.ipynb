{
 "cells": [
  {
   "cell_type": "code",
   "execution_count": 1,
   "id": "toxic-omega",
   "metadata": {},
   "outputs": [],
   "source": [
    "import json\n",
    "import yaml\n",
    "import pandas as pd\n",
    "import numpy as np\n",
    "\n",
    "from tqdm import tqdm"
   ]
  },
  {
   "cell_type": "code",
   "execution_count": 2,
   "id": "functional-julian",
   "metadata": {},
   "outputs": [],
   "source": [
    "businesses = []"
   ]
  },
  {
   "cell_type": "code",
   "execution_count": 3,
   "id": "interstate-performance",
   "metadata": {},
   "outputs": [],
   "source": [
    "with open('RESERVE/yelp_dataset/yelp_academic_dataset_business.json', 'r') as b:\n",
    "    for business in b:\n",
    "        business = json.loads(business)\n",
    "        bus_id, categories = business['business_id'], business['categories']\n",
    "        attributes = business.get(\"attributes\", None)\n",
    "\n",
    "        if categories:\n",
    "            business_to_add = {'business_id': bus_id, 'categories': categories}\n",
    "            if (attributes) and (attributes.get(\"Ambience\", None) is not None): business_to_add['ambience'] = attributes[\"Ambience\"]\n",
    "            businesses.append(business_to_add)"
   ]
  },
  {
   "cell_type": "code",
   "execution_count": 4,
   "id": "working-breathing",
   "metadata": {},
   "outputs": [
    {
     "data": {
      "text/plain": [
       "22"
      ]
     },
     "execution_count": 4,
     "metadata": {},
     "output_type": "execute_result"
    }
   ],
   "source": [
    "len('bvN78flM8NLprQ1a1y5dRg')"
   ]
  },
  {
   "cell_type": "code",
   "execution_count": 5,
   "id": "psychological-hayes",
   "metadata": {},
   "outputs": [
    {
     "data": {
      "text/plain": [
       "160470"
      ]
     },
     "execution_count": 5,
     "metadata": {},
     "output_type": "execute_result"
    }
   ],
   "source": [
    "len(businesses)"
   ]
  },
  {
   "cell_type": "code",
   "execution_count": 6,
   "id": "front-kazakhstan",
   "metadata": {},
   "outputs": [],
   "source": [
    "restaurants = []\n",
    "others = []"
   ]
  },
  {
   "cell_type": "code",
   "execution_count": 7,
   "id": "possible-tonight",
   "metadata": {},
   "outputs": [],
   "source": [
    "for business in businesses:\n",
    "    if 'Restaurants' in business['categories']:\n",
    "        restaurants.append(business)\n",
    "    else:\n",
    "        others.append(business)"
   ]
  },
  {
   "cell_type": "code",
   "execution_count": 8,
   "id": "reduced-crossing",
   "metadata": {},
   "outputs": [],
   "source": [
    "categories = set()"
   ]
  },
  {
   "cell_type": "code",
   "execution_count": 9,
   "id": "direct-rebecca",
   "metadata": {},
   "outputs": [],
   "source": [
    "for restaurant in restaurants:\n",
    "    categories.update(restaurant['categories'].split(', '))"
   ]
  },
  {
   "cell_type": "code",
   "execution_count": 10,
   "id": "enormous-spoke",
   "metadata": {},
   "outputs": [],
   "source": [
    "with open('utils/cuisine_mapping.json', 'r') as m:\n",
    "    region_cuisine = json.loads(m.read())"
   ]
  },
  {
   "cell_type": "code",
   "execution_count": 11,
   "id": "banner-resident",
   "metadata": {},
   "outputs": [],
   "source": [
    "cuisine_region = {}\n",
    "for region, cuisines in region_cuisine.items():\n",
    "    cuisines = cuisines.split(', ')\n",
    "    for cuisine in cuisines:\n",
    "        cuisine_region[cuisine] = region"
   ]
  },
  {
   "cell_type": "code",
   "execution_count": 12,
   "id": "asian-checklist",
   "metadata": {},
   "outputs": [],
   "source": [
    "cuisines = set(cuisine_region.keys())"
   ]
  },
  {
   "cell_type": "code",
   "execution_count": 13,
   "id": "decreased-rough",
   "metadata": {},
   "outputs": [],
   "source": [
    "restaurants_region = []"
   ]
  },
  {
   "cell_type": "code",
   "execution_count": 14,
   "id": "spare-structure",
   "metadata": {},
   "outputs": [],
   "source": [
    "total_cuisined = 0"
   ]
  },
  {
   "cell_type": "code",
   "execution_count": 15,
   "id": "combined-privilege",
   "metadata": {},
   "outputs": [],
   "source": [
    "for restaurant in restaurants:\n",
    "    categories = restaurant['categories'].split(', ')\n",
    "    found_cuisines = cuisines.intersection(categories)\n",
    "    if found_cuisines: total_cuisined += 1\n",
    "    restaurant['categories'] = list(found_cuisines) or ['World']"
   ]
  },
  {
   "cell_type": "code",
   "execution_count": 16,
   "id": "fantastic-region",
   "metadata": {},
   "outputs": [
    {
     "data": {
      "text/plain": [
       "23151"
      ]
     },
     "execution_count": 16,
     "metadata": {},
     "output_type": "execute_result"
    }
   ],
   "source": [
    "total_cuisined"
   ]
  },
  {
   "cell_type": "code",
   "execution_count": 17,
   "id": "behavioral-procurement",
   "metadata": {},
   "outputs": [
    {
     "data": {
      "text/plain": [
       "50763"
      ]
     },
     "execution_count": 17,
     "metadata": {},
     "output_type": "execute_result"
    }
   ],
   "source": [
    "len(restaurants)"
   ]
  },
  {
   "cell_type": "code",
   "execution_count": 18,
   "id": "incorporate-dietary",
   "metadata": {},
   "outputs": [],
   "source": [
    "for restaurant in restaurants:\n",
    "    restaurant['categories'] = list(set([cuisine_region.get(cuisine, 'World') for cuisine in restaurant['categories']]))"
   ]
  },
  {
   "cell_type": "code",
   "execution_count": 19,
   "id": "coordinated-project",
   "metadata": {},
   "outputs": [
    {
     "data": {
      "text/plain": [
       "2062"
      ]
     },
     "execution_count": 19,
     "metadata": {},
     "output_type": "execute_result"
    }
   ],
   "source": [
    "len([r for r in restaurants if len(r['categories']) > 1])"
   ]
  },
  {
   "cell_type": "code",
   "execution_count": 20,
   "id": "equipped-doubt",
   "metadata": {},
   "outputs": [],
   "source": [
    "for business in others:\n",
    "    business['categories'] = ['Non_restaurant']"
   ]
  },
  {
   "cell_type": "code",
   "execution_count": 21,
   "id": "developing-doctrine",
   "metadata": {},
   "outputs": [],
   "source": [
    "ambient_data = []"
   ]
  },
  {
   "cell_type": "code",
   "execution_count": 22,
   "id": "prescription-yield",
   "metadata": {},
   "outputs": [
    {
     "name": "stderr",
     "output_type": "stream",
     "text": [
      "100%|██████████| 160470/160470 [00:26<00:00, 5954.54it/s]\n"
     ]
    }
   ],
   "source": [
    "for business in tqdm(businesses):\n",
    "    try:\n",
    "        if 'ambience' in business:\n",
    "            ambient_row = {'business_id': business['business_id']}\n",
    "            ambient_row.update(yaml.load(business['ambience'], Loader=yaml.FullLoader))\n",
    "            ambient_data.append(ambient_row)\n",
    "    except ValueError:\n",
    "        pass"
   ]
  },
  {
   "cell_type": "code",
   "execution_count": 23,
   "id": "overall-tradition",
   "metadata": {},
   "outputs": [],
   "source": [
    "ambient_df = pd.DataFrame(ambient_data)"
   ]
  },
  {
   "cell_type": "code",
   "execution_count": 24,
   "id": "marked-transcription",
   "metadata": {},
   "outputs": [
    {
     "data": {
      "text/html": [
       "<div>\n",
       "<style scoped>\n",
       "    .dataframe tbody tr th:only-of-type {\n",
       "        vertical-align: middle;\n",
       "    }\n",
       "\n",
       "    .dataframe tbody tr th {\n",
       "        vertical-align: top;\n",
       "    }\n",
       "\n",
       "    .dataframe thead th {\n",
       "        text-align: right;\n",
       "    }\n",
       "</style>\n",
       "<table border=\"1\" class=\"dataframe\">\n",
       "  <thead>\n",
       "    <tr style=\"text-align: right;\">\n",
       "      <th></th>\n",
       "      <th>business_id</th>\n",
       "      <th>touristy</th>\n",
       "      <th>hipster</th>\n",
       "      <th>romantic</th>\n",
       "      <th>divey</th>\n",
       "      <th>intimate</th>\n",
       "      <th>trendy</th>\n",
       "      <th>upscale</th>\n",
       "      <th>classy</th>\n",
       "      <th>casual</th>\n",
       "    </tr>\n",
       "  </thead>\n",
       "  <tbody>\n",
       "    <tr>\n",
       "      <th>0</th>\n",
       "      <td>6iYb2HFDywm3zjuRg0shjw</td>\n",
       "      <td>False</td>\n",
       "      <td>False</td>\n",
       "      <td>False</td>\n",
       "      <td>False</td>\n",
       "      <td>False</td>\n",
       "      <td>False</td>\n",
       "      <td>False</td>\n",
       "      <td>False</td>\n",
       "      <td>True</td>\n",
       "    </tr>\n",
       "    <tr>\n",
       "      <th>1</th>\n",
       "      <td>tCbdrRPZA0oiIYSmHG3J0w</td>\n",
       "      <td>False</td>\n",
       "      <td>False</td>\n",
       "      <td>False</td>\n",
       "      <td>False</td>\n",
       "      <td>False</td>\n",
       "      <td>False</td>\n",
       "      <td>False</td>\n",
       "      <td>False</td>\n",
       "      <td>True</td>\n",
       "    </tr>\n",
       "    <tr>\n",
       "      <th>2</th>\n",
       "      <td>D4JtQNTI4X3KcbzacDJsMw</td>\n",
       "      <td>False</td>\n",
       "      <td>False</td>\n",
       "      <td>False</td>\n",
       "      <td>False</td>\n",
       "      <td>False</td>\n",
       "      <td>False</td>\n",
       "      <td>False</td>\n",
       "      <td>False</td>\n",
       "      <td>True</td>\n",
       "    </tr>\n",
       "    <tr>\n",
       "      <th>3</th>\n",
       "      <td>HPA_qyMEddpAEtFof02ixg</td>\n",
       "      <td>False</td>\n",
       "      <td>False</td>\n",
       "      <td>False</td>\n",
       "      <td>False</td>\n",
       "      <td>False</td>\n",
       "      <td>False</td>\n",
       "      <td>False</td>\n",
       "      <td>False</td>\n",
       "      <td>True</td>\n",
       "    </tr>\n",
       "    <tr>\n",
       "      <th>4</th>\n",
       "      <td>dmbbf3AqeG61_QHRZi1M1w</td>\n",
       "      <td>False</td>\n",
       "      <td>False</td>\n",
       "      <td>False</td>\n",
       "      <td>False</td>\n",
       "      <td>False</td>\n",
       "      <td>False</td>\n",
       "      <td>False</td>\n",
       "      <td>False</td>\n",
       "      <td>False</td>\n",
       "    </tr>\n",
       "  </tbody>\n",
       "</table>\n",
       "</div>"
      ],
      "text/plain": [
       "              business_id touristy hipster romantic  divey intimate trendy  \\\n",
       "0  6iYb2HFDywm3zjuRg0shjw    False   False    False  False    False  False   \n",
       "1  tCbdrRPZA0oiIYSmHG3J0w    False   False    False  False    False  False   \n",
       "2  D4JtQNTI4X3KcbzacDJsMw    False   False    False  False    False  False   \n",
       "3  HPA_qyMEddpAEtFof02ixg    False   False    False  False    False  False   \n",
       "4  dmbbf3AqeG61_QHRZi1M1w    False   False    False  False    False  False   \n",
       "\n",
       "  upscale classy casual  \n",
       "0   False  False   True  \n",
       "1   False  False   True  \n",
       "2   False  False   True  \n",
       "3   False  False   True  \n",
       "4   False  False  False  "
      ]
     },
     "execution_count": 24,
     "metadata": {},
     "output_type": "execute_result"
    }
   ],
   "source": [
    "ambient_df.head()"
   ]
  },
  {
   "cell_type": "code",
   "execution_count": 25,
   "id": "collected-still",
   "metadata": {},
   "outputs": [],
   "source": [
    "ambient_df.to_csv('yelp_academic/data/business_ambience.csv', index = False)"
   ]
  },
  {
   "cell_type": "code",
   "execution_count": 26,
   "id": "comprehensive-wagner",
   "metadata": {},
   "outputs": [],
   "source": [
    "for business in businesses:\n",
    "    if 'ambience' in business:\n",
    "        del business['ambience']"
   ]
  },
  {
   "cell_type": "code",
   "execution_count": 27,
   "id": "handy-fancy",
   "metadata": {},
   "outputs": [],
   "source": [
    "id_category = {}"
   ]
  },
  {
   "cell_type": "code",
   "execution_count": 28,
   "id": "fantastic-anchor",
   "metadata": {},
   "outputs": [],
   "source": [
    "for business in businesses:\n",
    "    categories = {'Africa': False,\n",
    "                  'N_America': False,\n",
    "                  'C_America': False,\n",
    "                  'S_America': False,\n",
    "                  'Caribbean': False,\n",
    "                  'E_Asia': False,\n",
    "                  'S_Asia': False,\n",
    "                  'SE_Asia': False,\n",
    "                  'W_Asia': False,\n",
    "                  'C_Europe': False,\n",
    "                  'E_Europe': False,\n",
    "                  'S_Europe': False,\n",
    "                  'W_Europe': False,\n",
    "                  'Oceania': False,\n",
    "                  'World': False,\n",
    "                  'Non_restaurant': False}\n",
    "    for category in business['categories']: categories[category] = True\n",
    "    id_category[business['business_id']] = categories"
   ]
  },
  {
   "cell_type": "markdown",
   "id": "driven-variable",
   "metadata": {},
   "source": [
    "### Photos: Region"
   ]
  },
  {
   "cell_type": "code",
   "execution_count": 29,
   "id": "pregnant-mention",
   "metadata": {},
   "outputs": [],
   "source": [
    "photos_businesses_all = []"
   ]
  },
  {
   "cell_type": "code",
   "execution_count": 30,
   "id": "antique-minutes",
   "metadata": {},
   "outputs": [],
   "source": [
    "with open('yelp_photos/photos.json', 'r') as p:\n",
    "    for photo in p:\n",
    "        photo = json.loads(photo)\n",
    "        photos_businesses_all.append({'photo_id': photo['photo_id'],\n",
    "                      'business_id': photo['business_id']})"
   ]
  },
  {
   "cell_type": "code",
   "execution_count": 31,
   "id": "sudden-danger",
   "metadata": {},
   "outputs": [],
   "source": [
    "for photo in photos_businesses_all:\n",
    "    photo.update(id_category[photo['business_id']])"
   ]
  },
  {
   "cell_type": "code",
   "execution_count": 32,
   "id": "wireless-stone",
   "metadata": {},
   "outputs": [],
   "source": [
    "photos_businesses_all = pd.DataFrame(photos_businesses_all)"
   ]
  },
  {
   "cell_type": "code",
   "execution_count": 33,
   "id": "timely-virus",
   "metadata": {},
   "outputs": [
    {
     "data": {
      "text/html": [
       "<div>\n",
       "<style scoped>\n",
       "    .dataframe tbody tr th:only-of-type {\n",
       "        vertical-align: middle;\n",
       "    }\n",
       "\n",
       "    .dataframe tbody tr th {\n",
       "        vertical-align: top;\n",
       "    }\n",
       "\n",
       "    .dataframe thead th {\n",
       "        text-align: right;\n",
       "    }\n",
       "</style>\n",
       "<table border=\"1\" class=\"dataframe\">\n",
       "  <thead>\n",
       "    <tr style=\"text-align: right;\">\n",
       "      <th></th>\n",
       "      <th>photo_id</th>\n",
       "      <th>business_id</th>\n",
       "      <th>Africa</th>\n",
       "      <th>N_America</th>\n",
       "      <th>C_America</th>\n",
       "      <th>S_America</th>\n",
       "      <th>Caribbean</th>\n",
       "      <th>E_Asia</th>\n",
       "      <th>S_Asia</th>\n",
       "      <th>SE_Asia</th>\n",
       "      <th>W_Asia</th>\n",
       "      <th>C_Europe</th>\n",
       "      <th>E_Europe</th>\n",
       "      <th>S_Europe</th>\n",
       "      <th>W_Europe</th>\n",
       "      <th>Oceania</th>\n",
       "      <th>World</th>\n",
       "      <th>Non_restaurant</th>\n",
       "    </tr>\n",
       "  </thead>\n",
       "  <tbody>\n",
       "    <tr>\n",
       "      <th>0</th>\n",
       "      <td>Un_Og6jfhazVn7CxszkKEw</td>\n",
       "      <td>R1sIqGfKpF5f3HV3vyNsbg</td>\n",
       "      <td>False</td>\n",
       "      <td>True</td>\n",
       "      <td>False</td>\n",
       "      <td>False</td>\n",
       "      <td>False</td>\n",
       "      <td>False</td>\n",
       "      <td>False</td>\n",
       "      <td>False</td>\n",
       "      <td>False</td>\n",
       "      <td>False</td>\n",
       "      <td>False</td>\n",
       "      <td>False</td>\n",
       "      <td>False</td>\n",
       "      <td>False</td>\n",
       "      <td>False</td>\n",
       "      <td>False</td>\n",
       "    </tr>\n",
       "    <tr>\n",
       "      <th>1</th>\n",
       "      <td>BFE1AFOs27scnnfeBf99ZA</td>\n",
       "      <td>vdT7zlrLB2DL9pStDUs91A</td>\n",
       "      <td>False</td>\n",
       "      <td>False</td>\n",
       "      <td>False</td>\n",
       "      <td>False</td>\n",
       "      <td>False</td>\n",
       "      <td>False</td>\n",
       "      <td>False</td>\n",
       "      <td>False</td>\n",
       "      <td>False</td>\n",
       "      <td>False</td>\n",
       "      <td>False</td>\n",
       "      <td>False</td>\n",
       "      <td>False</td>\n",
       "      <td>False</td>\n",
       "      <td>True</td>\n",
       "      <td>False</td>\n",
       "    </tr>\n",
       "    <tr>\n",
       "      <th>2</th>\n",
       "      <td>7t-C0r1JRdoVD9FS7M-N7Q</td>\n",
       "      <td>c5GzrObEdj7eNVOdAxrppg</td>\n",
       "      <td>False</td>\n",
       "      <td>True</td>\n",
       "      <td>False</td>\n",
       "      <td>False</td>\n",
       "      <td>False</td>\n",
       "      <td>False</td>\n",
       "      <td>False</td>\n",
       "      <td>False</td>\n",
       "      <td>False</td>\n",
       "      <td>False</td>\n",
       "      <td>False</td>\n",
       "      <td>False</td>\n",
       "      <td>False</td>\n",
       "      <td>False</td>\n",
       "      <td>False</td>\n",
       "      <td>False</td>\n",
       "    </tr>\n",
       "    <tr>\n",
       "      <th>3</th>\n",
       "      <td>rLnw0d-YYZvT9kR4y7h7_Q</td>\n",
       "      <td>aQa7N5ZbPhCoKYGGB-gqfg</td>\n",
       "      <td>False</td>\n",
       "      <td>False</td>\n",
       "      <td>False</td>\n",
       "      <td>False</td>\n",
       "      <td>False</td>\n",
       "      <td>False</td>\n",
       "      <td>False</td>\n",
       "      <td>False</td>\n",
       "      <td>False</td>\n",
       "      <td>False</td>\n",
       "      <td>False</td>\n",
       "      <td>False</td>\n",
       "      <td>False</td>\n",
       "      <td>False</td>\n",
       "      <td>True</td>\n",
       "      <td>False</td>\n",
       "    </tr>\n",
       "    <tr>\n",
       "      <th>4</th>\n",
       "      <td>Cv5M8MDw8a5NEWvw2AQ4nw</td>\n",
       "      <td>B-s6qOFD75syhwWjp518aA</td>\n",
       "      <td>False</td>\n",
       "      <td>True</td>\n",
       "      <td>False</td>\n",
       "      <td>False</td>\n",
       "      <td>False</td>\n",
       "      <td>False</td>\n",
       "      <td>False</td>\n",
       "      <td>False</td>\n",
       "      <td>False</td>\n",
       "      <td>False</td>\n",
       "      <td>False</td>\n",
       "      <td>False</td>\n",
       "      <td>False</td>\n",
       "      <td>False</td>\n",
       "      <td>False</td>\n",
       "      <td>False</td>\n",
       "    </tr>\n",
       "  </tbody>\n",
       "</table>\n",
       "</div>"
      ],
      "text/plain": [
       "                 photo_id             business_id  Africa  N_America  \\\n",
       "0  Un_Og6jfhazVn7CxszkKEw  R1sIqGfKpF5f3HV3vyNsbg   False       True   \n",
       "1  BFE1AFOs27scnnfeBf99ZA  vdT7zlrLB2DL9pStDUs91A   False      False   \n",
       "2  7t-C0r1JRdoVD9FS7M-N7Q  c5GzrObEdj7eNVOdAxrppg   False       True   \n",
       "3  rLnw0d-YYZvT9kR4y7h7_Q  aQa7N5ZbPhCoKYGGB-gqfg   False      False   \n",
       "4  Cv5M8MDw8a5NEWvw2AQ4nw  B-s6qOFD75syhwWjp518aA   False       True   \n",
       "\n",
       "   C_America  S_America  Caribbean  E_Asia  S_Asia  SE_Asia  W_Asia  C_Europe  \\\n",
       "0      False      False      False   False   False    False   False     False   \n",
       "1      False      False      False   False   False    False   False     False   \n",
       "2      False      False      False   False   False    False   False     False   \n",
       "3      False      False      False   False   False    False   False     False   \n",
       "4      False      False      False   False   False    False   False     False   \n",
       "\n",
       "   E_Europe  S_Europe  W_Europe  Oceania  World  Non_restaurant  \n",
       "0     False     False     False    False  False           False  \n",
       "1     False     False     False    False   True           False  \n",
       "2     False     False     False    False  False           False  \n",
       "3     False     False     False    False   True           False  \n",
       "4     False     False     False    False  False           False  "
      ]
     },
     "execution_count": 33,
     "metadata": {},
     "output_type": "execute_result"
    }
   ],
   "source": [
    "photos_businesses_all.head()"
   ]
  },
  {
   "cell_type": "code",
   "execution_count": 34,
   "id": "novel-competition",
   "metadata": {},
   "outputs": [],
   "source": [
    "photos_businesses_all.to_csv('yelp_data/photos_businesses_all.csv', index = False)"
   ]
  },
  {
   "cell_type": "code",
   "execution_count": 35,
   "id": "timely-schema",
   "metadata": {},
   "outputs": [],
   "source": [
    "photos_restaurants_global = photos_businesses_all.loc[photos_businesses_all['Non_restaurant'] == False]\n",
    "del photos_restaurants_global['Non_restaurant']"
   ]
  },
  {
   "cell_type": "code",
   "execution_count": 36,
   "id": "martial-reader",
   "metadata": {},
   "outputs": [
    {
     "data": {
      "text/html": [
       "<div>\n",
       "<style scoped>\n",
       "    .dataframe tbody tr th:only-of-type {\n",
       "        vertical-align: middle;\n",
       "    }\n",
       "\n",
       "    .dataframe tbody tr th {\n",
       "        vertical-align: top;\n",
       "    }\n",
       "\n",
       "    .dataframe thead th {\n",
       "        text-align: right;\n",
       "    }\n",
       "</style>\n",
       "<table border=\"1\" class=\"dataframe\">\n",
       "  <thead>\n",
       "    <tr style=\"text-align: right;\">\n",
       "      <th></th>\n",
       "      <th>photo_id</th>\n",
       "      <th>business_id</th>\n",
       "      <th>Africa</th>\n",
       "      <th>N_America</th>\n",
       "      <th>C_America</th>\n",
       "      <th>S_America</th>\n",
       "      <th>Caribbean</th>\n",
       "      <th>E_Asia</th>\n",
       "      <th>S_Asia</th>\n",
       "      <th>SE_Asia</th>\n",
       "      <th>W_Asia</th>\n",
       "      <th>C_Europe</th>\n",
       "      <th>E_Europe</th>\n",
       "      <th>S_Europe</th>\n",
       "      <th>W_Europe</th>\n",
       "      <th>Oceania</th>\n",
       "      <th>World</th>\n",
       "    </tr>\n",
       "  </thead>\n",
       "  <tbody>\n",
       "    <tr>\n",
       "      <th>0</th>\n",
       "      <td>Un_Og6jfhazVn7CxszkKEw</td>\n",
       "      <td>R1sIqGfKpF5f3HV3vyNsbg</td>\n",
       "      <td>False</td>\n",
       "      <td>True</td>\n",
       "      <td>False</td>\n",
       "      <td>False</td>\n",
       "      <td>False</td>\n",
       "      <td>False</td>\n",
       "      <td>False</td>\n",
       "      <td>False</td>\n",
       "      <td>False</td>\n",
       "      <td>False</td>\n",
       "      <td>False</td>\n",
       "      <td>False</td>\n",
       "      <td>False</td>\n",
       "      <td>False</td>\n",
       "      <td>False</td>\n",
       "    </tr>\n",
       "    <tr>\n",
       "      <th>1</th>\n",
       "      <td>BFE1AFOs27scnnfeBf99ZA</td>\n",
       "      <td>vdT7zlrLB2DL9pStDUs91A</td>\n",
       "      <td>False</td>\n",
       "      <td>False</td>\n",
       "      <td>False</td>\n",
       "      <td>False</td>\n",
       "      <td>False</td>\n",
       "      <td>False</td>\n",
       "      <td>False</td>\n",
       "      <td>False</td>\n",
       "      <td>False</td>\n",
       "      <td>False</td>\n",
       "      <td>False</td>\n",
       "      <td>False</td>\n",
       "      <td>False</td>\n",
       "      <td>False</td>\n",
       "      <td>True</td>\n",
       "    </tr>\n",
       "    <tr>\n",
       "      <th>2</th>\n",
       "      <td>7t-C0r1JRdoVD9FS7M-N7Q</td>\n",
       "      <td>c5GzrObEdj7eNVOdAxrppg</td>\n",
       "      <td>False</td>\n",
       "      <td>True</td>\n",
       "      <td>False</td>\n",
       "      <td>False</td>\n",
       "      <td>False</td>\n",
       "      <td>False</td>\n",
       "      <td>False</td>\n",
       "      <td>False</td>\n",
       "      <td>False</td>\n",
       "      <td>False</td>\n",
       "      <td>False</td>\n",
       "      <td>False</td>\n",
       "      <td>False</td>\n",
       "      <td>False</td>\n",
       "      <td>False</td>\n",
       "    </tr>\n",
       "    <tr>\n",
       "      <th>3</th>\n",
       "      <td>rLnw0d-YYZvT9kR4y7h7_Q</td>\n",
       "      <td>aQa7N5ZbPhCoKYGGB-gqfg</td>\n",
       "      <td>False</td>\n",
       "      <td>False</td>\n",
       "      <td>False</td>\n",
       "      <td>False</td>\n",
       "      <td>False</td>\n",
       "      <td>False</td>\n",
       "      <td>False</td>\n",
       "      <td>False</td>\n",
       "      <td>False</td>\n",
       "      <td>False</td>\n",
       "      <td>False</td>\n",
       "      <td>False</td>\n",
       "      <td>False</td>\n",
       "      <td>False</td>\n",
       "      <td>True</td>\n",
       "    </tr>\n",
       "    <tr>\n",
       "      <th>4</th>\n",
       "      <td>Cv5M8MDw8a5NEWvw2AQ4nw</td>\n",
       "      <td>B-s6qOFD75syhwWjp518aA</td>\n",
       "      <td>False</td>\n",
       "      <td>True</td>\n",
       "      <td>False</td>\n",
       "      <td>False</td>\n",
       "      <td>False</td>\n",
       "      <td>False</td>\n",
       "      <td>False</td>\n",
       "      <td>False</td>\n",
       "      <td>False</td>\n",
       "      <td>False</td>\n",
       "      <td>False</td>\n",
       "      <td>False</td>\n",
       "      <td>False</td>\n",
       "      <td>False</td>\n",
       "      <td>False</td>\n",
       "    </tr>\n",
       "  </tbody>\n",
       "</table>\n",
       "</div>"
      ],
      "text/plain": [
       "                 photo_id             business_id  Africa  N_America  \\\n",
       "0  Un_Og6jfhazVn7CxszkKEw  R1sIqGfKpF5f3HV3vyNsbg   False       True   \n",
       "1  BFE1AFOs27scnnfeBf99ZA  vdT7zlrLB2DL9pStDUs91A   False      False   \n",
       "2  7t-C0r1JRdoVD9FS7M-N7Q  c5GzrObEdj7eNVOdAxrppg   False       True   \n",
       "3  rLnw0d-YYZvT9kR4y7h7_Q  aQa7N5ZbPhCoKYGGB-gqfg   False      False   \n",
       "4  Cv5M8MDw8a5NEWvw2AQ4nw  B-s6qOFD75syhwWjp518aA   False       True   \n",
       "\n",
       "   C_America  S_America  Caribbean  E_Asia  S_Asia  SE_Asia  W_Asia  C_Europe  \\\n",
       "0      False      False      False   False   False    False   False     False   \n",
       "1      False      False      False   False   False    False   False     False   \n",
       "2      False      False      False   False   False    False   False     False   \n",
       "3      False      False      False   False   False    False   False     False   \n",
       "4      False      False      False   False   False    False   False     False   \n",
       "\n",
       "   E_Europe  S_Europe  W_Europe  Oceania  World  \n",
       "0     False     False     False    False  False  \n",
       "1     False     False     False    False   True  \n",
       "2     False     False     False    False  False  \n",
       "3     False     False     False    False   True  \n",
       "4     False     False     False    False  False  "
      ]
     },
     "execution_count": 36,
     "metadata": {},
     "output_type": "execute_result"
    }
   ],
   "source": [
    "photos_restaurants_global.head()"
   ]
  },
  {
   "cell_type": "code",
   "execution_count": 37,
   "id": "helpful-spyware",
   "metadata": {},
   "outputs": [],
   "source": [
    "photos_restaurants_global.to_csv('yelp_data/photos_restaurants_global.csv', index = False)"
   ]
  },
  {
   "cell_type": "code",
   "execution_count": 38,
   "id": "baking-louis",
   "metadata": {},
   "outputs": [],
   "source": [
    "photos_restaurants_regional = photos_restaurants_global.loc[photos_restaurants_global['World'] == False]\n",
    "del photos_restaurants_regional['World']"
   ]
  },
  {
   "cell_type": "code",
   "execution_count": 39,
   "id": "liberal-monroe",
   "metadata": {},
   "outputs": [
    {
     "data": {
      "text/html": [
       "<div>\n",
       "<style scoped>\n",
       "    .dataframe tbody tr th:only-of-type {\n",
       "        vertical-align: middle;\n",
       "    }\n",
       "\n",
       "    .dataframe tbody tr th {\n",
       "        vertical-align: top;\n",
       "    }\n",
       "\n",
       "    .dataframe thead th {\n",
       "        text-align: right;\n",
       "    }\n",
       "</style>\n",
       "<table border=\"1\" class=\"dataframe\">\n",
       "  <thead>\n",
       "    <tr style=\"text-align: right;\">\n",
       "      <th></th>\n",
       "      <th>photo_id</th>\n",
       "      <th>business_id</th>\n",
       "      <th>Africa</th>\n",
       "      <th>N_America</th>\n",
       "      <th>C_America</th>\n",
       "      <th>S_America</th>\n",
       "      <th>Caribbean</th>\n",
       "      <th>E_Asia</th>\n",
       "      <th>S_Asia</th>\n",
       "      <th>SE_Asia</th>\n",
       "      <th>W_Asia</th>\n",
       "      <th>C_Europe</th>\n",
       "      <th>E_Europe</th>\n",
       "      <th>S_Europe</th>\n",
       "      <th>W_Europe</th>\n",
       "      <th>Oceania</th>\n",
       "    </tr>\n",
       "  </thead>\n",
       "  <tbody>\n",
       "    <tr>\n",
       "      <th>0</th>\n",
       "      <td>Un_Og6jfhazVn7CxszkKEw</td>\n",
       "      <td>R1sIqGfKpF5f3HV3vyNsbg</td>\n",
       "      <td>False</td>\n",
       "      <td>True</td>\n",
       "      <td>False</td>\n",
       "      <td>False</td>\n",
       "      <td>False</td>\n",
       "      <td>False</td>\n",
       "      <td>False</td>\n",
       "      <td>False</td>\n",
       "      <td>False</td>\n",
       "      <td>False</td>\n",
       "      <td>False</td>\n",
       "      <td>False</td>\n",
       "      <td>False</td>\n",
       "      <td>False</td>\n",
       "    </tr>\n",
       "    <tr>\n",
       "      <th>2</th>\n",
       "      <td>7t-C0r1JRdoVD9FS7M-N7Q</td>\n",
       "      <td>c5GzrObEdj7eNVOdAxrppg</td>\n",
       "      <td>False</td>\n",
       "      <td>True</td>\n",
       "      <td>False</td>\n",
       "      <td>False</td>\n",
       "      <td>False</td>\n",
       "      <td>False</td>\n",
       "      <td>False</td>\n",
       "      <td>False</td>\n",
       "      <td>False</td>\n",
       "      <td>False</td>\n",
       "      <td>False</td>\n",
       "      <td>False</td>\n",
       "      <td>False</td>\n",
       "      <td>False</td>\n",
       "    </tr>\n",
       "    <tr>\n",
       "      <th>4</th>\n",
       "      <td>Cv5M8MDw8a5NEWvw2AQ4nw</td>\n",
       "      <td>B-s6qOFD75syhwWjp518aA</td>\n",
       "      <td>False</td>\n",
       "      <td>True</td>\n",
       "      <td>False</td>\n",
       "      <td>False</td>\n",
       "      <td>False</td>\n",
       "      <td>False</td>\n",
       "      <td>False</td>\n",
       "      <td>False</td>\n",
       "      <td>False</td>\n",
       "      <td>False</td>\n",
       "      <td>False</td>\n",
       "      <td>False</td>\n",
       "      <td>False</td>\n",
       "      <td>False</td>\n",
       "    </tr>\n",
       "    <tr>\n",
       "      <th>8</th>\n",
       "      <td>gPOXcGNQcB2V5pAKCncxOQ</td>\n",
       "      <td>L1nn5Cge3wBUHydmX8XwWA</td>\n",
       "      <td>False</td>\n",
       "      <td>False</td>\n",
       "      <td>False</td>\n",
       "      <td>False</td>\n",
       "      <td>False</td>\n",
       "      <td>True</td>\n",
       "      <td>False</td>\n",
       "      <td>False</td>\n",
       "      <td>False</td>\n",
       "      <td>False</td>\n",
       "      <td>False</td>\n",
       "      <td>False</td>\n",
       "      <td>False</td>\n",
       "      <td>False</td>\n",
       "    </tr>\n",
       "    <tr>\n",
       "      <th>9</th>\n",
       "      <td>R0aWKXSB5V1zlDe0frSXSw</td>\n",
       "      <td>ZdGTTzkwTb2bYI5CBQsKVw</td>\n",
       "      <td>False</td>\n",
       "      <td>False</td>\n",
       "      <td>False</td>\n",
       "      <td>False</td>\n",
       "      <td>False</td>\n",
       "      <td>True</td>\n",
       "      <td>False</td>\n",
       "      <td>False</td>\n",
       "      <td>False</td>\n",
       "      <td>False</td>\n",
       "      <td>False</td>\n",
       "      <td>False</td>\n",
       "      <td>False</td>\n",
       "      <td>False</td>\n",
       "    </tr>\n",
       "  </tbody>\n",
       "</table>\n",
       "</div>"
      ],
      "text/plain": [
       "                 photo_id             business_id  Africa  N_America  \\\n",
       "0  Un_Og6jfhazVn7CxszkKEw  R1sIqGfKpF5f3HV3vyNsbg   False       True   \n",
       "2  7t-C0r1JRdoVD9FS7M-N7Q  c5GzrObEdj7eNVOdAxrppg   False       True   \n",
       "4  Cv5M8MDw8a5NEWvw2AQ4nw  B-s6qOFD75syhwWjp518aA   False       True   \n",
       "8  gPOXcGNQcB2V5pAKCncxOQ  L1nn5Cge3wBUHydmX8XwWA   False      False   \n",
       "9  R0aWKXSB5V1zlDe0frSXSw  ZdGTTzkwTb2bYI5CBQsKVw   False      False   \n",
       "\n",
       "   C_America  S_America  Caribbean  E_Asia  S_Asia  SE_Asia  W_Asia  C_Europe  \\\n",
       "0      False      False      False   False   False    False   False     False   \n",
       "2      False      False      False   False   False    False   False     False   \n",
       "4      False      False      False   False   False    False   False     False   \n",
       "8      False      False      False    True   False    False   False     False   \n",
       "9      False      False      False    True   False    False   False     False   \n",
       "\n",
       "   E_Europe  S_Europe  W_Europe  Oceania  \n",
       "0     False     False     False    False  \n",
       "2     False     False     False    False  \n",
       "4     False     False     False    False  \n",
       "8     False     False     False    False  \n",
       "9     False     False     False    False  "
      ]
     },
     "execution_count": 39,
     "metadata": {},
     "output_type": "execute_result"
    }
   ],
   "source": [
    "photos_restaurants_regional.head()"
   ]
  },
  {
   "cell_type": "code",
   "execution_count": 40,
   "id": "metallic-effects",
   "metadata": {},
   "outputs": [],
   "source": [
    "photos_restaurants_regional.to_csv('yelp_data/photos_restaurants_regional.csv', index = False)"
   ]
  },
  {
   "cell_type": "code",
   "execution_count": 41,
   "id": "becoming-brave",
   "metadata": {},
   "outputs": [
    {
     "data": {
      "text/plain": [
       "(200000, 170222, 85254)"
      ]
     },
     "execution_count": 41,
     "metadata": {},
     "output_type": "execute_result"
    }
   ],
   "source": [
    "len(photos_businesses_all), len(photos_restaurants_global), len(photos_restaurants_regional)"
   ]
  },
  {
   "cell_type": "code",
   "execution_count": 42,
   "id": "thousand-helicopter",
   "metadata": {},
   "outputs": [
    {
     "data": {
      "text/plain": [
       "171"
      ]
     },
     "execution_count": 42,
     "metadata": {},
     "output_type": "execute_result"
    }
   ],
   "source": [
    "len(photos_restaurants_global.loc[photos_restaurants_global['Oceania'] == True])"
   ]
  },
  {
   "cell_type": "code",
   "execution_count": 43,
   "id": "comprehensive-rally",
   "metadata": {},
   "outputs": [
    {
     "data": {
      "text/plain": [
       "200000"
      ]
     },
     "execution_count": 43,
     "metadata": {},
     "output_type": "execute_result"
    }
   ],
   "source": [
    "len(photos_businesses_all)"
   ]
  },
  {
   "cell_type": "code",
   "execution_count": 44,
   "id": "aging-premium",
   "metadata": {},
   "outputs": [],
   "source": [
    "from sklearn.model_selection import train_test_split"
   ]
  },
  {
   "cell_type": "code",
   "execution_count": 45,
   "id": "massive-decrease",
   "metadata": {},
   "outputs": [],
   "source": [
    "reg_train, reg_dev = train_test_split(photos_restaurants_regional, test_size = 0.2, random_state = 42)\n",
    "reg_dev, reg_test = train_test_split(reg_dev, test_size = 0.5, random_state = 42)"
   ]
  },
  {
   "cell_type": "code",
   "execution_count": 46,
   "id": "twenty-horizon",
   "metadata": {},
   "outputs": [],
   "source": [
    "def dataframe_regions(df):\n",
    "    region_counts = {'Africa': 0,\n",
    "                  'N_America': 0,\n",
    "                  'C_America': 0,\n",
    "                  'S_America': 0,\n",
    "                  'Caribbean': 0,\n",
    "                  'E_Asia': 0,\n",
    "                  'S_Asia': 0,\n",
    "                  'SE_Asia': 0,\n",
    "                  'W_Asia': 0,\n",
    "                  'C_Europe': 0,\n",
    "                  'E_Europe': 0,\n",
    "                  'S_Europe': 0,\n",
    "                  'W_Europe': 0,\n",
    "                  'Oceania': 0}\n",
    "    for region in region_counts:\n",
    "        region_counts[region] = len(df.loc[df[region]  == True])\n",
    "    return region_counts"
   ]
  },
  {
   "cell_type": "code",
   "execution_count": 52,
   "id": "rotary-nebraska",
   "metadata": {},
   "outputs": [
    {
     "data": {
      "text/plain": [
       "8526"
      ]
     },
     "execution_count": 52,
     "metadata": {},
     "output_type": "execute_result"
    }
   ],
   "source": [
    "len(reg_test)"
   ]
  },
  {
   "cell_type": "code",
   "execution_count": 54,
   "id": "concrete-delay",
   "metadata": {},
   "outputs": [
    {
     "data": {
      "text/plain": [
       "{'Africa': 164,\n",
       " 'N_America': 2042,\n",
       " 'C_America': 9,\n",
       " 'S_America': 467,\n",
       " 'Caribbean': 263,\n",
       " 'E_Asia': 2682,\n",
       " 'S_Asia': 337,\n",
       " 'SE_Asia': 1068,\n",
       " 'W_Asia': 380,\n",
       " 'C_Europe': 112,\n",
       " 'E_Europe': 40,\n",
       " 'S_Europe': 1440,\n",
       " 'W_Europe': 608,\n",
       " 'Oceania': 23}"
      ]
     },
     "execution_count": 54,
     "metadata": {},
     "output_type": "execute_result"
    }
   ],
   "source": [
    "dataframe_regions(reg_test)"
   ]
  },
  {
   "cell_type": "code",
   "execution_count": 157,
   "id": "breathing-simpson",
   "metadata": {},
   "outputs": [],
   "source": [
    "reg_train = reg_train.reset_index(drop=True)\n",
    "reg_dev = reg_dev.reset_index(drop=True)\n",
    "reg_test = reg_test.reset_index(drop=True)"
   ]
  },
  {
   "cell_type": "code",
   "execution_count": 158,
   "id": "simple-queen",
   "metadata": {},
   "outputs": [],
   "source": [
    "train.to_csv('yelp_data/photos_restaurants_regional_train.csv', index = False)\n",
    "dev.to_csv('yelp_data/photos_restaurants_regional_dev.csv', index = False)\n",
    "test.to_csv('yelp_data/photos_restaurants_regional_test.csv', index = False)"
   ]
  },
  {
   "cell_type": "code",
   "execution_count": 56,
   "id": "optimum-navigation",
   "metadata": {},
   "outputs": [
    {
     "data": {
      "text/html": [
       "<div>\n",
       "<style scoped>\n",
       "    .dataframe tbody tr th:only-of-type {\n",
       "        vertical-align: middle;\n",
       "    }\n",
       "\n",
       "    .dataframe tbody tr th {\n",
       "        vertical-align: top;\n",
       "    }\n",
       "\n",
       "    .dataframe thead th {\n",
       "        text-align: right;\n",
       "    }\n",
       "</style>\n",
       "<table border=\"1\" class=\"dataframe\">\n",
       "  <thead>\n",
       "    <tr style=\"text-align: right;\">\n",
       "      <th></th>\n",
       "      <th>business_id</th>\n",
       "      <th>touristy</th>\n",
       "      <th>hipster</th>\n",
       "      <th>romantic</th>\n",
       "      <th>divey</th>\n",
       "      <th>intimate</th>\n",
       "      <th>trendy</th>\n",
       "      <th>upscale</th>\n",
       "      <th>classy</th>\n",
       "      <th>casual</th>\n",
       "    </tr>\n",
       "  </thead>\n",
       "  <tbody>\n",
       "    <tr>\n",
       "      <th>0</th>\n",
       "      <td>6iYb2HFDywm3zjuRg0shjw</td>\n",
       "      <td>False</td>\n",
       "      <td>False</td>\n",
       "      <td>False</td>\n",
       "      <td>False</td>\n",
       "      <td>False</td>\n",
       "      <td>False</td>\n",
       "      <td>False</td>\n",
       "      <td>False</td>\n",
       "      <td>True</td>\n",
       "    </tr>\n",
       "    <tr>\n",
       "      <th>1</th>\n",
       "      <td>tCbdrRPZA0oiIYSmHG3J0w</td>\n",
       "      <td>False</td>\n",
       "      <td>False</td>\n",
       "      <td>False</td>\n",
       "      <td>False</td>\n",
       "      <td>False</td>\n",
       "      <td>False</td>\n",
       "      <td>False</td>\n",
       "      <td>False</td>\n",
       "      <td>True</td>\n",
       "    </tr>\n",
       "    <tr>\n",
       "      <th>2</th>\n",
       "      <td>D4JtQNTI4X3KcbzacDJsMw</td>\n",
       "      <td>False</td>\n",
       "      <td>False</td>\n",
       "      <td>False</td>\n",
       "      <td>False</td>\n",
       "      <td>False</td>\n",
       "      <td>False</td>\n",
       "      <td>False</td>\n",
       "      <td>False</td>\n",
       "      <td>True</td>\n",
       "    </tr>\n",
       "    <tr>\n",
       "      <th>3</th>\n",
       "      <td>HPA_qyMEddpAEtFof02ixg</td>\n",
       "      <td>False</td>\n",
       "      <td>False</td>\n",
       "      <td>False</td>\n",
       "      <td>False</td>\n",
       "      <td>False</td>\n",
       "      <td>False</td>\n",
       "      <td>False</td>\n",
       "      <td>False</td>\n",
       "      <td>True</td>\n",
       "    </tr>\n",
       "    <tr>\n",
       "      <th>4</th>\n",
       "      <td>dmbbf3AqeG61_QHRZi1M1w</td>\n",
       "      <td>False</td>\n",
       "      <td>False</td>\n",
       "      <td>False</td>\n",
       "      <td>False</td>\n",
       "      <td>False</td>\n",
       "      <td>False</td>\n",
       "      <td>False</td>\n",
       "      <td>False</td>\n",
       "      <td>False</td>\n",
       "    </tr>\n",
       "    <tr>\n",
       "      <th>...</th>\n",
       "      <td>...</td>\n",
       "      <td>...</td>\n",
       "      <td>...</td>\n",
       "      <td>...</td>\n",
       "      <td>...</td>\n",
       "      <td>...</td>\n",
       "      <td>...</td>\n",
       "      <td>...</td>\n",
       "      <td>...</td>\n",
       "      <td>...</td>\n",
       "    </tr>\n",
       "    <tr>\n",
       "      <th>43426</th>\n",
       "      <td>r5Uag1JqYjr2nbxQCVqm8A</td>\n",
       "      <td>False</td>\n",
       "      <td>False</td>\n",
       "      <td>False</td>\n",
       "      <td>False</td>\n",
       "      <td>None</td>\n",
       "      <td>None</td>\n",
       "      <td>False</td>\n",
       "      <td>True</td>\n",
       "      <td>True</td>\n",
       "    </tr>\n",
       "    <tr>\n",
       "      <th>43427</th>\n",
       "      <td>Zl6SUy6x9jqjRu2HbtEO6A</td>\n",
       "      <td>False</td>\n",
       "      <td>False</td>\n",
       "      <td>False</td>\n",
       "      <td>False</td>\n",
       "      <td>False</td>\n",
       "      <td>False</td>\n",
       "      <td>False</td>\n",
       "      <td>False</td>\n",
       "      <td>False</td>\n",
       "    </tr>\n",
       "    <tr>\n",
       "      <th>43428</th>\n",
       "      <td>Q78fYV6B6P6GmX07YVgi4g</td>\n",
       "      <td>False</td>\n",
       "      <td>False</td>\n",
       "      <td>False</td>\n",
       "      <td>False</td>\n",
       "      <td>False</td>\n",
       "      <td>None</td>\n",
       "      <td>False</td>\n",
       "      <td>False</td>\n",
       "      <td>True</td>\n",
       "    </tr>\n",
       "    <tr>\n",
       "      <th>43429</th>\n",
       "      <td>uXdQkuEtvLAzfc3MsO-sTQ</td>\n",
       "      <td>False</td>\n",
       "      <td>False</td>\n",
       "      <td>False</td>\n",
       "      <td>None</td>\n",
       "      <td>False</td>\n",
       "      <td>False</td>\n",
       "      <td>False</td>\n",
       "      <td>False</td>\n",
       "      <td>True</td>\n",
       "    </tr>\n",
       "    <tr>\n",
       "      <th>43430</th>\n",
       "      <td>ngmLL5Y5OT-bYHKU0kKrYA</td>\n",
       "      <td>False</td>\n",
       "      <td>False</td>\n",
       "      <td>False</td>\n",
       "      <td>False</td>\n",
       "      <td>False</td>\n",
       "      <td>False</td>\n",
       "      <td>False</td>\n",
       "      <td>False</td>\n",
       "      <td>True</td>\n",
       "    </tr>\n",
       "  </tbody>\n",
       "</table>\n",
       "<p>43431 rows × 10 columns</p>\n",
       "</div>"
      ],
      "text/plain": [
       "                  business_id touristy hipster romantic  divey intimate  \\\n",
       "0      6iYb2HFDywm3zjuRg0shjw    False   False    False  False    False   \n",
       "1      tCbdrRPZA0oiIYSmHG3J0w    False   False    False  False    False   \n",
       "2      D4JtQNTI4X3KcbzacDJsMw    False   False    False  False    False   \n",
       "3      HPA_qyMEddpAEtFof02ixg    False   False    False  False    False   \n",
       "4      dmbbf3AqeG61_QHRZi1M1w    False   False    False  False    False   \n",
       "...                       ...      ...     ...      ...    ...      ...   \n",
       "43426  r5Uag1JqYjr2nbxQCVqm8A    False   False    False  False     None   \n",
       "43427  Zl6SUy6x9jqjRu2HbtEO6A    False   False    False  False    False   \n",
       "43428  Q78fYV6B6P6GmX07YVgi4g    False   False    False  False    False   \n",
       "43429  uXdQkuEtvLAzfc3MsO-sTQ    False   False    False   None    False   \n",
       "43430  ngmLL5Y5OT-bYHKU0kKrYA    False   False    False  False    False   \n",
       "\n",
       "      trendy upscale classy casual  \n",
       "0      False   False  False   True  \n",
       "1      False   False  False   True  \n",
       "2      False   False  False   True  \n",
       "3      False   False  False   True  \n",
       "4      False   False  False  False  \n",
       "...      ...     ...    ...    ...  \n",
       "43426   None   False   True   True  \n",
       "43427  False   False  False  False  \n",
       "43428   None   False  False   True  \n",
       "43429  False   False  False   True  \n",
       "43430  False   False  False   True  \n",
       "\n",
       "[43431 rows x 10 columns]"
      ]
     },
     "execution_count": 56,
     "metadata": {},
     "output_type": "execute_result"
    }
   ],
   "source": [
    "ambient_df"
   ]
  },
  {
   "cell_type": "markdown",
   "id": "horizontal-bacon",
   "metadata": {},
   "source": [
    "### Ambience"
   ]
  },
  {
   "cell_type": "code",
   "execution_count": 57,
   "id": "forced-virginia",
   "metadata": {},
   "outputs": [],
   "source": [
    "photos_ambience = []"
   ]
  },
  {
   "cell_type": "code",
   "execution_count": 59,
   "id": "korean-chassis",
   "metadata": {},
   "outputs": [],
   "source": [
    "with open('yelp_photos/photos.json', 'r') as p:\n",
    "    for photo in p:\n",
    "        photo = json.loads(photo)\n",
    "        photos_ambience.append({'photo_id': photo['photo_id'],\n",
    "                      'business_id': photo['business_id']})"
   ]
  },
  {
   "cell_type": "code",
   "execution_count": 64,
   "id": "prospective-benchmark",
   "metadata": {},
   "outputs": [],
   "source": [
    "photos_ambience = pd.DataFrame(photos_ambience)"
   ]
  },
  {
   "cell_type": "code",
   "execution_count": 65,
   "id": "adaptive-truck",
   "metadata": {},
   "outputs": [
    {
     "data": {
      "text/html": [
       "<div>\n",
       "<style scoped>\n",
       "    .dataframe tbody tr th:only-of-type {\n",
       "        vertical-align: middle;\n",
       "    }\n",
       "\n",
       "    .dataframe tbody tr th {\n",
       "        vertical-align: top;\n",
       "    }\n",
       "\n",
       "    .dataframe thead th {\n",
       "        text-align: right;\n",
       "    }\n",
       "</style>\n",
       "<table border=\"1\" class=\"dataframe\">\n",
       "  <thead>\n",
       "    <tr style=\"text-align: right;\">\n",
       "      <th></th>\n",
       "      <th>photo_id</th>\n",
       "      <th>business_id</th>\n",
       "    </tr>\n",
       "  </thead>\n",
       "  <tbody>\n",
       "    <tr>\n",
       "      <th>0</th>\n",
       "      <td>Un_Og6jfhazVn7CxszkKEw</td>\n",
       "      <td>R1sIqGfKpF5f3HV3vyNsbg</td>\n",
       "    </tr>\n",
       "    <tr>\n",
       "      <th>1</th>\n",
       "      <td>BFE1AFOs27scnnfeBf99ZA</td>\n",
       "      <td>vdT7zlrLB2DL9pStDUs91A</td>\n",
       "    </tr>\n",
       "    <tr>\n",
       "      <th>2</th>\n",
       "      <td>7t-C0r1JRdoVD9FS7M-N7Q</td>\n",
       "      <td>c5GzrObEdj7eNVOdAxrppg</td>\n",
       "    </tr>\n",
       "    <tr>\n",
       "      <th>3</th>\n",
       "      <td>rLnw0d-YYZvT9kR4y7h7_Q</td>\n",
       "      <td>aQa7N5ZbPhCoKYGGB-gqfg</td>\n",
       "    </tr>\n",
       "    <tr>\n",
       "      <th>4</th>\n",
       "      <td>Cv5M8MDw8a5NEWvw2AQ4nw</td>\n",
       "      <td>B-s6qOFD75syhwWjp518aA</td>\n",
       "    </tr>\n",
       "  </tbody>\n",
       "</table>\n",
       "</div>"
      ],
      "text/plain": [
       "                 photo_id             business_id\n",
       "0  Un_Og6jfhazVn7CxszkKEw  R1sIqGfKpF5f3HV3vyNsbg\n",
       "1  BFE1AFOs27scnnfeBf99ZA  vdT7zlrLB2DL9pStDUs91A\n",
       "2  7t-C0r1JRdoVD9FS7M-N7Q  c5GzrObEdj7eNVOdAxrppg\n",
       "3  rLnw0d-YYZvT9kR4y7h7_Q  aQa7N5ZbPhCoKYGGB-gqfg\n",
       "4  Cv5M8MDw8a5NEWvw2AQ4nw  B-s6qOFD75syhwWjp518aA"
      ]
     },
     "execution_count": 65,
     "metadata": {},
     "output_type": "execute_result"
    }
   ],
   "source": [
    "photos_ambience.head()"
   ]
  },
  {
   "cell_type": "code",
   "execution_count": 67,
   "id": "reverse-litigation",
   "metadata": {},
   "outputs": [],
   "source": [
    "photos_ambience = pd.merge(photos_ambience, ambient_df, on='business_id')"
   ]
  },
  {
   "cell_type": "code",
   "execution_count": 68,
   "id": "certified-accountability",
   "metadata": {},
   "outputs": [],
   "source": [
    "photos_ambience = photos_ambience[photos_ambience['photo_id'].notna()]"
   ]
  },
  {
   "cell_type": "code",
   "execution_count": 69,
   "id": "increased-atmosphere",
   "metadata": {},
   "outputs": [],
   "source": [
    "photos_ambience = photos_ambience[photos_ambience['business_id'].notna()]"
   ]
  },
  {
   "cell_type": "code",
   "execution_count": 79,
   "id": "human-hardware",
   "metadata": {},
   "outputs": [],
   "source": [
    "obj_columns = list(photos_ambience.select_dtypes(include=['object']).columns.values)\n",
    "photos_ambience[obj_columns] = photos_ambience[obj_columns].replace([None], np.nan).replace('None', np.nan)"
   ]
  },
  {
   "cell_type": "code",
   "execution_count": 81,
   "id": "expensive-california",
   "metadata": {},
   "outputs": [],
   "source": [
    "photos_ambience = photos_ambience.fillna(False)"
   ]
  },
  {
   "cell_type": "code",
   "execution_count": 84,
   "id": "orange-torture",
   "metadata": {},
   "outputs": [],
   "source": [
    "photos_ambience = photos_ambience[photos_ambience[['touristy', 'hipster', 'romantic', 'divey', 'intimate', 'trendy', 'upscale', 'classy', 'casual']].any(axis=1)]"
   ]
  },
  {
   "cell_type": "code",
   "execution_count": 85,
   "id": "necessary-material",
   "metadata": {},
   "outputs": [],
   "source": [
    "amb_train, amb_dev = train_test_split(photos_ambience, test_size = 0.2, random_state = 42)\n",
    "amb_dev, amb_test = train_test_split(amb_dev, test_size = 0.5, random_state = 42)"
   ]
  },
  {
   "cell_type": "code",
   "execution_count": 87,
   "id": "steady-outside",
   "metadata": {},
   "outputs": [],
   "source": [
    "def df_ambience(df):\n",
    "    amb_counts = {'touristy': 0,\n",
    "                  'hipster': 0,\n",
    "                  'romantic': 0,\n",
    "                  'divey': 0,\n",
    "                  'intimate': 0,\n",
    "                  'trendy': 0,\n",
    "                  'upscale': 0,\n",
    "                  'classy': 0,\n",
    "                  'casual': 0}\n",
    "    for amb in amb_counts:\n",
    "        amb_counts[amb] = len(df.loc[df[amb]  == True])\n",
    "    return len(df), amb_counts"
   ]
  },
  {
   "cell_type": "code",
   "execution_count": 91,
   "id": "swiss-adelaide",
   "metadata": {},
   "outputs": [
    {
     "data": {
      "text/plain": [
       "(15074,\n",
       " {'touristy': 724,\n",
       "  'hipster': 1293,\n",
       "  'romantic': 463,\n",
       "  'divey': 318,\n",
       "  'intimate': 409,\n",
       "  'trendy': 3135,\n",
       "  'upscale': 620,\n",
       "  'classy': 7342,\n",
       "  'casual': 11363})"
      ]
     },
     "execution_count": 91,
     "metadata": {},
     "output_type": "execute_result"
    }
   ],
   "source": [
    "df_ambience(amb_test)"
   ]
  },
  {
   "cell_type": "code",
   "execution_count": 159,
   "id": "earned-clark",
   "metadata": {},
   "outputs": [],
   "source": [
    "amb_train = amb_train.reset_index(drop=True)\n",
    "amb_dev = amb_dev.reset_index(drop=True)\n",
    "amb_test = amb_test.reset_index(drop=True)"
   ]
  },
  {
   "cell_type": "code",
   "execution_count": 160,
   "id": "qualified-tomorrow",
   "metadata": {},
   "outputs": [],
   "source": [
    "amb_train.to_csv('yelp_data/business_ambience_train.csv', index = False)\n",
    "amb_dev.to_csv('yelp_data/business_ambience_dev.csv', index = False)\n",
    "amb_test.to_csv('yelp_data/business_ambience_test.csv', index = False)"
   ]
  },
  {
   "cell_type": "markdown",
   "id": "raised-transformation",
   "metadata": {},
   "source": [
    "### Restaurant or not"
   ]
  },
  {
   "cell_type": "code",
   "execution_count": 131,
   "id": "frozen-politics",
   "metadata": {},
   "outputs": [],
   "source": [
    "for business in businesses:\n",
    "    if business['categories'] == ['Non_restaurant']:\n",
    "        business['restaurant'] = False\n",
    "    else:\n",
    "        business['restaurant'] = True\n",
    "    del business['categories']"
   ]
  },
  {
   "cell_type": "code",
   "execution_count": 134,
   "id": "floral-adult",
   "metadata": {},
   "outputs": [],
   "source": [
    "for business in businesses:\n",
    "    if 'ambience' in business:\n",
    "        del business['ambience']"
   ]
  },
  {
   "cell_type": "code",
   "execution_count": 140,
   "id": "refined-defeat",
   "metadata": {},
   "outputs": [],
   "source": [
    "businesses = pd.DataFrame(businesses)"
   ]
  },
  {
   "cell_type": "code",
   "execution_count": 137,
   "id": "signed-finding",
   "metadata": {},
   "outputs": [],
   "source": [
    "photos_businesses_all = []"
   ]
  },
  {
   "cell_type": "code",
   "execution_count": 138,
   "id": "precious-latest",
   "metadata": {},
   "outputs": [],
   "source": [
    "with open('yelp_photos/photos.json', 'r') as p:\n",
    "    for photo in p:\n",
    "        photo = json.loads(photo)\n",
    "        photos_businesses_all.append({'photo_id': photo['photo_id'],\n",
    "                      'business_id': photo['business_id']})"
   ]
  },
  {
   "cell_type": "code",
   "execution_count": 139,
   "id": "crude-relationship",
   "metadata": {},
   "outputs": [],
   "source": [
    "rest_or_not = pd.DataFrame(photos_businesses_all)"
   ]
  },
  {
   "cell_type": "code",
   "execution_count": 141,
   "id": "normal-custody",
   "metadata": {},
   "outputs": [],
   "source": [
    "rest_or_not = pd.merge(rest_or_not, businesses, on='business_id')"
   ]
  },
  {
   "cell_type": "code",
   "execution_count": 144,
   "id": "previous-dancing",
   "metadata": {},
   "outputs": [
    {
     "data": {
      "text/html": [
       "<div>\n",
       "<style scoped>\n",
       "    .dataframe tbody tr th:only-of-type {\n",
       "        vertical-align: middle;\n",
       "    }\n",
       "\n",
       "    .dataframe tbody tr th {\n",
       "        vertical-align: top;\n",
       "    }\n",
       "\n",
       "    .dataframe thead th {\n",
       "        text-align: right;\n",
       "    }\n",
       "</style>\n",
       "<table border=\"1\" class=\"dataframe\">\n",
       "  <thead>\n",
       "    <tr style=\"text-align: right;\">\n",
       "      <th></th>\n",
       "      <th>photo_id</th>\n",
       "      <th>business_id</th>\n",
       "      <th>restaurant</th>\n",
       "    </tr>\n",
       "  </thead>\n",
       "  <tbody>\n",
       "    <tr>\n",
       "      <th>0</th>\n",
       "      <td>Un_Og6jfhazVn7CxszkKEw</td>\n",
       "      <td>R1sIqGfKpF5f3HV3vyNsbg</td>\n",
       "      <td>True</td>\n",
       "    </tr>\n",
       "    <tr>\n",
       "      <th>1</th>\n",
       "      <td>vjjyXgKxc1Wu6v0aaHLFuQ</td>\n",
       "      <td>R1sIqGfKpF5f3HV3vyNsbg</td>\n",
       "      <td>True</td>\n",
       "    </tr>\n",
       "    <tr>\n",
       "      <th>2</th>\n",
       "      <td>VWWdSBLn7f2eaY16GruQOg</td>\n",
       "      <td>R1sIqGfKpF5f3HV3vyNsbg</td>\n",
       "      <td>True</td>\n",
       "    </tr>\n",
       "    <tr>\n",
       "      <th>3</th>\n",
       "      <td>fSJ2--legv4crDHIJWIOmA</td>\n",
       "      <td>R1sIqGfKpF5f3HV3vyNsbg</td>\n",
       "      <td>True</td>\n",
       "    </tr>\n",
       "    <tr>\n",
       "      <th>4</th>\n",
       "      <td>liRGQZfixy5anDcjCqGuPA</td>\n",
       "      <td>R1sIqGfKpF5f3HV3vyNsbg</td>\n",
       "      <td>True</td>\n",
       "    </tr>\n",
       "  </tbody>\n",
       "</table>\n",
       "</div>"
      ],
      "text/plain": [
       "                 photo_id             business_id  restaurant\n",
       "0  Un_Og6jfhazVn7CxszkKEw  R1sIqGfKpF5f3HV3vyNsbg        True\n",
       "1  vjjyXgKxc1Wu6v0aaHLFuQ  R1sIqGfKpF5f3HV3vyNsbg        True\n",
       "2  VWWdSBLn7f2eaY16GruQOg  R1sIqGfKpF5f3HV3vyNsbg        True\n",
       "3  fSJ2--legv4crDHIJWIOmA  R1sIqGfKpF5f3HV3vyNsbg        True\n",
       "4  liRGQZfixy5anDcjCqGuPA  R1sIqGfKpF5f3HV3vyNsbg        True"
      ]
     },
     "execution_count": 144,
     "metadata": {},
     "output_type": "execute_result"
    }
   ],
   "source": [
    "rest_or_not.head()"
   ]
  },
  {
   "cell_type": "code",
   "execution_count": 145,
   "id": "still-secret",
   "metadata": {},
   "outputs": [],
   "source": [
    "bus_train, bus_dev = train_test_split(rest_or_not, test_size = 0.2, random_state = 42)\n",
    "bus_dev, bus_test = train_test_split(bus_dev, test_size = 0.5, random_state = 42)"
   ]
  },
  {
   "cell_type": "code",
   "execution_count": 163,
   "id": "approximate-shoot",
   "metadata": {},
   "outputs": [
    {
     "data": {
      "text/html": [
       "<div>\n",
       "<style scoped>\n",
       "    .dataframe tbody tr th:only-of-type {\n",
       "        vertical-align: middle;\n",
       "    }\n",
       "\n",
       "    .dataframe tbody tr th {\n",
       "        vertical-align: top;\n",
       "    }\n",
       "\n",
       "    .dataframe thead th {\n",
       "        text-align: right;\n",
       "    }\n",
       "</style>\n",
       "<table border=\"1\" class=\"dataframe\">\n",
       "  <thead>\n",
       "    <tr style=\"text-align: right;\">\n",
       "      <th></th>\n",
       "      <th>photo_id</th>\n",
       "      <th>business_id</th>\n",
       "      <th>restaurant</th>\n",
       "    </tr>\n",
       "  </thead>\n",
       "  <tbody>\n",
       "    <tr>\n",
       "      <th>0</th>\n",
       "      <td>WGp63RIuT6C4qxboG3FgpQ</td>\n",
       "      <td>J7Hs5_PGlZajNRxGptGRvw</td>\n",
       "      <td>True</td>\n",
       "    </tr>\n",
       "    <tr>\n",
       "      <th>1</th>\n",
       "      <td>eKa8I6RGgi7W_HOpqFOgtA</td>\n",
       "      <td>LnBBOksOrzUiiDQkjUeMdg</td>\n",
       "      <td>True</td>\n",
       "    </tr>\n",
       "    <tr>\n",
       "      <th>2</th>\n",
       "      <td>jx9rraUeZ3JvazMvFLw0yw</td>\n",
       "      <td>MkGPncZD8oqp-AHkLW740g</td>\n",
       "      <td>True</td>\n",
       "    </tr>\n",
       "    <tr>\n",
       "      <th>3</th>\n",
       "      <td>8E3MwgLc-ggdDfokoYPd9Q</td>\n",
       "      <td>Ur7o-5FviIC9YmJqsGKR6A</td>\n",
       "      <td>True</td>\n",
       "    </tr>\n",
       "    <tr>\n",
       "      <th>4</th>\n",
       "      <td>eLVN8Y2DSSU2Gt4haHxwzA</td>\n",
       "      <td>KbyrRWuEeK6uEbtpAUgIdg</td>\n",
       "      <td>True</td>\n",
       "    </tr>\n",
       "    <tr>\n",
       "      <th>...</th>\n",
       "      <td>...</td>\n",
       "      <td>...</td>\n",
       "      <td>...</td>\n",
       "    </tr>\n",
       "    <tr>\n",
       "      <th>159995</th>\n",
       "      <td>aMvsc1kffaZU-c2qCRibTg</td>\n",
       "      <td>vBKwHwBqkFdxw4VetbYSxQ</td>\n",
       "      <td>True</td>\n",
       "    </tr>\n",
       "    <tr>\n",
       "      <th>159996</th>\n",
       "      <td>Fl4je3JGtt2h_UwrKo3xMw</td>\n",
       "      <td>3u3Xllz8NezyMjH6zsGp9w</td>\n",
       "      <td>True</td>\n",
       "    </tr>\n",
       "    <tr>\n",
       "      <th>159997</th>\n",
       "      <td>mErOCowqwADIKpLf98Rgmg</td>\n",
       "      <td>Xge6ajeuR7CEio9vSdFsJA</td>\n",
       "      <td>True</td>\n",
       "    </tr>\n",
       "    <tr>\n",
       "      <th>159998</th>\n",
       "      <td>TjjzxVtqKbSwT0NGFERbPA</td>\n",
       "      <td>8tLzmoG8Dluy80_iULO-Xg</td>\n",
       "      <td>True</td>\n",
       "    </tr>\n",
       "    <tr>\n",
       "      <th>159999</th>\n",
       "      <td>yqaKgFb17zJFbaX8e5r7Aw</td>\n",
       "      <td>Zi8Ywk36Ws_4zjw2gjMMFA</td>\n",
       "      <td>True</td>\n",
       "    </tr>\n",
       "  </tbody>\n",
       "</table>\n",
       "<p>160000 rows × 3 columns</p>\n",
       "</div>"
      ],
      "text/plain": [
       "                      photo_id             business_id  restaurant\n",
       "0       WGp63RIuT6C4qxboG3FgpQ  J7Hs5_PGlZajNRxGptGRvw        True\n",
       "1       eKa8I6RGgi7W_HOpqFOgtA  LnBBOksOrzUiiDQkjUeMdg        True\n",
       "2       jx9rraUeZ3JvazMvFLw0yw  MkGPncZD8oqp-AHkLW740g        True\n",
       "3       8E3MwgLc-ggdDfokoYPd9Q  Ur7o-5FviIC9YmJqsGKR6A        True\n",
       "4       eLVN8Y2DSSU2Gt4haHxwzA  KbyrRWuEeK6uEbtpAUgIdg        True\n",
       "...                        ...                     ...         ...\n",
       "159995  aMvsc1kffaZU-c2qCRibTg  vBKwHwBqkFdxw4VetbYSxQ        True\n",
       "159996  Fl4je3JGtt2h_UwrKo3xMw  3u3Xllz8NezyMjH6zsGp9w        True\n",
       "159997  mErOCowqwADIKpLf98Rgmg  Xge6ajeuR7CEio9vSdFsJA        True\n",
       "159998  TjjzxVtqKbSwT0NGFERbPA  8tLzmoG8Dluy80_iULO-Xg        True\n",
       "159999  yqaKgFb17zJFbaX8e5r7Aw  Zi8Ywk36Ws_4zjw2gjMMFA        True\n",
       "\n",
       "[160000 rows x 3 columns]"
      ]
     },
     "execution_count": 163,
     "metadata": {},
     "output_type": "execute_result"
    }
   ],
   "source": [
    "bus_train"
   ]
  },
  {
   "cell_type": "code",
   "execution_count": 151,
   "id": "dietary-mistake",
   "metadata": {},
   "outputs": [
    {
     "data": {
      "text/plain": [
       "20000"
      ]
     },
     "execution_count": 151,
     "metadata": {},
     "output_type": "execute_result"
    }
   ],
   "source": [
    "len(bus_dev)"
   ]
  },
  {
   "cell_type": "code",
   "execution_count": 161,
   "id": "complex-basis",
   "metadata": {},
   "outputs": [],
   "source": [
    "bus_train = bus_train.reset_index(drop=True)\n",
    "bus_dev = bus_dev.reset_index(drop=True)\n",
    "bus_test = bus_test.reset_index(drop=True)"
   ]
  },
  {
   "cell_type": "code",
   "execution_count": 162,
   "id": "distant-things",
   "metadata": {},
   "outputs": [],
   "source": [
    "bus_train.to_csv('yelp_data/business_restaurant_train.csv', index = False)\n",
    "bus_dev.to_csv('yelp_data/business_restaurant_dev.csv', index = False)\n",
    "bus_test.to_csv('yelp_data/business_restaurant_test.csv', index = False)"
   ]
  },
  {
   "cell_type": "code",
   "execution_count": null,
   "id": "interior-egyptian",
   "metadata": {},
   "outputs": [],
   "source": []
  }
 ],
 "metadata": {
  "kernelspec": {
   "display_name": "Python 3",
   "language": "python",
   "name": "python3"
  },
  "language_info": {
   "codemirror_mode": {
    "name": "ipython",
    "version": 3
   },
   "file_extension": ".py",
   "mimetype": "text/x-python",
   "name": "python",
   "nbconvert_exporter": "python",
   "pygments_lexer": "ipython3",
   "version": "3.6.9"
  }
 },
 "nbformat": 4,
 "nbformat_minor": 5
}
