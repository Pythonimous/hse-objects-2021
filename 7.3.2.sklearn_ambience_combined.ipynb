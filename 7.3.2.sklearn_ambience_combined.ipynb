{
 "cells": [
  {
   "cell_type": "code",
   "execution_count": 1,
   "id": "corresponding-vault",
   "metadata": {},
   "outputs": [],
   "source": [
    "import pandas as pd\n",
    "import numpy as np\n",
    "import pickle"
   ]
  },
  {
   "cell_type": "code",
   "execution_count": 2,
   "id": "disturbed-validity",
   "metadata": {},
   "outputs": [],
   "source": [
    "import os\n",
    "from tqdm.notebook import tqdm"
   ]
  },
  {
   "cell_type": "code",
   "execution_count": 3,
   "id": "mathematical-validity",
   "metadata": {},
   "outputs": [],
   "source": [
    "from metrics import multiclass_stats"
   ]
  },
  {
   "cell_type": "code",
   "execution_count": 5,
   "id": "resident-durham",
   "metadata": {},
   "outputs": [],
   "source": [
    "os.chdir('data')"
   ]
  },
  {
   "cell_type": "code",
   "execution_count": 6,
   "id": "ordinary-better",
   "metadata": {},
   "outputs": [],
   "source": [
    "br = pd.read_csv('business_ambience.csv')"
   ]
  },
  {
   "cell_type": "code",
   "execution_count": 7,
   "id": "yellow-vanilla",
   "metadata": {},
   "outputs": [
    {
     "data": {
      "text/html": [
       "<div>\n",
       "<style scoped>\n",
       "    .dataframe tbody tr th:only-of-type {\n",
       "        vertical-align: middle;\n",
       "    }\n",
       "\n",
       "    .dataframe tbody tr th {\n",
       "        vertical-align: top;\n",
       "    }\n",
       "\n",
       "    .dataframe thead th {\n",
       "        text-align: right;\n",
       "    }\n",
       "</style>\n",
       "<table border=\"1\" class=\"dataframe\">\n",
       "  <thead>\n",
       "    <tr style=\"text-align: right;\">\n",
       "      <th></th>\n",
       "      <th>photo_id</th>\n",
       "      <th>touristy</th>\n",
       "      <th>hipster</th>\n",
       "      <th>romantic</th>\n",
       "      <th>divey</th>\n",
       "      <th>intimate</th>\n",
       "      <th>upscale</th>\n",
       "    </tr>\n",
       "  </thead>\n",
       "  <tbody>\n",
       "    <tr>\n",
       "      <th>0</th>\n",
       "      <td>ZlTwL6uWx6rW_L9Df5RT8A</td>\n",
       "      <td>False</td>\n",
       "      <td>False</td>\n",
       "      <td>True</td>\n",
       "      <td>False</td>\n",
       "      <td>True</td>\n",
       "      <td>False</td>\n",
       "    </tr>\n",
       "    <tr>\n",
       "      <th>1</th>\n",
       "      <td>fHbSMxueQfXFRb9e-6bJuw</td>\n",
       "      <td>False</td>\n",
       "      <td>False</td>\n",
       "      <td>False</td>\n",
       "      <td>True</td>\n",
       "      <td>False</td>\n",
       "      <td>False</td>\n",
       "    </tr>\n",
       "    <tr>\n",
       "      <th>2</th>\n",
       "      <td>74oWvVVIjms9LjfHQOgxMQ</td>\n",
       "      <td>False</td>\n",
       "      <td>False</td>\n",
       "      <td>False</td>\n",
       "      <td>False</td>\n",
       "      <td>False</td>\n",
       "      <td>True</td>\n",
       "    </tr>\n",
       "    <tr>\n",
       "      <th>3</th>\n",
       "      <td>QY6c1OKsIpujF4MDHQdbag</td>\n",
       "      <td>False</td>\n",
       "      <td>True</td>\n",
       "      <td>False</td>\n",
       "      <td>False</td>\n",
       "      <td>False</td>\n",
       "      <td>False</td>\n",
       "    </tr>\n",
       "    <tr>\n",
       "      <th>4</th>\n",
       "      <td>0AYEzNJYFF2PeXo71cpKuw</td>\n",
       "      <td>False</td>\n",
       "      <td>True</td>\n",
       "      <td>False</td>\n",
       "      <td>False</td>\n",
       "      <td>False</td>\n",
       "      <td>False</td>\n",
       "    </tr>\n",
       "  </tbody>\n",
       "</table>\n",
       "</div>"
      ],
      "text/plain": [
       "                 photo_id  touristy  hipster  romantic  divey  intimate  \\\n",
       "0  ZlTwL6uWx6rW_L9Df5RT8A     False    False      True  False      True   \n",
       "1  fHbSMxueQfXFRb9e-6bJuw     False    False     False   True     False   \n",
       "2  74oWvVVIjms9LjfHQOgxMQ     False    False     False  False     False   \n",
       "3  QY6c1OKsIpujF4MDHQdbag     False     True     False  False     False   \n",
       "4  0AYEzNJYFF2PeXo71cpKuw     False     True     False  False     False   \n",
       "\n",
       "   upscale  \n",
       "0    False  \n",
       "1    False  \n",
       "2     True  \n",
       "3    False  \n",
       "4    False  "
      ]
     },
     "execution_count": 7,
     "metadata": {},
     "output_type": "execute_result"
    }
   ],
   "source": [
    "br.head()"
   ]
  },
  {
   "cell_type": "code",
   "execution_count": 8,
   "id": "bearing-relations",
   "metadata": {},
   "outputs": [],
   "source": [
    "feature_cols = ['touristy', 'hipster', 'romantic', 'divey', 'intimate', 'upscale']"
   ]
  },
  {
   "cell_type": "code",
   "execution_count": 9,
   "id": "hawaiian-abuse",
   "metadata": {},
   "outputs": [],
   "source": [
    "from sklearn.model_selection import train_test_split"
   ]
  },
  {
   "cell_type": "code",
   "execution_count": 10,
   "id": "extra-heater",
   "metadata": {},
   "outputs": [],
   "source": [
    "X_train_files, X_test_files, y_train, y_test = train_test_split(br.photo_id, br[feature_cols], train_size = 0.9, random_state=420, stratify=br[feature_cols])"
   ]
  },
  {
   "cell_type": "code",
   "execution_count": 11,
   "id": "behavioral-coating",
   "metadata": {},
   "outputs": [],
   "source": [
    "COCO_INSTANCE_CATEGORY_NAMES = [\n",
    "    '__background__', 'person', 'bicycle', 'car', 'motorcycle', 'airplane', 'bus',\n",
    "    'train', 'truck', 'boat', 'traffic light', 'fire hydrant', 'N/A', 'stop sign',\n",
    "    'parking meter', 'bench', 'bird', 'cat', 'dog', 'horse', 'sheep', 'cow',\n",
    "    'elephant', 'bear', 'zebra', 'giraffe', 'N/A', 'backpack', 'umbrella', 'N/A', 'N/A',\n",
    "    'handbag', 'tie', 'suitcase', 'frisbee', 'skis', 'snowboard', 'sports ball',\n",
    "    'kite', 'baseball bat', 'baseball glove', 'skateboard', 'surfboard', 'tennis racket',\n",
    "    'bottle', 'N/A', 'wine glass', 'cup', 'fork', 'knife', 'spoon', 'bowl',\n",
    "    'banana', 'apple', 'sandwich', 'orange', 'broccoli', 'carrot', 'hot dog', 'pizza',\n",
    "    'donut', 'cake', 'chair', 'couch', 'potted plant', 'bed', 'N/A', 'dining table',\n",
    "    'N/A', 'N/A', 'toilet', 'N/A', 'tv', 'laptop', 'mouse', 'remote', 'keyboard', 'cell phone',\n",
    "    'microwave', 'oven', 'toaster', 'sink', 'refrigerator', 'N/A', 'book',\n",
    "    'clock', 'vase', 'scissors', 'teddy bear', 'hair drier', 'toothbrush'\n",
    "]"
   ]
  },
  {
   "cell_type": "code",
   "execution_count": 12,
   "id": "ecological-olive",
   "metadata": {},
   "outputs": [],
   "source": [
    "with open('img_objects.pickle', 'rb') as io:\n",
    "    objects = pickle.load(io)"
   ]
  },
  {
   "cell_type": "code",
   "execution_count": 13,
   "id": "polish-montana",
   "metadata": {},
   "outputs": [],
   "source": [
    "trf_features = np.load('densenet_features.npz', allow_pickle = True)['arr_0'][()]"
   ]
  },
  {
   "cell_type": "code",
   "execution_count": 14,
   "id": "narrative-overall",
   "metadata": {},
   "outputs": [
    {
     "data": {
      "text/plain": [
       "[(('LYiu06twTYN5_HndA_b-Cg',),\n",
       "  [([(166.24751, 158.46727), (223.51633, 339.36807)], 46, 0.9968928),\n",
       "   ([(115.754234, 100.15254), (175.79247, 289.48053)], 44, 0.9934689),\n",
       "   ([(5.7081475, 143.40843), (57.751545, 327.2468)], 46, 0.99128866),\n",
       "   ([(84.24994, 52.882652), (170.16812, 136.35014)], 1, 0.9865284),\n",
       "   ([(4.960636, 227.64551), (220.60417, 397.3526)], 67, 0.96494514),\n",
       "   ([(0.8416633, 4.649881), (220.56383, 127.64469)], 79, 0.78191566),\n",
       "   ([(0.0, 222.43925), (18.95716, 284.204)], 47, 0.67385864),\n",
       "   ([(100.82414, 291.31363), (144.11972, 337.40964)], 61, 0.5718027)]),\n",
       " (('EyRUH511mIh3We4Ce0PFVg',),\n",
       "  [([(268.95145, 183.03993), (300.0, 228.78711)], 8, 0.79613465)])]"
      ]
     },
     "execution_count": 14,
     "metadata": {},
     "output_type": "execute_result"
    }
   ],
   "source": [
    "list(objects.items())[:2]"
   ]
  },
  {
   "cell_type": "code",
   "execution_count": 15,
   "id": "broad-stock",
   "metadata": {},
   "outputs": [],
   "source": [
    "vector_size = len(COCO_INSTANCE_CATEGORY_NAMES)"
   ]
  },
  {
   "cell_type": "code",
   "execution_count": 16,
   "id": "contrary-crystal",
   "metadata": {},
   "outputs": [],
   "source": [
    "binary_feature_vectors = {}"
   ]
  },
  {
   "cell_type": "code",
   "execution_count": 17,
   "id": "fuzzy-hazard",
   "metadata": {},
   "outputs": [
    {
     "data": {
      "application/vnd.jupyter.widget-view+json": {
       "model_id": "e1d6a86c3f7b47019cf9138649947896",
       "version_major": 2,
       "version_minor": 0
      },
      "text/plain": [
       "  0%|          | 0/84222 [00:00<?, ?it/s]"
      ]
     },
     "metadata": {},
     "output_type": "display_data"
    }
   ],
   "source": [
    "for name, boxes in tqdm(objects.items()):\n",
    "    confidence_vector = np.zeros(vector_size)\n",
    "    counts_vector = np.zeros(vector_size)\n",
    "    for box in boxes:\n",
    "        if box:\n",
    "            _, idx, confidence = box\n",
    "            confidence_vector[idx] = max(confidence_vector[idx], confidence)\n",
    "            counts_vector[idx] += 1\n",
    "    binary_feature_vectors[name[0]] = np.concatenate((confidence_vector, counts_vector))"
   ]
  },
  {
   "cell_type": "code",
   "execution_count": 18,
   "id": "fatal-character",
   "metadata": {},
   "outputs": [],
   "source": [
    "all_vectors = np.array(list(binary_feature_vectors.values()))"
   ]
  },
  {
   "cell_type": "code",
   "execution_count": 19,
   "id": "different-hometown",
   "metadata": {},
   "outputs": [],
   "source": [
    "empty_columns = []\n",
    "\n",
    "trans_arr = all_vectors.T\n",
    "for i in range(trans_arr.shape[0]):\n",
    "    if np.all(trans_arr[i] == trans_arr[i][0]):\n",
    "        empty_columns.append(i)"
   ]
  },
  {
   "cell_type": "code",
   "execution_count": 20,
   "id": "loaded-scotland",
   "metadata": {},
   "outputs": [],
   "source": [
    "for c in empty_columns[::-1]:\n",
    "    if c < len(COCO_INSTANCE_CATEGORY_NAMES):\n",
    "        del COCO_INSTANCE_CATEGORY_NAMES[c]\n",
    "    all_vectors = np.delete(all_vectors, c, 1)"
   ]
  },
  {
   "cell_type": "code",
   "execution_count": 21,
   "id": "naked-alaska",
   "metadata": {},
   "outputs": [],
   "source": [
    "names = list(binary_feature_vectors.keys())"
   ]
  },
  {
   "cell_type": "code",
   "execution_count": 22,
   "id": "electric-frost",
   "metadata": {},
   "outputs": [],
   "source": [
    "features = {\n",
    "    names[i]: np.concatenate((trf_features[names[i]], all_vectors[i])) for i in range(len(names))\n",
    "}"
   ]
  },
  {
   "cell_type": "code",
   "execution_count": 23,
   "id": "junior-expert",
   "metadata": {},
   "outputs": [],
   "source": [
    "X_train, X_test = [], []"
   ]
  },
  {
   "cell_type": "code",
   "execution_count": 24,
   "id": "devoted-algeria",
   "metadata": {},
   "outputs": [
    {
     "data": {
      "application/vnd.jupyter.widget-view+json": {
       "model_id": "7d5b4a993df0415b90b60de607e54458",
       "version_major": 2,
       "version_minor": 0
      },
      "text/plain": [
       "  0%|          | 0/29635 [00:00<?, ?it/s]"
      ]
     },
     "metadata": {},
     "output_type": "display_data"
    }
   ],
   "source": [
    "for filename in tqdm(X_train_files):\n",
    "    X_train.append(features[filename])"
   ]
  },
  {
   "cell_type": "code",
   "execution_count": 25,
   "id": "appropriate-native",
   "metadata": {},
   "outputs": [
    {
     "data": {
      "application/vnd.jupyter.widget-view+json": {
       "model_id": "f2da47a6f6164389b73b23f31aeae8c1",
       "version_major": 2,
       "version_minor": 0
      },
      "text/plain": [
       "  0%|          | 0/3293 [00:00<?, ?it/s]"
      ]
     },
     "metadata": {},
     "output_type": "display_data"
    }
   ],
   "source": [
    "for filename in tqdm(X_test_files):\n",
    "    X_test.append(features[filename])"
   ]
  },
  {
   "cell_type": "code",
   "execution_count": 26,
   "id": "olive-palmer",
   "metadata": {},
   "outputs": [],
   "source": [
    "X_train = np.array(X_train)\n",
    "X_test = np.array(X_test)"
   ]
  },
  {
   "cell_type": "code",
   "execution_count": 27,
   "id": "corresponding-korea",
   "metadata": {},
   "outputs": [
    {
     "data": {
      "text/plain": [
       "(3293, 1184)"
      ]
     },
     "execution_count": 27,
     "metadata": {},
     "output_type": "execute_result"
    }
   ],
   "source": [
    "X_test.shape"
   ]
  },
  {
   "cell_type": "code",
   "execution_count": 28,
   "id": "aging-conclusion",
   "metadata": {},
   "outputs": [],
   "source": [
    "y_train = y_train.to_numpy(dtype='int')\n",
    "y_test = y_test.to_numpy(dtype='int')"
   ]
  },
  {
   "cell_type": "code",
   "execution_count": 29,
   "id": "usual-graduation",
   "metadata": {},
   "outputs": [],
   "source": [
    "from sklearn.pipeline import make_pipeline\n",
    "from sklearn.preprocessing import StandardScaler\n",
    "from sklearn.multioutput import MultiOutputClassifier\n",
    "from sklearn.linear_model import LogisticRegression\n",
    "from sklearn.naive_bayes import BernoulliNB\n",
    "from sklearn.svm import SVC\n",
    "from sklearn.ensemble import RandomForestClassifier\n",
    "from sklearn.metrics import classification_report, hamming_loss, f1_score, roc_auc_score"
   ]
  },
  {
   "cell_type": "code",
   "execution_count": 30,
   "id": "exceptional-martial",
   "metadata": {},
   "outputs": [],
   "source": [
    "lr_clf = make_pipeline(StandardScaler(),\n",
    "                       MultiOutputClassifier(\n",
    "                           LogisticRegression(max_iter=10000,\n",
    "                                              random_state=42,\n",
    "                                              class_weight='balanced'))\n",
    "                      ).fit(X_train, y_train)"
   ]
  },
  {
   "cell_type": "code",
   "execution_count": 30,
   "id": "mathematical-representative",
   "metadata": {},
   "outputs": [],
   "source": [
    "y_pred = lr_clf.predict(X_test)"
   ]
  },
  {
   "cell_type": "code",
   "execution_count": 33,
   "id": "lovely-administrator",
   "metadata": {},
   "outputs": [],
   "source": [
    "test_filenames = list(X_test_files)"
   ]
  },
  {
   "cell_type": "code",
   "execution_count": 34,
   "id": "peaceful-river",
   "metadata": {},
   "outputs": [],
   "source": [
    "mispredicted_list = []"
   ]
  },
  {
   "cell_type": "code",
   "execution_count": 35,
   "id": "comfortable-conviction",
   "metadata": {},
   "outputs": [],
   "source": [
    "for i in range(len(test_filenames)):\n",
    "    mispredicted = {}\n",
    "    if not np.array_equal(y_pred[i], y_test[i]):\n",
    "        mispredicted['filename'] = test_filenames[i]\n",
    "        mispredicted['actual'] = y_test[i]\n",
    "        mispredicted['prediction'] = y_pred[i]\n",
    "        mispredicted_list.append(mispredicted)"
   ]
  },
  {
   "cell_type": "code",
   "execution_count": 36,
   "id": "genuine-warning",
   "metadata": {},
   "outputs": [],
   "source": [
    "with open('comparison/ambience_lr_combined_binary_mispredicted.pickle', 'wb') as a:\n",
    "    pickle.dump(mispredicted_list, a)"
   ]
  },
  {
   "cell_type": "code",
   "execution_count": 37,
   "id": "curious-experience",
   "metadata": {},
   "outputs": [
    {
     "name": "stderr",
     "output_type": "stream",
     "text": [
      "/home/ophelion/venv/yelp/lib/python3.6/site-packages/sklearn/metrics/_classification.py:1248: UndefinedMetricWarning: Precision and F-score are ill-defined and being set to 0.0 in samples with no predicted labels. Use `zero_division` parameter to control this behavior.\n",
      "  _warn_prf(average, modifier, msg_start, len(result))\n"
     ]
    },
    {
     "data": {
      "text/plain": [
       "{'hamming_score': 0.3581890879643689,\n",
       " 'hamming_loss': 0.3062556938961433,\n",
       " 'f1_score': 0.4249066619590178,\n",
       " 'roc_auc_score': 0.6742230438060256}"
      ]
     },
     "execution_count": 37,
     "metadata": {},
     "output_type": "execute_result"
    }
   ],
   "source": [
    "report, stats = multiclass_stats(y_test, y_pred)\n",
    "stats"
   ]
  },
  {
   "cell_type": "code",
   "execution_count": 38,
   "id": "personalized-westminster",
   "metadata": {},
   "outputs": [
    {
     "name": "stdout",
     "output_type": "stream",
     "text": [
      "              precision    recall  f1-score   support\n",
      "\n",
      "           0       0.39      0.64      0.48       730\n",
      "           1       0.55      0.65      0.59      1253\n",
      "           2       0.23      0.59      0.33       464\n",
      "           3       0.23      0.67      0.34       304\n",
      "           4       0.22      0.61      0.32       440\n",
      "           5       0.36      0.71      0.48       585\n",
      "\n",
      "   micro avg       0.34      0.65      0.45      3776\n",
      "   macro avg       0.33      0.65      0.42      3776\n",
      "weighted avg       0.39      0.65      0.47      3776\n",
      " samples avg       0.37      0.65      0.45      3776\n",
      "\n"
     ]
    }
   ],
   "source": [
    "print(report)"
   ]
  },
  {
   "cell_type": "code",
   "execution_count": 39,
   "id": "aquatic-profession",
   "metadata": {},
   "outputs": [],
   "source": [
    "nb_clf = make_pipeline(StandardScaler(),\n",
    "                       MultiOutputClassifier(\n",
    "                           BernoulliNB())\n",
    "                       ).fit(X_train, y_train)"
   ]
  },
  {
   "cell_type": "code",
   "execution_count": 40,
   "id": "hispanic-diary",
   "metadata": {},
   "outputs": [],
   "source": [
    "y_pred = nb_clf.predict(X_test)"
   ]
  },
  {
   "cell_type": "code",
   "execution_count": 41,
   "id": "valid-affairs",
   "metadata": {},
   "outputs": [
    {
     "name": "stderr",
     "output_type": "stream",
     "text": [
      "/home/ophelion/venv/yelp/lib/python3.6/site-packages/sklearn/metrics/_classification.py:1248: UndefinedMetricWarning: Precision and F-score are ill-defined and being set to 0.0 in samples with no predicted labels. Use `zero_division` parameter to control this behavior.\n",
      "  _warn_prf(average, modifier, msg_start, len(result))\n"
     ]
    },
    {
     "data": {
      "text/plain": [
       "{'hamming_score': 0.25890778418868304,\n",
       " 'hamming_loss': 0.4047474440732868,\n",
       " 'f1_score': 0.34632829956449296,\n",
       " 'roc_auc_score': 0.6026713234277684}"
      ]
     },
     "execution_count": 41,
     "metadata": {},
     "output_type": "execute_result"
    }
   ],
   "source": [
    "report, stats = multiclass_stats(y_test, y_pred)\n",
    "stats"
   ]
  },
  {
   "cell_type": "code",
   "execution_count": 42,
   "id": "representative-least",
   "metadata": {},
   "outputs": [
    {
     "name": "stdout",
     "output_type": "stream",
     "text": [
      "              precision    recall  f1-score   support\n",
      "\n",
      "           0       0.30      0.56      0.39       730\n",
      "           1       0.49      0.61      0.54      1253\n",
      "           2       0.19      0.57      0.28       464\n",
      "           3       0.15      0.73      0.25       304\n",
      "           4       0.17      0.61      0.27       440\n",
      "           5       0.25      0.58      0.35       585\n",
      "\n",
      "   micro avg       0.26      0.60      0.36      3776\n",
      "   macro avg       0.26      0.61      0.35      3776\n",
      "weighted avg       0.31      0.60      0.39      3776\n",
      " samples avg       0.27      0.60      0.35      3776\n",
      "\n"
     ]
    }
   ],
   "source": [
    "print(report)"
   ]
  },
  {
   "cell_type": "code",
   "execution_count": 43,
   "id": "changing-dispatch",
   "metadata": {},
   "outputs": [],
   "source": [
    "rf_clf = make_pipeline(StandardScaler(),\n",
    "                        RandomForestClassifier(random_state=42)\n",
    "                       ).fit(X_train, y_train)"
   ]
  },
  {
   "cell_type": "code",
   "execution_count": 44,
   "id": "romance-creativity",
   "metadata": {},
   "outputs": [],
   "source": [
    "y_pred = rf_clf.predict(X_test)"
   ]
  },
  {
   "cell_type": "code",
   "execution_count": 45,
   "id": "subsequent-wealth",
   "metadata": {},
   "outputs": [
    {
     "name": "stderr",
     "output_type": "stream",
     "text": [
      "/home/ophelion/venv/yelp/lib/python3.6/site-packages/sklearn/metrics/_classification.py:1248: UndefinedMetricWarning: Precision and F-score are ill-defined and being set to 0.0 in labels with no predicted samples. Use `zero_division` parameter to control this behavior.\n",
      "  _warn_prf(average, modifier, msg_start, len(result))\n",
      "/home/ophelion/venv/yelp/lib/python3.6/site-packages/sklearn/metrics/_classification.py:1248: UndefinedMetricWarning: Precision and F-score are ill-defined and being set to 0.0 in samples with no predicted labels. Use `zero_division` parameter to control this behavior.\n",
      "  _warn_prf(average, modifier, msg_start, len(result))\n"
     ]
    },
    {
     "data": {
      "text/plain": [
       "{'hamming_score': 0.07465330499038364,\n",
       " 'hamming_loss': 0.1832169247899585,\n",
       " 'f1_score': 0.0656697988211897,\n",
       " 'roc_auc_score': 0.5153544943690623}"
      ]
     },
     "execution_count": 45,
     "metadata": {},
     "output_type": "execute_result"
    }
   ],
   "source": [
    "report, stats = multiclass_stats(y_test, y_pred)\n",
    "stats"
   ]
  },
  {
   "cell_type": "code",
   "execution_count": 46,
   "id": "indian-christopher",
   "metadata": {},
   "outputs": [
    {
     "name": "stdout",
     "output_type": "stream",
     "text": [
      "              precision    recall  f1-score   support\n",
      "\n",
      "           0       0.95      0.05      0.09       730\n",
      "           1       0.69      0.17      0.27      1253\n",
      "           2       0.00      0.00      0.00       464\n",
      "           3       0.00      0.00      0.00       304\n",
      "           4       0.00      0.00      0.00       440\n",
      "           5       0.82      0.02      0.03       585\n",
      "\n",
      "   micro avg       0.72      0.07      0.12      3776\n",
      "   macro avg       0.41      0.04      0.07      3776\n",
      "weighted avg       0.54      0.07      0.11      3776\n",
      " samples avg       0.08      0.07      0.08      3776\n",
      "\n"
     ]
    }
   ],
   "source": [
    "print(report)"
   ]
  },
  {
   "cell_type": "code",
   "execution_count": null,
   "id": "adjusted-symphony",
   "metadata": {},
   "outputs": [],
   "source": []
  }
 ],
 "metadata": {
  "kernelspec": {
   "display_name": "Python 3",
   "language": "python",
   "name": "python3"
  },
  "language_info": {
   "codemirror_mode": {
    "name": "ipython",
    "version": 3
   },
   "file_extension": ".py",
   "mimetype": "text/x-python",
   "name": "python",
   "nbconvert_exporter": "python",
   "pygments_lexer": "ipython3",
   "version": "3.6.9"
  }
 },
 "nbformat": 4,
 "nbformat_minor": 5
}
